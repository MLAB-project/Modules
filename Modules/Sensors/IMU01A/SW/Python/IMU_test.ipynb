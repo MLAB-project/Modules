{
 "metadata": {
  "name": ""
 },
 "nbformat": 3,
 "nbformat_minor": 0,
 "worksheets": [
  {
   "cells": [
    {
     "cell_type": "markdown",
     "metadata": {},
     "source": [
      "Uk\u00e1zka pou\u017eit\u00ed n\u00e1stroje IPython na manipulaci se senzorov\u00fdmi daty modulu IMU01A\n",
      "=======\n",
      "\n",
      "P\u0159\u00edklad vyu\u017e\u00edv\u00e1 modulovou stavebnici MLAB a jej\u00ed knihovnu [pymlab](https://github.com/MLAB-project/MLAB-I2c-modules).\n",
      "Sn\u00edma\u010d je k po\u010d\u00edta\u010di p\u0159ipojen\u00fd p\u0159es rozhradn\u00ed USB a data jsou vy\u010d\u00edt\u00e1na p\u0159es [I\u00b2C](http://wiki.mlab.cz/doku.php?id=cs:i2c)\n",
      "\n",
      "Pou\u017eit\u00fd akcelerometr [MMA8451Q](http://www.freescale.com/webapp/sps/site/prod_summary.jsp?code=MMA8451Q) m\u00e1 n\u00e1sleduj\u00edc\u00ed katalogov\u00e9 parametry: \n",
      "\n",
      "*  \u00b12g/\u00b14g/\u00b18g dynamically selectable full-scale\n",
      "*  Output data rates (ODR) from 1.56 Hz to 800 Hz\n",
      "*  99 \u03bcg/\u221aHz noise\n",
      "\n",
      "Zprovozn\u011bn\u00ed demo k\u00f3du\n",
      "---------------------\n",
      "\n",
      "Nejd\u0159\u00edve zjist\u00edme zda m\u00e1me p\u0159\u00edstup pro z\u00e1pis a \u010dten\u00ed do syst\u00e9mov\u00e9ho za\u0159\u00edzen\u00ed. A jak\u00e9 \u010d\u00edslo m\u00e1 I\u00b2C sb\u011brnice na  kterou m\u00e1me p\u0159ipojen\u00e1 \u010didla. \n",
      "P\u0159\u00edpadn\u011b je mo\u017en\u00e9  tuto \u010d\u00e1st p\u0159esko\u010dit a vyu\u017e\u00edt p\u0159\u00edmo predem ulo\u017een\u00fd datov\u00fd set.\n"
     ]
    },
    {
     "cell_type": "code",
     "collapsed": false,
     "input": [
      "!i2cdetect -l"
     ],
     "language": "python",
     "metadata": {},
     "outputs": [
      {
       "output_type": "stream",
       "stream": "stdout",
       "text": [
        "i2c-0\ti2c       \ti915 gmbus ssc                  \tI2C adapter\r\n",
        "i2c-1\ti2c       \ti915 gmbus vga                  \tI2C adapter\r\n",
        "i2c-2\ti2c       \ti915 gmbus panel                \tI2C adapter\r\n",
        "i2c-3\ti2c       \ti915 gmbus dpc                  \tI2C adapter\r\n",
        "i2c-4\ti2c       \ti915 gmbus dpb                  \tI2C adapter\r\n",
        "i2c-5\ti2c       \ti915 gmbus dpd                  \tI2C adapter\r\n",
        "i2c-6\ti2c       \tDPDDC-B                         \tI2C adapter\r\n",
        "i2c-7\ti2c       \ti2c-tiny-usb at bus 001 device 025\tI2C adapter\r\n"
       ]
      }
     ],
     "prompt_number": 1
    },
    {
     "cell_type": "markdown",
     "metadata": {},
     "source": [
      "Proto\u017ee pro p\u0159ipojen\u00ed \u010didel k po\u010d\u00edta\u010di pou\u017e\u00edv\u00e1me adapt\u00e9r i2c-tiny-usb. Vid\u00edme, \u017ee sb\u011brnice m\u00e1 aktu\u00e1ln\u011b ozna\u010den\u00ed nap\u0159\u00edklad i2c-8. \n",
      "\n",
      "V p\u0159\u00edpad\u011b, \u017ee v\u00fd\u0161e uveden\u00fd p\u0159\u00edklad vr\u00e1t\u00ed chybu, nebo pojmenov\u00e1n\u00ed \"unknown\" tak nem\u00e1me p\u0159\u00edstup k syst\u00e9mov\u00fdm rozhran\u00edm. Ten z\u00edsk\u00e1me vytvo\u0159en\u00edm souboru s n\u00e1sleduj\u00edc\u00edm obsahem ve slo\u017ece:  /etc/udev/rules.d/i2c-devices.rules"
     ]
    },
    {
     "cell_type": "raw",
     "metadata": {},
     "source": [
      "KERNEL==\"i2c-[0-9]*\", GROUP=\"i2c\""
     ]
    },
    {
     "cell_type": "markdown",
     "metadata": {},
     "source": [
      "Toto ozna\u010den\u00ed budeme je\u0161t\u011b d\u00e1le pot\u0159ebovat, proto si jej ulo\u017e\u00edme da prom\u011bnn\u00e9. "
     ]
    },
    {
     "cell_type": "code",
     "collapsed": false,
     "input": [
      "port = 7"
     ],
     "language": "python",
     "metadata": {},
     "outputs": [],
     "prompt_number": 2
    },
    {
     "cell_type": "markdown",
     "metadata": {},
     "source": [
      "Budeme pokra\u010dovat na\u010dten\u00edm pot\u0159ebn\u00fdch modul\u016f pro zach\u00e1zen\u00ed s I\u00b2C sn\u00edma\u010di."
     ]
    },
    {
     "cell_type": "code",
     "collapsed": false,
     "input": [
      "import time\n",
      "import datetime\n",
      "import sys\n",
      "\n",
      "from pymlab import config\n",
      "import matplotlib.pyplot as plt\n",
      "import numpy as np"
     ],
     "language": "python",
     "metadata": {},
     "outputs": [],
     "prompt_number": 3
    },
    {
     "cell_type": "markdown",
     "metadata": {},
     "source": [
      "Nyn\u00ed si nadefinujeme strukturu p\u0159ipojen\u00ed jednotliv\u00fdch \u010didel na I\u00b2C sb\u011brnici."
     ]
    },
    {
     "cell_type": "code",
     "collapsed": false,
     "input": [
      "cfg = config.Config(\n",
      "    i2c = {\n",
      "        \"port\": port,\n",
      "    },\n",
      "    bus = [\n",
      "        {\n",
      "            \"type\": \"i2chub\",\n",
      "            \"address\": 0x72,\n",
      "            \n",
      "            \"children\": [\n",
      "                {\"name\": \"acc\", \"type\": \"imu01_acc\", \"sensitivity\": 4.0, \"channel\": 0, },   \n",
      "            ],\n",
      "        },\n",
      "    ],\n",
      ")"
     ],
     "language": "python",
     "metadata": {},
     "outputs": [],
     "prompt_number": 30
    },
    {
     "cell_type": "markdown",
     "metadata": {},
     "source": [
      "Tuto strukturu inicializujeme, aby jsme dos\u00e1hli definovan\u00e9 konfigurace \u010didel."
     ]
    },
    {
     "cell_type": "code",
     "collapsed": false,
     "input": [
      "cfg.initialize()\n",
      "acc = cfg.get_device(\"acc\")\n",
      "time.sleep(0.5)"
     ],
     "language": "python",
     "metadata": {},
     "outputs": [
      {
       "output_type": "stream",
       "stream": "stderr",
       "text": [
        "WARNING:pymlab.sensors.iic:HID device does not exist, we will try SMBus directly...\n"
       ]
      }
     ],
     "prompt_number": "*"
    },
    {
     "cell_type": "markdown",
     "metadata": {},
     "source": [
      "\u010cten\u00ed dat z akcelerometru\n",
      "-------------------------\n",
      "\n",
      "Nyn\u00ed u\u017e m\u016f\u017eeme p\u0159\u00edmo komunikovat se za\u0159\u00edzen\u00edm pojmenovan\u00fdm jako acc."
     ]
    },
    {
     "cell_type": "code",
     "collapsed": false,
     "input": [
      "import sys\n",
      "import time\n",
      "from IPython.display import clear_output\n",
      "\n",
      "MEASUREMENTS = 1000\n",
      "list_meas = []\n",
      "#    acc.route()  V p\u0159\u00edpad\u011b v\u00edce \u010didel je pot\u0159eba ke ka\u017ed\u00e9mu p\u0159ed jeho pou\u017eit\u00edm nechat vyroutovat cesutu na sb\u011brnici.\n",
      "\n",
      "for n in range(MEASUREMENTS):\n",
      "    clear_output()\n",
      "    (x, y, z) = acc.axes()\n",
      "    list_meas.append([x, y, z])\n",
      "    print (n, list_meas[n])\n",
      "    sys.stdout.flush()"
     ],
     "language": "python",
     "metadata": {},
     "outputs": [
      {
       "output_type": "stream",
       "stream": "stdout",
       "text": [
        "(999, [0.038024999999999996, -0.00975, 0.966225])\n"
       ]
      }
     ],
     "prompt_number": 7
    },
    {
     "cell_type": "code",
     "collapsed": false,
     "input": [
      "np.savez(\"calibration_data_3Dset\", data=list_meas)"
     ],
     "language": "python",
     "metadata": {},
     "outputs": [],
     "prompt_number": 8
    },
    {
     "cell_type": "markdown",
     "metadata": {},
     "source": [
      "Kalibrace akcelerometru\n",
      "-----------------------\n",
      "\n",
      "Nam\u011b\u0159en\u00e1 data m\u016f\u017eeme tak\u00e9 z\u00edskat z p\u0159edem ulo\u017een\u00e9ho souboru. V n\u00e1sleduj\u00edc\u00edm bloku je otev\u0159en soubor s referen\u010dn\u00edmi daty, kter\u00fd se nach\u00e1z\u00ed v dokumenta\u010dn\u00ed slo\u017ece mudulu IMU01A. \n"
     ]
    },
    {
     "cell_type": "code",
     "collapsed": false,
     "input": [
      "data = np.load('./calibration_data_3Dset.npz')\n",
      "list_meas=data['data']"
     ],
     "language": "python",
     "metadata": {},
     "outputs": [],
     "prompt_number": 16
    },
    {
     "cell_type": "code",
     "collapsed": false,
     "input": [
      "data = np.load('./calibration_data_set.npz')\n",
      "x=data['x']\n",
      "y=data['y']\n",
      "z=data['z']"
     ],
     "language": "python",
     "metadata": {},
     "outputs": []
    },
    {
     "cell_type": "code",
     "collapsed": false,
     "input": [
      "from mpl_toolkits.mplot3d.axes3d import Axes3D\n",
      "#%pylab qt\n",
      "%pylab inline\n",
      "fig = plt.figure()\n",
      "ax = Axes3D(fig)\n",
      "p = ax.scatter(x, y, z)\n",
      "#pyplot.show()\n"
     ],
     "language": "python",
     "metadata": {},
     "outputs": [
      {
       "output_type": "stream",
       "stream": "stdout",
       "text": [
        "Populating the interactive namespace from numpy and matplotlib\n"
       ]
      },
      {
       "metadata": {},
       "output_type": "display_data",
       "png": "[encoded data removed]",
       "text": [
        "<matplotlib.figure.Figure at 0x7fc77d537c90>"
       ]
      }
     ],
     "prompt_number": 17
    },
    {
     "cell_type": "code",
     "collapsed": false,
     "input": [
      "import scipy\n",
      "from scipy import optimize\n",
      "import calibration_utils\n",
      "\n",
      "sensor_ref = 9.81\n",
      "sensor_res = 10\n",
      "noise_window = 20\n",
      "noise_threshold = 40"
     ],
     "language": "python",
     "metadata": {},
     "outputs": [],
     "prompt_number": 18
    },
    {
     "cell_type": "code",
     "collapsed": false,
     "input": [
      "measurements = np.array(list_meas)"
     ],
     "language": "python",
     "metadata": {},
     "outputs": [],
     "prompt_number": 19
    },
    {
     "cell_type": "code",
     "collapsed": false,
     "input": [
      "meas_median=scipy.median(scipy.array([scipy.linalg.norm(v) for v in measurements]))\n",
      "noise_threshold = meas_median * 0.1\n",
      "print noise_threshold\n",
      "flt_meas, flt_idx = calibration_utils.filter_meas(measurements, noise_window, noise_threshold)\n",
      "print(\"remaining \"+str(len(flt_meas))+\" after filtering\")"
     ],
     "language": "python",
     "metadata": {},
     "outputs": [
      {
       "output_type": "stream",
       "stream": "stdout",
       "text": [
        "0.0973014827316\n",
        "remaining 703 after filtering\n"
       ]
      }
     ],
     "prompt_number": 20
    },
    {
     "cell_type": "code",
     "collapsed": false,
     "input": [
      "    p0 = calibration_utils.get_min_max_guess(flt_meas, sensor_ref)\n",
      "    cp0, np0 = calibration_utils.scale_measurements(flt_meas, p0)\n",
      "    print(\"initial guess : avg \"+str(np0.mean())+\" std \"+str(np0.std()))\n",
      "\n",
      "    def err_func(p, meas, y):\n",
      "        cp, np = calibration_utils.scale_measurements(meas, p)\n",
      "        err = y*scipy.ones(len(meas)) - np\n",
      "        return err"
     ],
     "language": "python",
     "metadata": {},
     "outputs": [
      {
       "output_type": "stream",
       "stream": "stdout",
       "text": [
        "initial guess : avg 9.55977014083 std 0.17596103611\n"
       ]
      }
     ],
     "prompt_number": 21
    },
    {
     "cell_type": "code",
     "collapsed": false,
     "input": [
      "    p1, cov, info, msg, success = optimize.leastsq(err_func, p0[:], args=(flt_meas, sensor_ref), full_output=1)\n",
      "    if not success in [1, 2, 3, 4]:\n",
      "        print(\"Optimization error: \", msg)\n",
      "        print(\"Please try to provide a clean logfile.\")\n",
      "        sys.exit(1)\n",
      "\n",
      "    cp1, np1 = calibration_utils.scale_measurements(flt_meas, p1)\n",
      "    print(\"optimized guess : avg \"+str(np1.mean())+\" std \"+str(np1.std()))"
     ],
     "language": "python",
     "metadata": {},
     "outputs": [
      {
       "output_type": "stream",
       "stream": "stdout",
       "text": [
        "optimized guess : avg 9.80797237599 std 0.141020849641\n"
       ]
      }
     ],
     "prompt_number": 22
    },
    {
     "cell_type": "code",
     "collapsed": false,
     "input": [
      "%pylab qt\n",
      "#%pylab inline\n",
      "calibration_utils.plot_results(True, measurements, flt_idx, flt_meas, cp0, np0, cp1, np1, sensor_ref)"
     ],
     "language": "python",
     "metadata": {},
     "outputs": [
      {
       "output_type": "stream",
       "stream": "stdout",
       "text": [
        "Populating the interactive namespace from numpy and matplotlib\n"
       ]
      }
     ],
     "prompt_number": 24
    },
    {
     "cell_type": "markdown",
     "metadata": {},
     "source": [
      "\u010cten\u00ed dat z gyroskopu\n",
      "---------------------\n",
      "\n"
     ]
    },
    {
     "cell_type": "code",
     "collapsed": false,
     "input": [
      "cfg = config.Config(\n",
      "    i2c = {\n",
      "        \"port\": port,\n",
      "    },\n",
      "\n",
      "\tbus = [\n",
      "\t\t{\n",
      "            \"type\": \"i2chub\",\n",
      "            \"address\": 0x72,\n",
      "            \n",
      "            \"children\": [\n",
      "                {\"name\": \"gyro\", \"type\": \"imu01_gyro\", \"channel\": 0, }\n",
      "            ],\n",
      "\t\t},\n",
      "\t],\n",
      ")\n",
      "\n",
      "cfg.initialize()\n",
      "#acc = cfg.get_device(\"acc\")\n",
      "gyro = cfg.get_device(\"gyro\")\n",
      "sys.stdout.write(\" MLAB accelerometer sensor IMU01A module example \\r\\n\")\n",
      "time.sleep(0.5)\n",
      "gyro.route()"
     ],
     "language": "python",
     "metadata": {},
     "outputs": [
      {
       "output_type": "stream",
       "stream": "stderr",
       "text": [
        "WARNING:pymlab.sensors.iic:HID device does not exist, we will try SMBus directly...\n"
       ]
      },
      {
       "output_type": "stream",
       "stream": "stdout",
       "text": [
        " MLAB accelerometer sensor IMU01A module example \r\n"
       ]
      },
      {
       "metadata": {},
       "output_type": "pyout",
       "prompt_number": 4,
       "text": [
        "True"
       ]
      }
     ],
     "prompt_number": 4
    },
    {
     "cell_type": "code",
     "collapsed": false,
     "input": [
      "import sys\n",
      "import time\n",
      "from IPython.display import clear_output\n",
      "\n",
      "MEASUREMENTS = 100\n",
      "list_meas = []\n",
      "#    acc.route()  V p\u0159\u00edpad\u011b v\u00edce \u010didel je pot\u0159eba ke ka\u017ed\u00e9mu p\u0159ed jeho pou\u017eit\u00edm nechat vyroutovat cesutu na sb\u011brnici.\n",
      "\n",
      "for n in range(MEASUREMENTS):\n",
      "    clear_output()\n",
      "    (x, y, z) = gyro.axes()\n",
      "    list_meas.append([x, y, z])\n",
      "    print (n, list_meas[n])\n",
      "    sys.stdout.flush()"
     ],
     "language": "python",
     "metadata": {},
     "outputs": [
      {
       "output_type": "stream",
       "stream": "stdout",
       "text": [
        "(99, [195, -118, 7])\n"
       ]
      }
     ],
     "prompt_number": 5
    },
    {
     "cell_type": "code",
     "collapsed": false,
     "input": [
      "measurements = np.array(list_meas)\n",
      "\n",
      "%pylab qt\n",
      "plt.subplot(1, 1, 1)\n",
      "plt.plot(measurements[:, 0])\n",
      "plt.plot(measurements[:, 1])\n",
      "plt.plot(measurements[:, 2])\n",
      "plt.xlabel('sample number')\n",
      "plt.ylabel('ADC')\n",
      "plt.title('Raw sensors')"
     ],
     "language": "python",
     "metadata": {},
     "outputs": [
      {
       "output_type": "stream",
       "stream": "stdout",
       "text": [
        "Populating the interactive namespace from numpy and matplotlib\n"
       ]
      },
      {
       "metadata": {},
       "output_type": "pyout",
       "prompt_number": 6,
       "text": [
        "<matplotlib.text.Text at 0x7f5b38053450>"
       ]
      }
     ],
     "prompt_number": 6
    },
    {
     "cell_type": "code",
     "collapsed": false,
     "input": [
      "help(map)"
     ],
     "language": "python",
     "metadata": {},
     "outputs": [
      {
       "output_type": "stream",
       "stream": "stdout",
       "text": [
        "Help on built-in function map in module __builtin__:\n",
        "\n",
        "map(...)\n",
        "    map(function, sequence[, sequence, ...]) -> list\n",
        "    \n",
        "    Return a list of the results of applying the function to the items of\n",
        "    the argument sequence(s).  If more than one sequence is given, the\n",
        "    function is called with an argument list consisting of the corresponding\n",
        "    item of each sequence, substituting None for missing values when not all\n",
        "    sequences have the same length.  If the function is None, return a list of\n",
        "    the items of the sequence (or a list of tuples if more than one sequence).\n",
        "\n"
       ]
      }
     ],
     "prompt_number": 10
    },
    {
     "cell_type": "code",
     "collapsed": false,
     "input": [],
     "language": "python",
     "metadata": {},
     "outputs": []
    }
   ],
   "metadata": {}
  }
 ]
}