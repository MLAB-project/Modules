{
 "metadata": {
  "name": ""
 },
 "nbformat": 3,
 "nbformat_minor": 0,
 "worksheets": [
  {
   "cells": [
    {
     "cell_type": "markdown",
     "metadata": {},
     "source": [
      "P\u0159esn\u00e9 m\u011b\u0159en\u00ed tlaku a jeho pou\u017eit\u00ed k ur\u010den\u00ed nadmo\u0159sk\u00e9 v\u00fd\u0161ky\n",
      "=======\n",
      "\n",
      "P\u0159\u00edklad vyu\u017e\u00edv\u00e1 modulovou stavebnici MLAB a jej\u00ed Python knihovnu [pymlab](https://github.com/MLAB-project/MLAB-I2c-modules). Sn\u00edma\u010d je k po\u010d\u00edta\u010di p\u0159ipojen\u00fd p\u0159es rozhradn\u00ed USB a data jsou vy\u010d\u00edt\u00e1na p\u0159es [I\u00b2C](http://wiki.mlab.cz/doku.php?id=cs:i2c)\n",
      "\n",
      "Pou\u017eit\u00fd sn\u00edma\u010d [MPL3115A2](http://www.freescale.com/webapp/sps/site/prod_summary.jsp?code=MPL3115A2) m\u00e1 n\u00e1sleduj\u00edc\u00ed katalogov\u00e9 parametry: \n",
      "\n",
      "*  Tlakov\u00e9 rozli\u0161en\u00ed: 1,5 Pa\n",
      "*  Relativn\u00ed p\u0159esnost: 0,1 kPa\n",
      "*  Absolutn\u00ed tlakov\u00e1 p\u0159esnost 0,4 kPa\n",
      "\n",
      "Katalogov\u00fd rozsah m\u011b\u0159en\u00ed tlaku je 50 kPa a\u017e 110 kPa, co\u017e by odpov\u00eddalo rozsahu m\u011b\u0159en\u00fdch v\u00fd\u0161ek p\u0159ibli\u017en\u011b -1 km a\u017e 6 km. Z [jin\u00fdch experiment\u016f](http://wiki.mlab.cz/doku.php?id=cs:altimet#parametry) s t\u00edmto tlakov\u00fdm \u010didlem ale v\u00edme \u017ee jeho m\u011b\u0159\u00edc\u00ed rozsah je podstatn\u011b v\u011bt\u0161\u00ed zejm\u00e9na v oblasti n\u00edzk\u00fdch tlak\u016f, a lze s n\u00edm m\u011b\u0159it minim\u00e1ln\u011b do v\u00fd\u0161ky 16 km.  \n",
      "\n",
      "Zprovozn\u011bn\u00ed demo k\u00f3du\n",
      "---------------------\n",
      "\n",
      "Nejd\u0159\u00edve zjist\u00edme zda m\u00e1me p\u0159\u00edstup pro z\u00e1pis a \u010dten\u00ed do syst\u00e9mov\u00e9ho za\u0159\u00edzen\u00ed. A jak\u00e9 \u010d\u00edslo m\u00e1 I\u00b2C sb\u011brnice na  kterou m\u00e1me p\u0159ipojen\u00e1 \u010didla. \n"
     ]
    },
    {
     "cell_type": "code",
     "collapsed": false,
     "input": [
      "!i2cdetect -l"
     ],
     "language": "python",
     "metadata": {},
     "outputs": [
      {
       "output_type": "stream",
       "stream": "stdout",
       "text": [
        "i2c-0\ti2c       \ti915 gmbus ssc                  \tI2C adapter\r\n",
        "i2c-1\ti2c       \ti915 gmbus vga                  \tI2C adapter\r\n",
        "i2c-2\ti2c       \ti915 gmbus panel                \tI2C adapter\r\n",
        "i2c-3\ti2c       \ti915 gmbus dpc                  \tI2C adapter\r\n",
        "i2c-4\ti2c       \ti915 gmbus dpb                  \tI2C adapter\r\n",
        "i2c-5\ti2c       \ti915 gmbus dpd                  \tI2C adapter\r\n",
        "i2c-6\ti2c       \tDPDDC-B                         \tI2C adapter\r\n",
        "i2c-7\ti2c       \ti2c-tiny-usb at bus 001 device 004\tI2C adapter\r\n"
       ]
      }
     ],
     "prompt_number": 111
    },
    {
     "cell_type": "markdown",
     "metadata": {},
     "source": [
      "Proto\u017ee pro p\u0159ipojen\u00ed \u010didel k po\u010d\u00edta\u010di pou\u017e\u00edv\u00e1me adapt\u00e9r i2c-tiny-usb. Vid\u00edme, \u017ee sb\u011brnice m\u00e1 aktu\u00e1ln\u011b ozna\u010den\u00ed nap\u0159\u00edklad i2c-8. \n",
      "\n",
      "V p\u0159\u00edpad\u011b, \u017ee v\u00fd\u0161e uveden\u00fd p\u0159\u00edklad vr\u00e1t\u00ed chybu, nebo pojmenov\u00e1n\u00ed \"unknown\" tak nem\u00e1me p\u0159\u00edstup k syst\u00e9mov\u00fdm rozhran\u00edm. Ten z\u00edsk\u00e1me vytvo\u0159en\u00edm souboru s n\u00e1sleduj\u00edc\u00edm obsahem ve slo\u017ece:  /etc/udev/rules.d/i2c-devices.rules"
     ]
    },
    {
     "cell_type": "raw",
     "metadata": {},
     "source": [
      "KERNEL==\"i2c-[0-9]*\", GROUP=\"i2c\""
     ]
    },
    {
     "cell_type": "markdown",
     "metadata": {},
     "source": [
      "Toto ozna\u010den\u00ed budeme je\u0161t\u011b d\u00e1le pot\u0159ebovat, proto si jej ulo\u017e\u00edme da prom\u011bnn\u00e9. "
     ]
    },
    {
     "cell_type": "code",
     "collapsed": false,
     "input": [
      "port = 7"
     ],
     "language": "python",
     "metadata": {},
     "outputs": [],
     "prompt_number": 112
    },
    {
     "cell_type": "markdown",
     "metadata": {},
     "source": [
      "Budeme pokra\u010dovat na\u010dten\u00edm pot\u0159ebn\u00fdch modul\u016f pro zach\u00e1zen\u00ed s I\u00b2C sn\u00edma\u010di."
     ]
    },
    {
     "cell_type": "code",
     "collapsed": false,
     "input": [
      "import time\n",
      "import datetime\n",
      "import sys\n",
      "\n",
      "from pymlab import config\n",
      "import matplotlib.pyplot as plt\n",
      "import numpy as np"
     ],
     "language": "python",
     "metadata": {},
     "outputs": [],
     "prompt_number": 113
    },
    {
     "cell_type": "markdown",
     "metadata": {},
     "source": [
      "Nyn\u00ed si nadefinujeme strukturu p\u0159ipojen\u00ed jednotliv\u00fdch \u010didel na I\u00b2C sb\u011brnici."
     ]
    },
    {
     "cell_type": "code",
     "collapsed": false,
     "input": [
      "cfg = config.Config(\n",
      "    i2c = {\n",
      "        \"port\": port,\n",
      "    },\n",
      "    bus = [\n",
      "        {\n",
      "            \"type\": \"i2chub\",\n",
      "            \"address\": 0x72,\n",
      "            \n",
      "            \"children\": [\n",
      "                {\"name\": \"altimet\", \"type\": \"altimet01\" , \"channel\": 7, },   \n",
      "            ],\n",
      "        },\n",
      "    ],\n",
      ")"
     ],
     "language": "python",
     "metadata": {},
     "outputs": [],
     "prompt_number": 114
    },
    {
     "cell_type": "markdown",
     "metadata": {},
     "source": [
      "Tuto strukturu inicializujeme, aby jsme dos\u00e1hli definovan\u00e9 konfigurace \u010didel."
     ]
    },
    {
     "cell_type": "code",
     "collapsed": false,
     "input": [
      "cfg.initialize()\n",
      "gauge = cfg.get_device(\"altimet\")\n",
      "time.sleep(0.5)"
     ],
     "language": "python",
     "metadata": {},
     "outputs": [
      {
       "output_type": "stream",
       "stream": "stderr",
       "text": [
        "WARNING:pymlab.sensors.iic:HID device does not exist, we will try SMBus directly...\n"
       ]
      }
     ],
     "prompt_number": 115
    },
    {
     "cell_type": "markdown",
     "metadata": {},
     "source": [
      "Nyn\u00ed u\u017e m\u016f\u017eeme p\u0159\u00edmo komunikovat se za\u0159\u00edzen\u00edm pojmenovan\u00fdm jako gauge. A vy\u010d\u00edst z n\u011bj s\u00e9rii 100 vzork\u016f. "
     ]
    },
    {
     "cell_type": "code",
     "collapsed": false,
     "input": [
      "import sys\n",
      "import time\n",
      "from IPython.display import clear_output\n",
      "\n",
      "\n",
      "MEASUREMENTS = 100\n",
      "t = np.zeros(MEASUREMENTS)\n",
      "p = np.zeros(MEASUREMENTS)\n",
      "\n",
      "#    gauge.route()  V p\u0159\u00edpad\u011b v\u00edce \u010didel je pot\u0159eba ke ka\u017ed\u00e9mu p\u0159ed jeho pou\u017eit\u00edm nechat vyroutovat cesutu na sb\u011brnici.\n",
      "for n in range(MEASUREMENTS):\n",
      "    (t[n], p[n]) = gauge.get_tp()\n",
      "    clear_output()\n",
      "    print(n,t[n], p[n])\n",
      "    sys.stdout.flush()"
     ],
     "language": "python",
     "metadata": {},
     "outputs": [
      {
       "output_type": "stream",
       "stream": "stdout",
       "text": [
        "(99, 22.9375, 95656.5)\n"
       ]
      }
     ],
     "prompt_number": 117
    },
    {
     "cell_type": "markdown",
     "metadata": {},
     "source": [
      "Nam\u011b\u0159en\u00e1 data si ulo\u017e\u00edme pro pozd\u011bj\u0161\u00ed zpracov\u00e1n\u00ed. "
     ]
    },
    {
     "cell_type": "code",
     "collapsed": false,
     "input": [
      "np.savez(\"data_desk\", temp = t, preassure = p)"
     ],
     "language": "python",
     "metadata": {},
     "outputs": [],
     "prompt_number": 35
    },
    {
     "cell_type": "markdown",
     "metadata": {},
     "source": [
      "Nyn\u00ed p\u0159em\u00edst\u00edme m\u011b\u0159\u00edc\u00ed p\u0159\u00edpravek ze stolu na zem, a zopakujeme m\u011b\u0159en\u00ed"
     ]
    },
    {
     "cell_type": "code",
     "collapsed": false,
     "input": [
      "import sys\n",
      "import time\n",
      "from IPython.display import clear_output\n",
      "\n",
      "MEASUREMENTS = 100\n",
      "t = np.zeros(MEASUREMENTS)\n",
      "p = np.zeros(MEASUREMENTS)\n",
      "\n",
      "#    gauge.route()  V p\u0159\u00edpad\u011b v\u00edce \u010didel je pot\u0159eba ke ka\u017ed\u00e9mu p\u0159ed jeho pou\u017eit\u00edm nechat vyroutovat cesutu na sb\u011brnici.\n",
      "for n in range(MEASUREMENTS):\n",
      "    (t[n], p[n]) = gauge.get_tp()\n",
      "    clear_output()\n",
      "    print(n,t[n], p[n])\n",
      "    sys.stdout.flush()"
     ],
     "language": "python",
     "metadata": {},
     "outputs": [
      {
       "output_type": "stream",
       "stream": "stdout",
       "text": [
        "(99, 22.875, 95658.5)\n"
       ]
      }
     ],
     "prompt_number": 118
    },
    {
     "cell_type": "code",
     "collapsed": false,
     "input": [
      "np.savez(\"data_floor\", temp = t, preassure = p)"
     ],
     "language": "python",
     "metadata": {},
     "outputs": [],
     "prompt_number": 11
    },
    {
     "cell_type": "markdown",
     "metadata": {},
     "source": [
      "D\u00e1le bude pracov\u00e1no s daty ulo\u017een\u00fdmi do souboru, kter\u00e9 m\u016f\u017eeme na\u010d\u00edst n\u00e1sleduj\u00edc\u00edm blokem."
     ]
    },
    {
     "cell_type": "code",
     "collapsed": false,
     "input": [
      "data = np.load('./data_desk.npz')\n",
      "th=data['temp']\n",
      "ph=data['preassure']"
     ],
     "language": "python",
     "metadata": {},
     "outputs": [],
     "prompt_number": 82
    },
    {
     "cell_type": "markdown",
     "metadata": {},
     "source": [
      "Na\u010dten\u00e1 data nyn\u00ed budeme statisticky analyzovat. Najdeme minim\u00e1ln\u00ed a maxim\u00e1ln\u00ed hodnoty a spo\u010d\u00edt\u00e1me sm\u011brodatnou odchylku. "
     ]
    },
    {
     "cell_type": "markdown",
     "metadata": {},
     "source": [
      "Minim\u00e1ln\u00ed, maxim\u00e1ln\u00ed hodnota tlaku a sm\u011brodatn\u00e1 odchylka pro m\u011b\u0159en\u00ed tlaku na stole:"
     ]
    },
    {
     "cell_type": "code",
     "collapsed": false,
     "input": [
      "[min(ph),max(ph),std(ph)]"
     ],
     "language": "python",
     "metadata": {},
     "outputs": [
      {
       "latex": [
        "$$\\begin{bmatrix}98282.25, & 98290.75, & 2.28119897203\\end{bmatrix}$$"
       ],
       "metadata": {},
       "output_type": "pyout",
       "png": "[encoded data removed]",
       "prompt_number": 95,
       "text": [
        "[98282.25, 98290.75, 2.28119897203]"
       ]
      }
     ],
     "prompt_number": 95
    },
    {
     "cell_type": "markdown",
     "metadata": {},
     "source": [
      "Minim\u00e1ln\u00ed, maxim\u00e1ln\u00ed hodnota tlaku a sm\u011brodatn\u00e1 odchylka pro m\u011b\u0159en\u00ed teploty na stole:"
     ]
    },
    {
     "cell_type": "code",
     "collapsed": false,
     "input": [
      "[min(th),max(th),std(th)]"
     ],
     "language": "python",
     "metadata": {},
     "outputs": [
      {
       "latex": [
        "$$\\begin{bmatrix}22.625, & 22.625, & 0.0\\end{bmatrix}$$"
       ],
       "metadata": {},
       "output_type": "pyout",
       "png": "[encoded data removed]",
       "prompt_number": 102,
       "text": [
        "[22.625, 22.625, 0.0]"
       ]
      }
     ],
     "prompt_number": 102
    },
    {
     "cell_type": "markdown",
     "metadata": {},
     "source": [
      "Otev\u0159eme soubor s m\u011b\u0159en\u00edm z podlahy a zpo\u010d\u00edt\u00e1me znovu statistick\u00e9 parametry. "
     ]
    },
    {
     "cell_type": "code",
     "collapsed": false,
     "input": [
      "data = np.load('./data_floor.npz')\n",
      "tl=data['temp']\n",
      "pl=data['preassure']"
     ],
     "language": "python",
     "metadata": {},
     "outputs": [],
     "prompt_number": 98
    },
    {
     "cell_type": "markdown",
     "metadata": {},
     "source": [
      "M\u011b\u0159en\u00ed tlaku"
     ]
    },
    {
     "cell_type": "code",
     "collapsed": false,
     "input": [
      "[min(pl),max(pl),std(pl)]"
     ],
     "language": "python",
     "metadata": {},
     "outputs": [
      {
       "latex": [
        "$$\\begin{bmatrix}98296.0, & 98306.75, & 2.24640824429\\end{bmatrix}$$"
       ],
       "metadata": {},
       "output_type": "pyout",
       "png": "[encoded data removed]",
       "prompt_number": 99,
       "text": [
        "[98296.0, 98306.75, 2.24640824429]"
       ]
      }
     ],
     "prompt_number": 99
    },
    {
     "cell_type": "markdown",
     "metadata": {},
     "source": [
      "M\u011b\u0159en\u00ed teploty"
     ]
    },
    {
     "cell_type": "code",
     "collapsed": false,
     "input": [
      "[min(tl),max(tl),std(tl)]"
     ],
     "language": "python",
     "metadata": {},
     "outputs": [
      {
       "latex": [
        "$$\\begin{bmatrix}22.5625, & 22.5625, & 0.0\\end{bmatrix}$$"
       ],
       "metadata": {},
       "output_type": "pyout",
       "png": "[encoded data removed]",
       "prompt_number": 101,
       "text": [
        "[22.5625, 22.5625, 0.0]"
       ]
      }
     ],
     "prompt_number": 101
    },
    {
     "cell_type": "markdown",
     "metadata": {},
     "source": [
      "Pro porovn\u00e1n\u00ed je nyn\u00ed mo\u017en\u00e9 vykreslit graf z hodnot nam\u011b\u0159en\u00fdch na stole a na zemi. "
     ]
    },
    {
     "cell_type": "code",
     "collapsed": false,
     "input": [
      "#fig, ax = plt.subplots()\n",
      "\n",
      "plt.plot( pl, label=\"Podlaha\")\n",
      "plt.plot( ph, label=\"Stul\")\n",
      "plt.legend(loc=2); # upper left corner\n",
      "plt.xlabel('vzorek')\n",
      "plt.ylabel('Tlak [Pa]')\n",
      "plt.title('Namerene tlaky');\n",
      "plt.show()"
     ],
     "language": "python",
     "metadata": {},
     "outputs": [
      {
       "metadata": {},
       "output_type": "display_data",
       "png": "[encoded data removed]",
       "text": [
        "<matplotlib.figure.Figure at 0x7fdc6f159590>"
       ]
      }
     ],
     "prompt_number": 104
    },
    {
     "cell_type": "code",
     "collapsed": false,
     "input": [
      "#fig, ax = plt.subplots()\n",
      "\n",
      "plt.plot( tl, label=\"Podlaha\")\n",
      "plt.plot( th, label=\"Stul\")\n",
      "plt.legend(loc=2); # upper left corner\n",
      "plt.xlabel('vzorek')\n",
      "plt.ylabel('Teplota [deg C]')\n",
      "plt.title('Namerene teploty');\n",
      "plt.show()"
     ],
     "language": "python",
     "metadata": {},
     "outputs": [
      {
       "metadata": {},
       "output_type": "display_data",
       "png": "[encoded data removed]",
       "text": [
        "<matplotlib.figure.Figure at 0x7fdc6f1eec10>"
       ]
      }
     ],
     "prompt_number": 103
    },
    {
     "cell_type": "markdown",
     "metadata": {},
     "source": [
      "Z nam\u011b\u0159en\u00fdch hodnot je mo\u017en\u00e9 spo\u010d\u00edtat v\u00fd\u0161ku. Pou\u017eijeme k tomu barometrickou rovnici. "
     ]
    },
    {
     "cell_type": "code",
     "collapsed": false,
     "input": [
      "from sympy import *\n",
      "init_printing()\n",
      "\n",
      "p0 = Symbol('p_0')\n",
      "l = Symbol('L')\n",
      "cp = Symbol('C_p')\n",
      "t0 = Symbol('T_0')\n",
      "g = Symbol('g')\n",
      "m = Symbol('M')\n",
      "r = Symbol('R')\n",
      "p = Symbol('p')\n",
      "h = Symbol('h')\n",
      "\n",
      "bf = Eq(po*(1 - (l*h)/to)**((g*m)/(r*l)), p)\n",
      "\n",
      "bf"
     ],
     "language": "python",
     "metadata": {},
     "outputs": [
      {
       "latex": [
        "$$po \\left(- \\frac{L h}{to} + 1\\right)^{\\frac{M g}{L R}} = p$$"
       ],
       "metadata": {},
       "output_type": "pyout",
       "png": "[encoded data removed]",
       "prompt_number": 73,
       "text": [
        "              M\u22c5g    \n",
        "              \u2500\u2500\u2500    \n",
        "              L\u22c5R    \n",
        "   \u239b  L\u22c5h    \u239e       \n",
        "po\u22c5\u239c- \u2500\u2500\u2500 + 1\u239f    = p\n",
        "   \u239d   to    \u23a0       "
       ]
      }
     ],
     "prompt_number": 73
    },
    {
     "cell_type": "markdown",
     "metadata": {},
     "source": [
      "Ze kter\u00e9 vyj\u00e1d\u0159\u00edme v\u00fd\u0161ku v z\u00e1vislosti na tlaku a dosad\u00edme nam\u011b\u0159en\u00e9 tlaky a zn\u00e1m\u00e9 konstanty."
     ]
    },
    {
     "cell_type": "code",
     "collapsed": false,
     "input": [
      "solve(bf, h)"
     ],
     "language": "python",
     "metadata": {},
     "outputs": [
      {
       "latex": [
        "$$\\begin{bmatrix}- \\frac{to}{L} \\left(\\left(\\frac{p}{po}\\right)^{\\frac{L R}{M g}} - 1\\right)\\end{bmatrix}$$"
       ],
       "metadata": {},
       "output_type": "pyout",
       "png": "[encoded data removed]",
       "prompt_number": 74,
       "text": [
        "\u23a1    \u239b    L\u22c5R    \u239e \u23a4\n",
        "\u23a2    \u239c    \u2500\u2500\u2500    \u239f \u23a5\n",
        "\u23a2    \u239c    M\u22c5g    \u239f \u23a5\n",
        "\u23a2    \u239c\u239bp \u239e       \u239f \u23a5\n",
        "\u23a2-to\u22c5\u239c\u239c\u2500\u2500\u239f    - 1\u239f \u23a5\n",
        "\u23a2    \u239d\u239dpo\u23a0       \u23a0 \u23a5\n",
        "\u23a2\u2500\u2500\u2500\u2500\u2500\u2500\u2500\u2500\u2500\u2500\u2500\u2500\u2500\u2500\u2500\u2500\u2500\u2500\u23a5\n",
        "\u23a3        L         \u23a6"
       ]
      }
     ],
     "prompt_number": 74
    },
    {
     "cell_type": "code",
     "collapsed": false,
     "input": [
      "def compute_altitude(pressure):\n",
      "    p0 = 101325   # standardn\u00ed tlak v Pa na hladin\u011b mo\u0159e\n",
      "    l = 0.0065   # Pokles teploty s v\u00fd\u0161kou [K/m]\n",
      "    cp = 1007    # specifick\u00e9 teplo p\u0159i konstantn\u00edm tlaku  J/(kg\u2022K)\n",
      "    t0 = 288.15   # standardn\u00ed teplota na hladin\u011b mo\u0159e K\n",
      "    g = 9.80665   # standardn\u00ed gravita\u010dn\u00ed zrychlen\u00ed na povrchu zem\u011b\n",
      "    m = 0.0289644 # mol\u00e1rn\u00ed hmotnost such\u00e9ho vzduchu\tkg/mol\n",
      "    r = 8.31447   # univerz\u00e1ln\u00ed plynov\u00e1 konstanta J/(mol\u2022K)\n",
      "\n",
      "    return ((-t0/l)*((pressure/p0)**((l*r)/(m*g)) -1))"
     ],
     "language": "python",
     "metadata": {},
     "outputs": [],
     "prompt_number": 77
    },
    {
     "cell_type": "markdown",
     "metadata": {},
     "source": [
      "Nyn\u00ed je mo\u017en\u00e9 spo\u010d\u00edtat nadmo\u0159skou v\u00fd\u0161ku pro pr\u016fm\u011brn\u00fd, minim\u00e1ln\u00ed a maxim\u00e1ln\u00ed tlak nam\u011b\u0159en\u00fd na podlaze."
     ]
    },
    {
     "cell_type": "code",
     "collapsed": false,
     "input": [
      "[compute_altitude(average(pl)), compute_altitude(min(pl)), compute_altitude(max(pl))]"
     ],
     "language": "python",
     "metadata": {},
     "outputs": [
      {
       "latex": [
        "$$\\begin{bmatrix}254.884550761, & 255.253104054, & 254.336010772\\end{bmatrix}$$"
       ],
       "metadata": {},
       "output_type": "pyout",
       "png": "[encoded data removed]",
       "prompt_number": 105,
       "text": [
        "[254.884550761, 255.253104054, 254.336010772]"
       ]
      }
     ],
     "prompt_number": 105
    },
    {
     "cell_type": "markdown",
     "metadata": {},
     "source": [
      "A pro pr\u016fm\u011brn\u00fd, minim\u00e1ln\u00ed a maxim\u00e1ln\u00ed tlak nam\u011b\u0159en\u00fd na stole."
     ]
    },
    {
     "cell_type": "code",
     "collapsed": false,
     "input": [
      "[compute_altitude(average(ph)), compute_altitude(min(ph)), compute_altitude(max(ph))]"
     ],
     "language": "python",
     "metadata": {},
     "outputs": [
      {
       "latex": [
        "$$\\begin{bmatrix}255.976385359, & 256.426248725, & 255.701016336\\end{bmatrix}$$"
       ],
       "metadata": {},
       "output_type": "pyout",
       "png": "[encoded data removed]",
       "prompt_number": 106,
       "text": [
        "[255.976385359, 256.426248725, 255.701016336]"
       ]
      }
     ],
     "prompt_number": 106
    },
    {
     "cell_type": "markdown",
     "metadata": {},
     "source": [
      "Z nam\u011b\u0159en\u00fdch hodnot je vyd\u011bt, \u017ee tlakov\u00e1 v\u00fd\u0161ka stolu sed\u00ed p\u0159ibli\u017en\u011b s re\u00e1lnou v\u00fd\u0161kou 1 m. "
     ]
    },
    {
     "cell_type": "code",
     "collapsed": false,
     "input": [
      " Out[106][0] - Out[105][0]"
     ],
     "language": "python",
     "metadata": {},
     "outputs": [
      {
       "latex": [
        "$$1.09183459838$$"
       ],
       "metadata": {},
       "output_type": "pyout",
       "png": "[encoded data removed]",
       "prompt_number": 110,
       "text": [
        "1.09183459838"
       ]
      }
     ],
     "prompt_number": 110
    },
    {
     "cell_type": "markdown",
     "metadata": {},
     "source": [
      "V\u00fdvoj hodnot v \u010dase\n",
      "------------------\n",
      "\n",
      "Vid\u00edme, \u017ee nam\u011b\u0159en\u00e9 hodnoty nevykazuj\u00ed \u017e\u00e1dn\u00fd trend, a m\u011b\u0159en\u00e9 chyby jsou zp\u016fsobeny pravd\u011bpodobn\u011b \u0161umem obvod\u016f \u010didla.  Je to d\u016fsledek tepeln\u00e9 stability \u010didla, a faktu, \u017ee tlakov\u00e9 zm\u011bny v atmosf\u00e9\u0159e jsou relativn\u011b pomal\u00e9. S \u010dasovou konstantou minim\u00e1ln\u011b jednotky minut a na\u0161e m\u011b\u0159en\u00ed trvalo \u0159\u00e1dov\u011b des\u00edtky sekund. \n",
      "\n",
      "Absolutn\u00ed kalibrace tlaku\n",
      "------------------\n",
      "\n",
      "V p\u0159\u00edpad\u011b, \u017ee by jsme pot\u0159ebovali tlakov\u00fd senzor pota\u017emo v\u00fd\u0161kom\u011br absolutn\u011b zkalibrovat, tak si k tomuto \u00fa\u010delu m\u016f\u017eeme p\u016fj\u010dit data z n\u011bkter\u00e9 kalibrovan\u00e9 stanice. V Praze pou\u017eijeme nap\u0159\u00edklad stanici CHMI pro Prahu 10. Ud\u00e1van\u00fd tlak je ale p\u0159epo\u010d\u00edtan\u00fd na hladinu mo\u0159e. Proto by bylo pot\u0159eba obsolutn\u00ed tlak op\u011bt spo\u010d\u00edtat z nadmo\u0159sk\u00e9 v\u00fd\u0161ky stanice. "
     ]
    },
    {
     "cell_type": "code",
     "collapsed": false,
     "input": [
      "import openweather\n",
      "from datetime import datetime\n",
      "\n",
      "ow = openweather.OpenWeather()\n",
      "print ow.get_weather(61457)"
     ],
     "language": "python",
     "metadata": {},
     "outputs": [
      {
       "output_type": "stream",
       "stream": "stdout",
       "text": [
        "{u'main': {u'pressure': 1016, u'temp': 299.25, u'humidity': 38}, u'name': u'Prague 10', u'rain': {u'1h': 0}, u'station': {u'zoom': 10}, u'coord': {u'lat': 50.0787, u'lon': 14.4966}, u'date': u'2014-05-21 15:55:04', u'dt': 1400687704, u'calc': {u'dewpoint': 10.7}, u'id': 61457, u'wind': {u'gust': 12.1, u'deg': 225}}\n"
       ]
      }
     ],
     "prompt_number": 57
    },
    {
     "cell_type": "markdown",
     "metadata": {},
     "source": [
      "Proto\u017ee datov\u00fd set byl nam\u011b\u0159en\u00fd v minulosti, mus\u00edme si st\u00e1hnout data pro toto \u010dasov\u00e9 obdob\u00ed."
     ]
    },
    {
     "cell_type": "code",
     "collapsed": false,
     "input": [
      "start_date = datetime(2014, 4, 20)\n",
      "end_date = datetime(2014, 4, 22)\n",
      "print ow.get_historic_weather(61457, start_date, end_date)"
     ],
     "language": "python",
     "metadata": {},
     "outputs": [
      {
       "output_type": "stream",
       "stream": "stderr",
       "text": [
        "OpenWeather.do_request() got ValueError: No JSON object could be decoded (1. attempt)\n",
        "OpenWeather.do_request() got ValueError: No JSON object could be decoded (2. attempt)\n"
       ]
      },
      {
       "output_type": "stream",
       "stream": "stdout",
       "text": [
        "None\n"
       ]
      },
      {
       "output_type": "stream",
       "stream": "stderr",
       "text": [
        "OpenWeather.do_request() got ValueError: No JSON object could be decoded (3. attempt)\n"
       ]
      }
     ],
     "prompt_number": 60
    },
    {
     "cell_type": "code",
     "collapsed": false,
     "input": [
      "stations = ow.find_stations_near(\n",
      "    14.45,  # longitude\n",
      "    50.07, # latitude\n",
      "    100   # kilometer radius\n",
      ")"
     ],
     "language": "python",
     "metadata": {},
     "outputs": [],
     "prompt_number": 66
    },
    {
     "cell_type": "code",
     "collapsed": false,
     "input": [
      "print stations"
     ],
     "language": "python",
     "metadata": {},
     "outputs": [
      {
       "output_type": "stream",
       "stream": "stdout",
       "text": [
        "{u'list': [], u'message': u'', u'calctime': u'', u'cod': u'200', u'cnt': 0}\n"
       ]
      }
     ],
     "prompt_number": 64
    },
    {
     "cell_type": "code",
     "collapsed": false,
     "input": [],
     "language": "python",
     "metadata": {},
     "outputs": []
    }
   ],
   "metadata": {}
  }
 ]
}