{
 "metadata": {
  "name": ""
 },
 "nbformat": 3,
 "nbformat_minor": 0,
 "worksheets": [
  {
   "cells": [
    {
     "cell_type": "markdown",
     "metadata": {},
     "source": [
      "Uk\u00e1zka pou\u017eit\u00ed n\u00e1stroje IPython na manipulaci se senzorov\u00fdmi daty\n",
      "=======\n",
      "\n",
      "P\u0159\u00edklad vyu\u017e\u00edv\u00e1 moduluvou stavebnici MLAB a jej\u00ed knihovnu https://github.com/MLAB-project/MLAB-I2c-modules \n",
      "\n",
      "Zprovozn\u011bn\u00ed demo k\u00f3du\n",
      "---------------------\n",
      "\n",
      "Nejd\u0159\u00edve zjist\u00edme zda m\u00e1me p\u0159\u00edstup pro z\u00e1pis a \u010dten\u00ed do syst\u00e9mov\u00e9ho za\u0159\u00edzen\u00ed. A jak\u00e9 \u010d\u00edslo m\u00e1 I\u00b2C sb\u011brnice na  kterou m\u00e1me p\u0159ipojen\u00e1 \u010didla. \n"
     ]
    },
    {
     "cell_type": "code",
     "collapsed": false,
     "input": [
      "!i2cdetect -l"
     ],
     "language": "python",
     "metadata": {},
     "outputs": [
      {
       "output_type": "stream",
       "stream": "stdout",
       "text": [
        "i2c-0\ti2c       \ti915 gmbus ssc                  \tI2C adapter\r\n",
        "i2c-1\ti2c       \ti915 gmbus vga                  \tI2C adapter\r\n",
        "i2c-2\ti2c       \ti915 gmbus panel                \tI2C adapter\r\n",
        "i2c-3\ti2c       \ti915 gmbus dpc                  \tI2C adapter\r\n",
        "i2c-4\ti2c       \ti915 gmbus dpb                  \tI2C adapter\r\n",
        "i2c-5\ti2c       \ti915 gmbus dpd                  \tI2C adapter\r\n",
        "i2c-6\ti2c       \tDPDDC-C                         \tI2C adapter\r\n",
        "i2c-7\ti2c       \tDPDDC-D                         \tI2C adapter\r\n",
        "i2c-8\ti2c       \ti2c-tiny-usb at bus 001 device 005\tI2C adapter\r\n"
       ]
      }
     ],
     "prompt_number": 1
    },
    {
     "cell_type": "markdown",
     "metadata": {},
     "source": [
      "Proto\u017ee pro p\u0159ipojen\u00ed \u010didel k po\u010d\u00edta\u010di pou\u017e\u00edv\u00e1me adapt\u00e9r i2c-tiny-usb. Vid\u00edme, \u017ee sb\u011brnice m\u00e1 aktu\u00e1ln\u011b ozna\u010den\u00ed nap\u0159\u00edklad i2c-8. \n",
      "\n",
      "V p\u0159\u00edpad\u011b, \u017ee v\u00fd\u0161e uveden\u00fd p\u0159\u00edklad vr\u00e1t\u00ed chybu, nebo pojmenov\u00e1n\u00ed \"unknown\" tak nem\u00e1me p\u0159\u00edstup k syst\u00e9mov\u00fdm rozhran\u00edm. Ten z\u00edsk\u00e1me vytvo\u0159en\u00edm souboru s n\u00e1sleduj\u00edc\u00edm obsahem ve slo\u017ece:  /etc/udev/rules.d/i2c-devices.rules"
     ]
    },
    {
     "cell_type": "raw",
     "metadata": {},
     "source": [
      "KERNEL==\"i2c-[0-9]*\", GROUP=\"i2c\""
     ]
    },
    {
     "cell_type": "markdown",
     "metadata": {},
     "source": [
      "Toto ozna\u010den\u00ed budeme je\u0161t\u011b d\u00e1le pot\u0159ebovat, proto si jej ulo\u017e\u00edme da prom\u011bnn\u00e9. "
     ]
    },
    {
     "cell_type": "code",
     "collapsed": false,
     "input": [
      "port = 8"
     ],
     "language": "python",
     "metadata": {},
     "outputs": [],
     "prompt_number": 2
    },
    {
     "cell_type": "markdown",
     "metadata": {},
     "source": [
      "Budeme pokra\u010dovat na\u010dten\u00edm pot\u0159ebn\u00fdch modul\u016f pro zach\u00e1zen\u00ed s I\u00b2C sn\u00edma\u010di."
     ]
    },
    {
     "cell_type": "code",
     "collapsed": false,
     "input": [
      "import time\n",
      "import datetime\n",
      "import sys\n",
      "\n",
      "from pymlab import config\n",
      "import matplotlib.pyplot as plt\n",
      "import numpy as np"
     ],
     "language": "python",
     "metadata": {},
     "outputs": [],
     "prompt_number": 3
    },
    {
     "cell_type": "markdown",
     "metadata": {},
     "source": [
      "Nyn\u00ed si nadefinujeme strukturu p\u0159ipojen\u00ed jednotliv\u00fdch \u010didel na I\u00b2C sb\u011brnici."
     ]
    },
    {
     "cell_type": "code",
     "collapsed": false,
     "input": [
      "cfg = config.Config(\n",
      "    i2c = {\n",
      "        \"port\": port,\n",
      "    },\n",
      "    bus = [\n",
      "        {\n",
      "            \"type\": \"i2chub\",\n",
      "            \"address\": 0x72,\n",
      "            \n",
      "            \"children\": [\n",
      "                {\"name\": \"acc\", \"type\": \"imu01_acc\", \"sensitivity\": 4.0, \"channel\": 0, },   \n",
      "            ],\n",
      "        },\n",
      "    ],\n",
      ")"
     ],
     "language": "python",
     "metadata": {},
     "outputs": [],
     "prompt_number": 8
    },
    {
     "cell_type": "markdown",
     "metadata": {},
     "source": [
      "Tuto strukturu inicializujeme, aby jsme dos\u00e1hli definovan\u00e9 konfigurace \u010didel."
     ]
    },
    {
     "cell_type": "code",
     "collapsed": false,
     "input": [
      "cfg.initialize()\n",
      "acc = cfg.get_device(\"acc\")\n",
      "time.sleep(0.5)"
     ],
     "language": "python",
     "metadata": {},
     "outputs": [
      {
       "output_type": "stream",
       "stream": "stderr",
       "text": [
        "WARNING:pymlab.sensors.iic:HID device does not exist, we will try SMBus directly...\n"
       ]
      }
     ],
     "prompt_number": 9
    },
    {
     "cell_type": "markdown",
     "metadata": {},
     "source": [
      "Nyn\u00ed u\u017e m\u016f\u017eeme p\u0159\u00edmo komunikovat se za\u0159\u00edzen\u00edm pojmenovan\u00fdm jako acc."
     ]
    },
    {
     "cell_type": "code",
     "collapsed": false,
     "input": [
      "MEASUREMENTS = 1000\n",
      "x = np.zeros(MEASUREMENTS)\n",
      "y = np.zeros(MEASUREMENTS)\n",
      "z = np.zeros(MEASUREMENTS)\n",
      "\n",
      "#    acc.route()  V p\u0159\u00edpad\u011b v\u00edce \u010didel je pot\u0159eba ke ka\u017ed\u00e9mu p\u0159ed jeho pou\u017eit\u00edm nechat vyroutovat cesutu na sb\u011brnici.\n",
      "\n",
      "for n in range(MEASUREMENTS):\n",
      "    (x[n], y[n], z[n]) = acc.axes()\n",
      "    print( n, x[n], y[n], z[n])"
     ],
     "language": "python",
     "metadata": {},
     "outputs": [
      {
       "output_type": "stream",
       "stream": "stdout",
       "text": [
        "(0, -0.81022499999999997, -0.54599999999999993, -0.26715)\n",
        "(1, -0.83362499999999995, -0.52162500000000001, -0.26032499999999997)"
       ]
      },
      {
       "output_type": "stream",
       "stream": "stdout",
       "text": [
        "\n",
        "(2, -0.70297500000000002, -0.61327500000000001, -0.39487499999999998)"
       ]
      },
      {
       "output_type": "stream",
       "stream": "stdout",
       "text": [
        "\n",
        "(3, -0.83996249999999995, -0.58694999999999997, -0.35489999999999999)"
       ]
      },
      {
       "output_type": "stream",
       "stream": "stdout",
       "text": [
        "\n",
        "(4, -0.74246249999999991, -0.70199999999999996, -0.33052499999999996)"
       ]
      },
      {
       "output_type": "stream",
       "stream": "stdout",
       "text": [
        "\n",
        "(5, -0.51285000000000003, -0.83947499999999997, -0.30614999999999998)"
       ]
      },
      {
       "output_type": "stream",
       "stream": "stdout",
       "text": [
        "\n",
        "(6, -0.058987499999999998, -0.95647499999999996, -0.14235)"
       ]
      },
      {
       "output_type": "stream",
       "stream": "stdout",
       "text": [
        "\n",
        "(7, 0.25447500000000001, -0.84142499999999998, 0.011699999999999999)"
       ]
      },
      {
       "output_type": "stream",
       "stream": "stdout",
       "text": [
        "\n",
        "(8, 0.70199999999999996, -0.64203749999999993, -0.071175000000000002)"
       ]
      },
      {
       "output_type": "stream",
       "stream": "stdout",
       "text": [
        "\n",
        "(9, 0.90284999999999993, -0.16965, -0.047774999999999998)"
       ]
      },
      {
       "output_type": "stream",
       "stream": "stdout",
       "text": [
        "\n",
        "(10, 1.0125374999999999, 0.084824999999999998, -0.14624999999999999)"
       ]
      },
      {
       "output_type": "stream",
       "stream": "stdout",
       "text": [
        "\n",
        "(11, 0.92917499999999997, 0.244725, -0.1028625)"
       ]
      },
      {
       "output_type": "stream",
       "stream": "stdout",
       "text": [
        "\n",
        "(12, 0.80291249999999992, 0.59670000000000001, -0.44264999999999999)"
       ]
      },
      {
       "output_type": "stream",
       "stream": "stdout",
       "text": [
        "\n",
        "(13, 0.57329999999999992, 0.77171249999999991, -0.4914)"
       ]
      },
      {
       "output_type": "stream",
       "stream": "stdout",
       "text": [
        "\n",
        "(14, 0.35197499999999998, 0.84532499999999999, -0.48067499999999996)"
       ]
      },
      {
       "output_type": "stream",
       "stream": "stdout",
       "text": [
        "\n",
        "(15, 0.10237499999999999, 0.92527499999999996, -0.40121249999999997)"
       ]
      },
      {
       "output_type": "stream",
       "stream": "stdout",
       "text": [
        "\n",
        "(16, -0.086774999999999991, 0.90479999999999994, -0.312975)"
       ]
      },
      {
       "output_type": "stream",
       "stream": "stdout",
       "text": [
        "\n",
        "(17, -0.47872499999999996, 0.81461249999999996, -0.27689999999999998)"
       ]
      },
      {
       "output_type": "stream",
       "stream": "stdout",
       "text": [
        "\n",
        "(18, -0.77999999999999992, 0.53722499999999995, -0.31004999999999999)"
       ]
      },
      {
       "output_type": "stream",
       "stream": "stdout",
       "text": [
        "\n",
        "(19, -0.90674999999999994, 0.085800000000000001, -0.17354999999999998)"
       ]
      },
      {
       "output_type": "stream",
       "stream": "stdout",
       "text": [
        "\n",
        "(20, -0.98377499999999996, -0.36854999999999999, -0.24862499999999998)"
       ]
      },
      {
       "output_type": "stream",
       "stream": "stdout",
       "text": [
        "\n",
        "(21, -0.83460000000000001, -0.638625, -0.2457)"
       ]
      },
      {
       "output_type": "stream",
       "stream": "stdout",
       "text": [
        "\n",
        "(22, -0.55379999999999996, -0.81363750000000001, -0.2145)"
       ]
      },
      {
       "output_type": "stream",
       "stream": "stdout",
       "text": [
        "\n",
        "(23, -0.35148750000000001, -0.818025, -0.69712499999999999)"
       ]
      },
      {
       "output_type": "stream",
       "stream": "stdout",
       "text": [
        "\n",
        "(24, -0.33344999999999997, -0.30419999999999997, -0.96914999999999996)"
       ]
      },
      {
       "output_type": "stream",
       "stream": "stdout",
       "text": [
        "\n",
        "(25, -0.39097499999999996, 0.075075000000000003, -0.82289999999999996)"
       ]
      },
      {
       "output_type": "stream",
       "stream": "stdout",
       "text": [
        "\n",
        "(26, -0.80145, 0.252525, -0.74002499999999993)"
       ]
      },
      {
       "output_type": "stream",
       "stream": "stdout",
       "text": [
        "\n",
        "(27, -0.53576250000000003, 0.69029999999999991, -0.54794999999999994)"
       ]
      },
      {
       "output_type": "stream",
       "stream": "stdout",
       "text": [
        "\n",
        "(28, -0.16574999999999998, 0.9204, -0.48701249999999996)"
       ]
      },
      {
       "output_type": "stream",
       "stream": "stdout",
       "text": [
        "\n",
        "(29, 0.2588625, 0.83752499999999996, -0.40462499999999996)"
       ]
      },
      {
       "output_type": "stream",
       "stream": "stdout",
       "text": [
        "\n",
        "(30, 0.65617499999999995, 0.61522500000000002, -0.34709999999999996)"
       ]
      },
      {
       "output_type": "stream",
       "stream": "stdout",
       "text": [
        "\n",
        "(31, 0.69419999999999993, 0.18817499999999998, -0.61181249999999998)"
       ]
      },
      {
       "output_type": "stream",
       "stream": "stdout",
       "text": [
        "\n",
        "(32, 0.75562499999999999, -0.10237499999999999, -0.81509999999999994)"
       ]
      },
      {
       "output_type": "stream",
       "stream": "stdout",
       "text": [
        "\n",
        "(33, 0.43972499999999998, -0.27397499999999997, -0.88432499999999992)"
       ]
      },
      {
       "output_type": "stream",
       "stream": "stdout",
       "text": [
        "\n",
        "(34, 0.56940000000000002, -0.41827500000000001, -0.56940000000000002)"
       ]
      },
      {
       "output_type": "stream",
       "stream": "stdout",
       "text": [
        "\n",
        "(35, 0.43290000000000001, -0.70492499999999991, -0.59572499999999995)"
       ]
      },
      {
       "output_type": "stream",
       "stream": "stdout",
       "text": [
        "\n",
        "(36, 0.084824999999999998, -0.73904999999999998, -0.76439999999999997)"
       ]
      },
      {
       "output_type": "stream",
       "stream": "stdout",
       "text": [
        "\n",
        "(37, -0.27299999999999996, -0.54599999999999993, -0.82192500000000002)"
       ]
      },
      {
       "output_type": "stream",
       "stream": "stdout",
       "text": [
        "\n",
        "(38, -0.47969999999999996, -0.46507499999999996, -0.70784999999999998)"
       ]
      },
      {
       "output_type": "stream",
       "stream": "stdout",
       "text": [
        "\n",
        "(39, -0.53527499999999995, -0.33832499999999999, -0.79657499999999992)"
       ]
      },
      {
       "output_type": "stream",
       "stream": "stdout",
       "text": [
        "\n",
        "(40, -0.67079999999999995, -0.071175000000000002, -0.71954999999999991)"
       ]
      },
      {
       "output_type": "stream",
       "stream": "stdout",
       "text": [
        "\n",
        "(41, -0.76049999999999995, 0.21742499999999998, -0.70687499999999992)"
       ]
      },
      {
       "output_type": "stream",
       "stream": "stdout",
       "text": [
        "\n",
        "(42, -0.64934999999999998, 0.35392499999999999, -0.80047499999999994)"
       ]
      },
      {
       "output_type": "stream",
       "stream": "stdout",
       "text": [
        "\n",
        "(43, -0.57427499999999998, 0.357825, -0.83947499999999997)"
       ]
      },
      {
       "output_type": "stream",
       "stream": "stdout",
       "text": [
        "\n",
        "(44, -0.43338749999999998, 0.17257499999999998, -1.0208249999999999)"
       ]
      },
      {
       "output_type": "stream",
       "stream": "stdout",
       "text": [
        "\n",
        "(45, -0.063375000000000001, 0.110175, -1.1456249999999999)"
       ]
      },
      {
       "output_type": "stream",
       "stream": "stdout",
       "text": [
        "\n",
        "(46, 0.43290000000000001, 0.1794, -0.88139999999999996)"
       ]
      },
      {
       "output_type": "stream",
       "stream": "stdout",
       "text": [
        "\n",
        "(47, 0.45581249999999995, 0.14722499999999999, -0.96524999999999994)"
       ]
      },
      {
       "output_type": "stream",
       "stream": "stdout",
       "text": [
        "\n",
        "(48, 0.56745000000000001, 0.14527499999999999, -0.75074999999999992)"
       ]
      },
      {
       "output_type": "stream",
       "stream": "stdout",
       "text": [
        "\n",
        "(49, 0.73904999999999998, 0.034124999999999996, -0.61814999999999998)"
       ]
      },
      {
       "output_type": "stream",
       "stream": "stdout",
       "text": [
        "\n",
        "(50, 0.84483749999999991, -0.012674999999999999, -0.41144999999999998)"
       ]
      },
      {
       "output_type": "stream",
       "stream": "stdout",
       "text": [
        "\n",
        "(51, 0.92771249999999994, -0.10627499999999999, -0.15989999999999999)"
       ]
      },
      {
       "output_type": "stream",
       "stream": "stdout",
       "text": [
        "\n",
        "(52, 0.96232499999999999, -0.11943749999999999, 0.067275000000000001)"
       ]
      },
      {
       "output_type": "stream",
       "stream": "stdout",
       "text": [
        "\n",
        "(53, 0.92917499999999997, -0.207675, 0.47774999999999995)"
       ]
      },
      {
       "output_type": "stream",
       "stream": "stdout",
       "text": [
        "\n",
        "(54, 0.77317499999999995, -0.2535, 0.68835000000000002)"
       ]
      },
      {
       "output_type": "stream",
       "stream": "stdout",
       "text": [
        "\n",
        "(55, 0.57524999999999993, -0.23887499999999998, 0.83265)"
       ]
      },
      {
       "output_type": "stream",
       "stream": "stdout",
       "text": [
        "\n",
        "(56, 0.268125, -0.37829999999999997, 0.83362499999999995)"
       ]
      },
      {
       "output_type": "stream",
       "stream": "stdout",
       "text": [
        "\n",
        "(57, 0.02145, -0.66592499999999999, 0.66592499999999999)"
       ]
      },
      {
       "output_type": "stream",
       "stream": "stdout",
       "text": [
        "\n",
        "(58, -0.48067499999999996, -0.699075, 0.27689999999999998)"
       ]
      },
      {
       "output_type": "stream",
       "stream": "stdout",
       "text": [
        "\n",
        "(59, -0.79169999999999996, -0.62497499999999995, -0.0014624999999999998)"
       ]
      },
      {
       "output_type": "stream",
       "stream": "stdout",
       "text": [
        "\n",
        "(60, -0.70004999999999995, -0.64349999999999996, -0.27592499999999998)"
       ]
      },
      {
       "output_type": "stream",
       "stream": "stdout",
       "text": [
        "\n",
        "(61, -0.69322499999999998, -0.61522500000000002, -0.39779999999999999)"
       ]
      },
      {
       "output_type": "stream",
       "stream": "stdout",
       "text": [
        "\n",
        "(62, -0.67518749999999994, -0.62790000000000001, -0.548925)"
       ]
      },
      {
       "output_type": "stream",
       "stream": "stdout",
       "text": [
        "\n",
        "(63, -0.45434999999999998, -0.66494999999999993, -0.71954999999999991)"
       ]
      },
      {
       "output_type": "stream",
       "stream": "stdout",
       "text": [
        "\n",
        "(64, 0.39633750000000001, -0.50407499999999994, -0.50895000000000001)"
       ]
      },
      {
       "output_type": "stream",
       "stream": "stdout",
       "text": [
        "\n",
        "(65, 0.85409999999999997, -0.47092499999999998, 0.20865)"
       ]
      },
      {
       "output_type": "stream",
       "stream": "stdout",
       "text": [
        "\n",
        "(66, 0.62887499999999996, -0.065324999999999994, 0.58304999999999996)"
       ]
      },
      {
       "output_type": "stream",
       "stream": "stdout",
       "text": [
        "\n",
        "(67, 0.47969999999999996, 0.20085, 1.0110749999999999)"
       ]
      },
      {
       "output_type": "stream",
       "stream": "stdout",
       "text": [
        "\n",
        "(68, -0.10237499999999999, 0.73319999999999996, 0.50309999999999999)"
       ]
      },
      {
       "output_type": "stream",
       "stream": "stdout",
       "text": [
        "\n",
        "(69, -0.43679999999999997, 0.84776249999999997, 0.0195)"
       ]
      },
      {
       "output_type": "stream",
       "stream": "stdout",
       "text": [
        "\n",
        "(70, -0.54648750000000001, 0.79803749999999996, -0.5884125)"
       ]
      },
      {
       "output_type": "stream",
       "stream": "stdout",
       "text": [
        "\n",
        "(71, -0.21839999999999998, 0.43874999999999997, -0.98572499999999996)"
       ]
      },
      {
       "output_type": "stream",
       "stream": "stdout",
       "text": [
        "\n",
        "(72, -0.11505, 0.114075, -1.067625)"
       ]
      },
      {
       "output_type": "stream",
       "stream": "stdout",
       "text": [
        "\n",
        "(73, -0.099937499999999999, 0.085800000000000001, -1.0832249999999999)"
       ]
      },
      {
       "output_type": "stream",
       "stream": "stdout",
       "text": [
        "\n",
        "(74, 0.11505, 0.58109999999999995, -0.79998749999999996)"
       ]
      },
      {
       "output_type": "stream",
       "stream": "stdout",
       "text": [
        "\n",
        "(75, 0.28664999999999996, 0.818025, -0.19305)"
       ]
      },
      {
       "output_type": "stream",
       "stream": "stdout",
       "text": [
        "\n",
        "(76, 0.52844999999999998, 0.82094999999999996, -0.0277875)"
       ]
      },
      {
       "output_type": "stream",
       "stream": "stdout",
       "text": [
        "\n",
        "(77, 0.6157125, 0.8034, 0.25545000000000001)"
       ]
      },
      {
       "output_type": "stream",
       "stream": "stdout",
       "text": [
        "\n",
        "(78, 0.59572499999999995, 0.42217499999999997, 0.6552)"
       ]
      },
      {
       "output_type": "stream",
       "stream": "stdout",
       "text": [
        "\n",
        "(79, 0.56062499999999993, 0.27982499999999999, 0.81217499999999998)"
       ]
      },
      {
       "output_type": "stream",
       "stream": "stdout",
       "text": [
        "\n",
        "(80, 0.62107499999999993, 0.016574999999999999, 0.69224999999999992)"
       ]
      },
      {
       "output_type": "stream",
       "stream": "stdout",
       "text": [
        "\n",
        "(81, 0.67957499999999993, -0.21937499999999999, 0.50700000000000001)"
       ]
      },
      {
       "output_type": "stream",
       "stream": "stdout",
       "text": [
        "\n",
        "(82, 0.69224999999999992, -0.47189999999999999, 0.16087499999999999)"
       ]
      },
      {
       "output_type": "stream",
       "stream": "stdout",
       "text": [
        "\n",
        "(83, 0.70784999999999998, -0.64154999999999995, 0.20572499999999999)"
       ]
      },
      {
       "output_type": "stream",
       "stream": "stdout",
       "text": [
        "\n",
        "(84, 0.55769999999999997, -0.84824999999999995, 0.33929999999999999)"
       ]
      },
      {
       "output_type": "stream",
       "stream": "stdout",
       "text": [
        "\n",
        "(85, 0.071175000000000002, -0.94282499999999991, 0.33247499999999997)"
       ]
      },
      {
       "output_type": "stream",
       "stream": "stdout",
       "text": [
        "\n",
        "(86, -0.084824999999999998, -0.94672499999999993, 0.30809999999999998)"
       ]
      },
      {
       "output_type": "stream",
       "stream": "stdout",
       "text": [
        "\n",
        "(87, -0.1184625, -0.97792499999999993, -0.011699999999999999)"
       ]
      },
      {
       "output_type": "stream",
       "stream": "stdout",
       "text": [
        "\n",
        "(88, -0.18914999999999998, -0.92624999999999991, -0.52406249999999999)"
       ]
      },
      {
       "output_type": "stream",
       "stream": "stdout",
       "text": [
        "\n",
        "(89, 0.02145, -0.70882499999999993, -0.76244999999999996)"
       ]
      },
      {
       "output_type": "stream",
       "stream": "stdout",
       "text": [
        "\n",
        "(90, 0.1993875, -0.38414999999999999, -0.95647499999999996)"
       ]
      },
      {
       "output_type": "stream",
       "stream": "stdout",
       "text": [
        "\n",
        "(91, 0.30419999999999997, -0.051674999999999999, -1.026675)"
       ]
      },
      {
       "output_type": "stream",
       "stream": "stdout",
       "text": [
        "\n",
        "(92, 0.50212499999999993, -0.039, -0.92137499999999994)"
       ]
      },
      {
       "output_type": "stream",
       "stream": "stdout",
       "text": [
        "\n",
        "(93, 0.57573750000000001, -0.19305, -0.77999999999999992)"
       ]
      },
      {
       "output_type": "stream",
       "stream": "stdout",
       "text": [
        "\n",
        "(94, 0.52844999999999998, -0.62058749999999996, -0.38756249999999998)"
       ]
      },
      {
       "output_type": "stream",
       "stream": "stdout",
       "text": [
        "\n",
        "(95, 0.41388749999999996, -0.86580000000000001, 0.19109999999999999)"
       ]
      },
      {
       "output_type": "stream",
       "stream": "stdout",
       "text": [
        "\n",
        "(96, 0.48067499999999996, -0.624, 0.74197499999999994)"
       ]
      },
      {
       "output_type": "stream",
       "stream": "stdout",
       "text": [
        "\n",
        "(97, 0.445575, -0.12772500000000001, 0.83655000000000002)"
       ]
      },
      {
       "output_type": "stream",
       "stream": "stdout",
       "text": [
        "\n",
        "(98, 0.44264999999999999, 0.2145, 0.63082499999999997)"
       ]
      },
      {
       "output_type": "stream",
       "stream": "stdout",
       "text": [
        "\n",
        "(99, 0.89456249999999993, 0.19694999999999999, -0.097499999999999989)"
       ]
      },
      {
       "output_type": "stream",
       "stream": "stdout",
       "text": [
        "\n",
        "(100, 0.85604999999999998, -0.039974999999999997, -0.72344999999999993)"
       ]
      },
      {
       "output_type": "stream",
       "stream": "stdout",
       "text": [
        "\n",
        "(101, 0.54794999999999994, -0.149175, -0.87749999999999995)"
       ]
      },
      {
       "output_type": "stream",
       "stream": "stdout",
       "text": [
        "\n",
        "(102, 0.31784999999999997, -0.3276, -0.79267500000000002)"
       ]
      },
      {
       "output_type": "stream",
       "stream": "stdout",
       "text": [
        "\n",
        "(103, 0.2598375, -0.64252500000000001, -0.72734999999999994)"
       ]
      },
      {
       "output_type": "stream",
       "stream": "stdout",
       "text": [
        "\n",
        "(104, 0.29493749999999996, -0.78487499999999999, -0.49627499999999997)"
       ]
      },
      {
       "output_type": "stream",
       "stream": "stdout",
       "text": [
        "\n",
        "(105, 0.25447500000000001, -0.88139999999999996, -0.27787499999999998)"
       ]
      },
      {
       "output_type": "stream",
       "stream": "stdout",
       "text": [
        "\n",
        "(106, 0.41876249999999998, -0.85458749999999994, -0.13747499999999999)"
       ]
      },
      {
       "output_type": "stream",
       "stream": "stdout",
       "text": [
        "\n",
        "(107, 0.62497499999999995, -0.70784999999999998, -0.11309999999999999)"
       ]
      },
      {
       "output_type": "stream",
       "stream": "stdout",
       "text": [
        "\n",
        "(108, 0.75172499999999998, -0.53039999999999998, -0.37732499999999997)"
       ]
      },
      {
       "output_type": "stream",
       "stream": "stdout",
       "text": [
        "\n",
        "(109, 0.77171249999999991, -0.25837499999999997, -0.72344999999999993)"
       ]
      },
      {
       "output_type": "stream",
       "stream": "stdout",
       "text": [
        "\n",
        "(110, 0.61522500000000002, -0.046799999999999994, -0.85312499999999991)"
       ]
      },
      {
       "output_type": "stream",
       "stream": "stdout",
       "text": [
        "\n",
        "(111, 0.36269999999999997, -0.049724999999999998, -0.995475)"
       ]
      },
      {
       "output_type": "stream",
       "stream": "stdout",
       "text": [
        "\n",
        "(112, 0.49627499999999997, -0.25496249999999998, -0.73514999999999997)"
       ]
      },
      {
       "output_type": "stream",
       "stream": "stdout",
       "text": [
        "\n",
        "(113, 0.79413749999999994, -0.35197499999999998, -0.10188749999999999)"
       ]
      },
      {
       "output_type": "stream",
       "stream": "stdout",
       "text": [
        "\n",
        "(114, 0.89407499999999995, -0.19548749999999998, 0.5655)"
       ]
      },
      {
       "output_type": "stream",
       "stream": "stdout",
       "text": [
        "\n",
        "(115, 0.46166249999999998, -0.141375, 1.0544624999999999)"
       ]
      },
      {
       "output_type": "stream",
       "stream": "stdout",
       "text": [
        "\n",
        "(116, -0.13747499999999999, 0.00097499999999999996, 0.80827499999999997)"
       ]
      },
      {
       "output_type": "stream",
       "stream": "stdout",
       "text": [
        "\n",
        "(117, -0.81119999999999992, -0.11699999999999999, 0.28664999999999996)"
       ]
      },
      {
       "output_type": "stream",
       "stream": "stdout",
       "text": [
        "\n",
        "(118, -0.91698749999999996, -0.31492500000000001, -0.04095)"
       ]
      },
      {
       "output_type": "stream",
       "stream": "stdout",
       "text": [
        "\n",
        "(119, -0.89017499999999994, -0.43874999999999997, -0.52064999999999995)"
       ]
      },
      {
       "output_type": "stream",
       "stream": "stdout",
       "text": [
        "\n",
        "(120, -0.61522500000000002, -0.42119999999999996, -0.83655000000000002)"
       ]
      },
      {
       "output_type": "stream",
       "stream": "stdout",
       "text": [
        "\n",
        "(121, -0.40413749999999998, 0.0077999999999999996, -1.0705499999999999)"
       ]
      },
      {
       "output_type": "stream",
       "stream": "stdout",
       "text": [
        "\n",
        "(122, -0.64496249999999999, 0.268125, -0.63472499999999998)"
       ]
      },
      {
       "output_type": "stream",
       "stream": "stdout",
       "text": [
        "\n",
        "(123, -0.72539999999999993, 0.236925, -0.52747500000000003)"
       ]
      },
      {
       "output_type": "stream",
       "stream": "stdout",
       "text": [
        "\n",
        "(124, -0.97109999999999996, 0.016574999999999999, -0.0068249999999999995)"
       ]
      },
      {
       "output_type": "stream",
       "stream": "stdout",
       "text": [
        "\n",
        "(125, -0.98085, -0.13747499999999999, 0.342225)"
       ]
      },
      {
       "output_type": "stream",
       "stream": "stdout",
       "text": [
        "\n",
        "(126, -0.78389999999999993, -0.162825, 0.77999999999999992)"
       ]
      },
      {
       "output_type": "stream",
       "stream": "stdout",
       "text": [
        "\n",
        "(127, -0.41096250000000001, 0.24862499999999998, 0.84824999999999995)"
       ]
      },
      {
       "output_type": "stream",
       "stream": "stdout",
       "text": [
        "\n",
        "(128, -0.30907499999999999, 0.77317499999999995, 0.076049999999999993)"
       ]
      },
      {
       "output_type": "stream",
       "stream": "stdout",
       "text": [
        "\n",
        "(129, -0.64154999999999995, 0.72052499999999997, -0.50895000000000001)"
       ]
      },
      {
       "output_type": "stream",
       "stream": "stdout",
       "text": [
        "\n",
        "(130, -0.39584999999999998, 0.22522499999999998, -1.0578749999999999)"
       ]
      },
      {
       "output_type": "stream",
       "stream": "stdout",
       "text": [
        "\n",
        "(131, -0.192075, -0.23497499999999999, -0.96817500000000001)"
       ]
      },
      {
       "output_type": "stream",
       "stream": "stdout",
       "text": [
        "\n",
        "(132, 0.27982499999999999, -0.48945, -0.81119999999999992)"
       ]
      },
      {
       "output_type": "stream",
       "stream": "stdout",
       "text": [
        "\n",
        "(133, 0.46799999999999997, -0.70687499999999992, -0.54307499999999997)"
       ]
      },
      {
       "output_type": "stream",
       "stream": "stdout",
       "text": [
        "\n",
        "(134, 0.53771249999999993, -0.77122499999999994, -0.050699999999999995)"
       ]
      },
      {
       "output_type": "stream",
       "stream": "stdout",
       "text": [
        "\n",
        "(135, 0.54794999999999994, -0.75659999999999994, 0.48359999999999997)"
       ]
      },
      {
       "output_type": "stream",
       "stream": "stdout",
       "text": [
        "\n",
        "(136, 0.30809999999999998, -0.52844999999999998, 0.77317499999999995)"
       ]
      },
      {
       "output_type": "stream",
       "stream": "stdout",
       "text": [
        "\n",
        "(137, -0.0068249999999999995, -0.083849999999999994, 0.94867499999999993)"
       ]
      },
      {
       "output_type": "stream",
       "stream": "stdout",
       "text": [
        "\n",
        "(138, -0.39487499999999998, 0.10725, 0.73709999999999998)"
       ]
      },
      {
       "output_type": "stream",
       "stream": "stdout",
       "text": [
        "\n",
        "(139, -0.58694999999999997, -0.24667499999999998, 0.6157125)"
       ]
      },
      {
       "output_type": "stream",
       "stream": "stdout",
       "text": [
        "\n",
        "(140, -0.75172499999999998, -0.48847499999999999, 0.34027499999999999)"
       ]
      },
      {
       "output_type": "stream",
       "stream": "stdout",
       "text": [
        "\n",
        "(141, -0.70589999999999997, -0.76829999999999998, -0.19499999999999998)"
       ]
      },
      {
       "output_type": "stream",
       "stream": "stdout",
       "text": [
        "\n",
        "(142, -0.17354999999999998, -0.82874999999999999, -0.44947499999999996)"
       ]
      },
      {
       "output_type": "stream",
       "stream": "stdout",
       "text": [
        "\n",
        "(143, 0.6157125, -0.58889999999999998, -0.24033749999999998)"
       ]
      },
      {
       "output_type": "stream",
       "stream": "stdout",
       "text": [
        "\n",
        "(144, 0.97792499999999993, 0.096525, 0.34027499999999999)"
       ]
      },
      {
       "output_type": "stream",
       "stream": "stdout",
       "text": [
        "\n",
        "(145, 0.61424999999999996, 0.70882499999999993, 0.45239999999999997)"
       ]
      },
      {
       "output_type": "stream",
       "stream": "stdout",
       "text": [
        "\n",
        "(146, 0.4099875, 0.818025, -0.52259999999999995)"
       ]
      },
      {
       "output_type": "stream",
       "stream": "stdout",
       "text": [
        "\n",
        "(147, 0.36172499999999996, 0.59816249999999993, -0.92917499999999997)"
       ]
      },
      {
       "output_type": "stream",
       "stream": "stdout",
       "text": [
        "\n",
        "(148, 0.055574999999999999, 0.36269999999999997, -1.0135125)"
       ]
      },
      {
       "output_type": "stream",
       "stream": "stdout",
       "text": [
        "\n",
        "(149, 0.10871249999999999, -0.26324999999999998, -1.0447124999999999)"
       ]
      },
      {
       "output_type": "stream",
       "stream": "stdout",
       "text": [
        "\n",
        "(150, -0.3943875, -0.199875, -0.78292499999999998)"
       ]
      },
      {
       "output_type": "stream",
       "stream": "stdout",
       "text": [
        "\n",
        "(151, -0.64154999999999995, -0.45337499999999997, -0.728325)"
       ]
      },
      {
       "output_type": "stream",
       "stream": "stdout",
       "text": [
        "\n",
        "(152, -0.75221249999999995, -0.39877499999999999, -0.35099999999999998)"
       ]
      },
      {
       "output_type": "stream",
       "stream": "stdout",
       "text": [
        "\n",
        "(153, -0.88529999999999998, -0.268125, -0.12675)"
       ]
      },
      {
       "output_type": "stream",
       "stream": "stdout",
       "text": [
        "\n",
        "(154, -0.91113749999999993, -0.37439999999999996, 0.41535)"
       ]
      },
      {
       "output_type": "stream",
       "stream": "stdout",
       "text": [
        "\n",
        "(155, -0.29786249999999997, -0.51674999999999993, 0.65812499999999996)"
       ]
      },
      {
       "output_type": "stream",
       "stream": "stdout",
       "text": [
        "\n",
        "(156, 0.46994999999999998, -0.73271249999999999, 0.37927499999999997)"
       ]
      },
      {
       "output_type": "stream",
       "stream": "stdout",
       "text": [
        "\n",
        "(157, 0.68640000000000001, -0.78779999999999994, 0.0058499999999999993)"
       ]
      },
      {
       "output_type": "stream",
       "stream": "stdout",
       "text": [
        "\n",
        "(158, 0.60839999999999994, -0.818025, -0.133575)"
       ]
      },
      {
       "output_type": "stream",
       "stream": "stdout",
       "text": [
        "\n",
        "(159, 0.39682499999999998, -0.85019999999999996, -0.17354999999999998)"
       ]
      },
      {
       "output_type": "stream",
       "stream": "stdout",
       "text": [
        "\n",
        "(160, 0.24862499999999998, -0.91747499999999993, -0.20865)"
       ]
      },
      {
       "output_type": "stream",
       "stream": "stdout",
       "text": [
        "\n",
        "(161, 0.21059999999999998, -0.88529999999999998, -0.39389999999999997)"
       ]
      },
      {
       "output_type": "stream",
       "stream": "stdout",
       "text": [
        "\n",
        "(162, 0.029249999999999998, -0.97792499999999993, 0.0)"
       ]
      },
      {
       "output_type": "stream",
       "stream": "stdout",
       "text": [
        "\n",
        "(163, -0.049724999999999998, -0.97841249999999991, 0.27007500000000001)"
       ]
      },
      {
       "output_type": "stream",
       "stream": "stdout",
       "text": [
        "\n",
        "(164, -0.11309999999999999, -0.96232499999999999, 0.416325)"
       ]
      },
      {
       "output_type": "stream",
       "stream": "stdout",
       "text": [
        "\n",
        "(165, 0.34173749999999997, -0.86385000000000001, -0.29152499999999998)"
       ]
      },
      {
       "output_type": "stream",
       "stream": "stdout",
       "text": [
        "\n",
        "(166, 0.37829999999999997, -0.74490000000000001, -0.29542499999999999)"
       ]
      },
      {
       "output_type": "stream",
       "stream": "stdout",
       "text": [
        "\n",
        "(167, 0.62692499999999995, -0.45727499999999999, -0.61278749999999993)"
       ]
      },
      {
       "output_type": "stream",
       "stream": "stdout",
       "text": [
        "\n",
        "(168, 0.5864625, 0.3276, -0.81607499999999999)"
       ]
      },
      {
       "output_type": "stream",
       "stream": "stdout",
       "text": [
        "\n",
        "(169, 0.01755, 0.85409999999999997, -0.59084999999999999)"
       ]
      },
      {
       "output_type": "stream",
       "stream": "stdout",
       "text": [
        "\n",
        "(170, 0.00975, 0.97207499999999991, -0.070199999999999999)"
       ]
      },
      {
       "output_type": "stream",
       "stream": "stdout",
       "text": [
        "\n",
        "(171, 0.023399999999999997, 0.995475, 0.03705)"
       ]
      },
      {
       "output_type": "stream",
       "stream": "stdout",
       "text": [
        "\n",
        "(172, 0.11748749999999999, 0.87944999999999995, 0.15746250000000001)"
       ]
      },
      {
       "output_type": "stream",
       "stream": "stdout",
       "text": [
        "\n",
        "(173, -0.004875, 0.94184999999999997, 0.16184999999999999)"
       ]
      },
      {
       "output_type": "stream",
       "stream": "stdout",
       "text": [
        "\n",
        "(174, -0.045824999999999998, 0.99157499999999998, 0.32077499999999998)"
       ]
      },
      {
       "output_type": "stream",
       "stream": "stdout",
       "text": [
        "\n",
        "(175, -0.012674999999999999, 1.0247249999999999, -0.11115)"
       ]
      },
      {
       "output_type": "stream",
       "stream": "stdout",
       "text": [
        "\n",
        "(176, -0.11651249999999999, 1.0880999999999998, 0.20085)"
       ]
      },
      {
       "output_type": "stream",
       "stream": "stdout",
       "text": [
        "\n",
        "(177, -0.30712499999999998, 0.81899999999999995, -0.49334999999999996)"
       ]
      },
      {
       "output_type": "stream",
       "stream": "stdout",
       "text": [
        "\n",
        "(178, 0.035587500000000001, 0.94574999999999998, -0.15356249999999999)"
       ]
      },
      {
       "output_type": "stream",
       "stream": "stdout",
       "text": [
        "\n",
        "(179, -0.1399125, 1.0569, -0.18427499999999999)"
       ]
      },
      {
       "output_type": "stream",
       "stream": "stdout",
       "text": [
        "\n",
        "(180, 0.11115, 0.81997500000000001, -0.65812499999999996)"
       ]
      },
      {
       "output_type": "stream",
       "stream": "stdout",
       "text": [
        "\n",
        "(181, 0.52308749999999993, 0.28470000000000001, -0.77415)"
       ]
      },
      {
       "output_type": "stream",
       "stream": "stdout",
       "text": [
        "\n",
        "(182, 0.74490000000000001, 0.066299999999999998, -0.70102500000000001)"
       ]
      },
      {
       "output_type": "stream",
       "stream": "stdout",
       "text": [
        "\n",
        "(183, 0.79949999999999999, -0.32955000000000001, -0.61814999999999998)"
       ]
      },
      {
       "output_type": "stream",
       "stream": "stdout",
       "text": [
        "\n",
        "(184, 0.65715000000000001, -0.33929999999999999, -0.59084999999999999)"
       ]
      },
      {
       "output_type": "stream",
       "stream": "stdout",
       "text": [
        "\n",
        "(185, 0.156, -0.73124999999999996, -0.24033749999999998)"
       ]
      },
      {
       "output_type": "stream",
       "stream": "stdout",
       "text": [
        "\n",
        "(186, -0.080437499999999995, -0.92478749999999998, 0.14624999999999999)"
       ]
      },
      {
       "output_type": "stream",
       "stream": "stdout",
       "text": [
        "\n",
        "(187, -0.89115, -0.31492500000000001, 0.070199999999999999)"
       ]
      },
      {
       "output_type": "stream",
       "stream": "stdout",
       "text": [
        "\n",
        "(188, -0.97694999999999999, 0.44069999999999998, 0.236925)"
       ]
      },
      {
       "output_type": "stream",
       "stream": "stdout",
       "text": [
        "\n",
        "(189, -0.71467499999999995, 0.80145, 0.1482)"
       ]
      },
      {
       "output_type": "stream",
       "stream": "stdout",
       "text": [
        "\n",
        "(190, -0.60060000000000002, 0.78097499999999997, 0.21742499999999998)"
       ]
      },
      {
       "output_type": "stream",
       "stream": "stdout",
       "text": [
        "\n",
        "(191, -0.268125, 1.0208249999999999, 0.07897499999999999)"
       ]
      },
      {
       "output_type": "stream",
       "stream": "stdout",
       "text": [
        "\n",
        "(192, -0.68201250000000002, 0.44167499999999998, 0.19305)"
       ]
      },
      {
       "output_type": "stream",
       "stream": "stdout",
       "text": [
        "\n",
        "(193, -0.87896249999999998, 0.14624999999999999, 0.092624999999999999)"
       ]
      },
      {
       "output_type": "stream",
       "stream": "stdout",
       "text": [
        "\n",
        "(194, -1.1163749999999999, -0.36659999999999998, -0.46604999999999996)"
       ]
      },
      {
       "output_type": "stream",
       "stream": "stdout",
       "text": [
        "\n",
        "(195, -0.21742499999999998, -0.50797499999999995, -0.79559999999999997)"
       ]
      },
      {
       "output_type": "stream",
       "stream": "stdout",
       "text": [
        "\n",
        "(196, 0.43436249999999998, -0.31395000000000001, -0.75269999999999992)"
       ]
      },
      {
       "output_type": "stream",
       "stream": "stdout",
       "text": [
        "\n",
        "(197, 0.63569999999999993, 0.070199999999999999, -0.57329999999999992)"
       ]
      },
      {
       "output_type": "stream",
       "stream": "stdout",
       "text": [
        "\n",
        "(198, 0.79949999999999999, 0.22424999999999998, -0.39584999999999998)"
       ]
      },
      {
       "output_type": "stream",
       "stream": "stdout",
       "text": [
        "\n",
        "(199, 0.92624999999999991, 0.2223, -0.38999999999999996)"
       ]
      },
      {
       "output_type": "stream",
       "stream": "stdout",
       "text": [
        "\n",
        "(200, 0.94964999999999999, 0.27884999999999999, -0.11992499999999999)"
       ]
      },
      {
       "output_type": "stream",
       "stream": "stdout",
       "text": [
        "\n",
        "(201, 0.98231249999999992, -0.25545000000000001, 0.40754999999999997)"
       ]
      },
      {
       "output_type": "stream",
       "stream": "stdout",
       "text": [
        "\n",
        "(202, 0.59767499999999996, -0.57622499999999999, 0.46312499999999995)"
       ]
      },
      {
       "output_type": "stream",
       "stream": "stdout",
       "text": [
        "\n",
        "(203, 0.076049999999999993, -0.88919999999999999, 0.51772499999999999)"
       ]
      },
      {
       "output_type": "stream",
       "stream": "stdout",
       "text": [
        "\n",
        "(204, -0.34514999999999996, -0.65032499999999993, 0.55769999999999997)"
       ]
      },
      {
       "output_type": "stream",
       "stream": "stdout",
       "text": [
        "\n",
        "(205, -0.71272499999999994, -0.42607499999999998, 0.54307499999999997)"
       ]
      },
      {
       "output_type": "stream",
       "stream": "stdout",
       "text": [
        "\n",
        "(206, -0.60254999999999992, -0.39633750000000001, 0.69614999999999994)"
       ]
      },
      {
       "output_type": "stream",
       "stream": "stdout",
       "text": [
        "\n",
        "(207, -0.71565000000000001, 0.004875, 0.63569999999999993)"
       ]
      },
      {
       "output_type": "stream",
       "stream": "stdout",
       "text": [
        "\n",
        "(208, -0.69371249999999995, 0.2442375, 0.64057500000000001)"
       ]
      },
      {
       "output_type": "stream",
       "stream": "stdout",
       "text": [
        "\n",
        "(209, -0.54210000000000003, 0.966225, 0.10237499999999999)"
       ]
      },
      {
       "output_type": "stream",
       "stream": "stdout",
       "text": [
        "\n",
        "(210, -0.48457499999999998, 0.98767499999999997, -0.27982499999999999)"
       ]
      },
      {
       "output_type": "stream",
       "stream": "stdout",
       "text": [
        "\n",
        "(211, -0.24862499999999998, 0.98085, -0.3339375)"
       ]
      },
      {
       "output_type": "stream",
       "stream": "stdout",
       "text": [
        "\n",
        "(212, -0.34320000000000001, 0.786825, -0.63277499999999998)"
       ]
      },
      {
       "output_type": "stream",
       "stream": "stdout",
       "text": [
        "\n",
        "(213, -0.1326, 0.74977499999999997, -0.81704999999999994)"
       ]
      },
      {
       "output_type": "stream",
       "stream": "stdout",
       "text": [
        "\n",
        "(214, 0.16769999999999999, 0.77805000000000002, -0.64544999999999997)"
       ]
      },
      {
       "output_type": "stream",
       "stream": "stdout",
       "text": [
        "\n",
        "(215, 0.11505, 0.96671249999999997, -0.39731249999999996)"
       ]
      },
      {
       "output_type": "stream",
       "stream": "stdout",
       "text": [
        "\n",
        "(216, 0.067762500000000003, 0.905775, -0.16672499999999998)"
       ]
      },
      {
       "output_type": "stream",
       "stream": "stdout",
       "text": [
        "\n",
        "(217, 0.75172499999999998, 0.40462499999999996, -0.268125)"
       ]
      },
      {
       "output_type": "stream",
       "stream": "stdout",
       "text": [
        "\n",
        "(218, 1.022775, -0.093599999999999989, 0.21839999999999998)"
       ]
      },
      {
       "output_type": "stream",
       "stream": "stdout",
       "text": [
        "\n",
        "(219, 1.0949249999999999, -0.31346249999999998, 0.08287499999999999)"
       ]
      },
      {
       "output_type": "stream",
       "stream": "stdout",
       "text": [
        "\n",
        "(220, 0.81753749999999992, -0.70053749999999992, -0.0024375)"
       ]
      },
      {
       "output_type": "stream",
       "stream": "stdout",
       "text": [
        "\n",
        "(221, 0.44264999999999999, -0.4758, -0.93794999999999995)"
       ]
      },
      {
       "output_type": "stream",
       "stream": "stdout",
       "text": [
        "\n",
        "(222, 0.20474999999999999, -0.19597499999999998, -0.98182499999999995)"
       ]
      },
      {
       "output_type": "stream",
       "stream": "stdout",
       "text": [
        "\n",
        "(223, 0.74538749999999998, -0.32272499999999998, 0.14332499999999998)"
       ]
      },
      {
       "output_type": "stream",
       "stream": "stdout",
       "text": [
        "\n",
        "(224, 0.38805000000000001, -0.43582499999999996, 0.91552499999999992)"
       ]
      },
      {
       "output_type": "stream",
       "stream": "stdout",
       "text": [
        "\n",
        "(225, -0.38024999999999998, -0.10237499999999999, 0.68835000000000002)"
       ]
      },
      {
       "output_type": "stream",
       "stream": "stdout",
       "text": [
        "\n",
        "(226, -0.58938749999999995, -0.20572499999999999, 0.67567499999999991)"
       ]
      },
      {
       "output_type": "stream",
       "stream": "stdout",
       "text": [
        "\n",
        "(227, -0.86580000000000001, -0.26910000000000001, 0.51187499999999997)"
       ]
      },
      {
       "output_type": "stream",
       "stream": "stdout",
       "text": [
        "\n",
        "(228, -0.69809999999999994, -0.16672499999999998, 0.64642499999999992)"
       ]
      },
      {
       "output_type": "stream",
       "stream": "stdout",
       "text": [
        "\n",
        "(229, -0.74392499999999995, -0.1633125, 0.64447500000000002)"
       ]
      },
      {
       "output_type": "stream",
       "stream": "stdout",
       "text": [
        "\n",
        "(230, -0.73758749999999995, -0.14429999999999998, 0.48847499999999999)"
       ]
      },
      {
       "output_type": "stream",
       "stream": "stdout",
       "text": [
        "\n",
        "(231, -0.83167499999999994, -0.25739999999999996, 0.31589999999999996)"
       ]
      },
      {
       "output_type": "stream",
       "stream": "stdout",
       "text": [
        "\n",
        "(232, -0.92332499999999995, -0.56745000000000001, 0.09018749999999999)"
       ]
      },
      {
       "output_type": "stream",
       "stream": "stdout",
       "text": [
        "\n",
        "(233, -0.84629999999999994, -0.57524999999999993, 0.046799999999999994)"
       ]
      },
      {
       "output_type": "stream",
       "stream": "stdout",
       "text": [
        "\n",
        "(234, -0.61717499999999992, -0.52162500000000001, -0.65812499999999996)"
       ]
      },
      {
       "output_type": "stream",
       "stream": "stdout",
       "text": [
        "\n",
        "(235, -0.31638749999999999, -0.52552500000000002, -0.90382499999999999)"
       ]
      },
      {
       "output_type": "stream",
       "stream": "stdout",
       "text": [
        "\n",
        "(236, -0.17647499999999999, -0.44703749999999998, -0.907725)"
       ]
      },
      {
       "output_type": "stream",
       "stream": "stdout",
       "text": [
        "\n",
        "(237, -0.20279999999999998, -0.40754999999999997, -0.9179624999999999)"
       ]
      },
      {
       "output_type": "stream",
       "stream": "stdout",
       "text": [
        "\n",
        "(238, -0.0019499999999999999, -0.31784999999999997, -0.95647499999999996)"
       ]
      },
      {
       "output_type": "stream",
       "stream": "stdout",
       "text": [
        "\n",
        "(239, 0.19597499999999998, -0.357825, -0.91552499999999992)"
       ]
      },
      {
       "output_type": "stream",
       "stream": "stdout",
       "text": [
        "\n",
        "(240, 0.68347499999999994, -0.29688749999999997, -0.38805000000000001)"
       ]
      },
      {
       "output_type": "stream",
       "stream": "stdout",
       "text": [
        "\n",
        "(241, 0.9579375, -0.23594999999999999, 0.28470000000000001)"
       ]
      },
      {
       "output_type": "stream",
       "stream": "stdout",
       "text": [
        "\n",
        "(242, 0.73758749999999995, -0.30712499999999998, 0.70882499999999993)"
       ]
      },
      {
       "output_type": "stream",
       "stream": "stdout",
       "text": [
        "\n",
        "(243, 0.40852499999999997, -0.33734999999999998, 0.92917499999999997)"
       ]
      },
      {
       "output_type": "stream",
       "stream": "stdout",
       "text": [
        "\n",
        "(244, 0.0112125, -0.29542499999999999, 0.91601250000000001)"
       ]
      },
      {
       "output_type": "stream",
       "stream": "stdout",
       "text": [
        "\n",
        "(245, -0.20572499999999999, -0.28762499999999996, 0.88237499999999991)"
       ]
      },
      {
       "output_type": "stream",
       "stream": "stdout",
       "text": [
        "\n",
        "(246, -0.21011249999999998, -0.29152499999999998, 0.93014999999999992)"
       ]
      },
      {
       "output_type": "stream",
       "stream": "stdout",
       "text": [
        "\n",
        "(247, 0.1272375, -0.50992499999999996, 0.58694999999999997)"
       ]
      },
      {
       "output_type": "stream",
       "stream": "stdout",
       "text": [
        "\n",
        "(248, 0.56940000000000002, -0.85751250000000001, -0.096525)"
       ]
      },
      {
       "output_type": "stream",
       "stream": "stdout",
       "text": [
        "\n",
        "(249, 0.35294999999999999, -0.80388749999999998, -0.49822499999999997)"
       ]
      },
      {
       "output_type": "stream",
       "stream": "stdout",
       "text": [
        "\n",
        "(250, -0.18719999999999998, -0.81217499999999998, -0.429975)"
       ]
      },
      {
       "output_type": "stream",
       "stream": "stdout",
       "text": [
        "\n",
        "(251, -0.38951249999999998, -0.82387499999999991, -0.2223)"
       ]
      },
      {
       "output_type": "stream",
       "stream": "stdout",
       "text": [
        "\n",
        "(252, -0.74295, -0.59377499999999994, 0.117975)"
       ]
      },
      {
       "output_type": "stream",
       "stream": "stdout",
       "text": [
        "\n",
        "(253, -0.75513750000000002, -0.28275, 0.74392499999999995)"
       ]
      },
      {
       "output_type": "stream",
       "stream": "stdout",
       "text": [
        "\n",
        "(254, -0.371475, -0.16087499999999999, 0.85702499999999993)"
       ]
      },
      {
       "output_type": "stream",
       "stream": "stdout",
       "text": [
        "\n",
        "(255, -0.082387500000000002, -0.81607499999999999, 0.31053749999999997)"
       ]
      },
      {
       "output_type": "stream",
       "stream": "stdout",
       "text": [
        "\n",
        "(256, -0.1184625, -0.77415, -0.82582499999999992)"
       ]
      },
      {
       "output_type": "stream",
       "stream": "stdout",
       "text": [
        "\n",
        "(257, -0.14624999999999999, -0.084824999999999998, -1.10565)"
       ]
      },
      {
       "output_type": "stream",
       "stream": "stdout",
       "text": [
        "\n",
        "(258, -0.098474999999999993, 0.21937499999999999, -1.0461749999999999)"
       ]
      },
      {
       "output_type": "stream",
       "stream": "stdout",
       "text": [
        "\n",
        "(259, -0.14429999999999998, 0.40462499999999996, -0.95452499999999996)"
       ]
      },
      {
       "output_type": "stream",
       "stream": "stdout",
       "text": [
        "\n",
        "(260, -0.27689999999999998, 0.48262499999999997, -0.93112499999999998)"
       ]
      },
      {
       "output_type": "stream",
       "stream": "stdout",
       "text": [
        "\n",
        "(261, -0.39194999999999997, -0.055574999999999999, -1.2002249999999999)"
       ]
      },
      {
       "output_type": "stream",
       "stream": "stdout",
       "text": [
        "\n",
        "(262, -0.45239999999999997, -0.48067499999999996, -0.68445)"
       ]
      },
      {
       "output_type": "stream",
       "stream": "stdout",
       "text": [
        "\n",
        "(263, -0.400725, -0.72929999999999995, -0.51772499999999999)"
       ]
      },
      {
       "output_type": "stream",
       "stream": "stdout",
       "text": [
        "\n",
        "(264, -0.24862499999999998, -0.95257499999999995, -0.14235)"
       ]
      },
      {
       "output_type": "stream",
       "stream": "stdout",
       "text": [
        "\n",
        "(265, -0.075562499999999991, -0.91552499999999992, 0.46166249999999998)"
       ]
      },
      {
       "output_type": "stream",
       "stream": "stdout",
       "text": [
        "\n",
        "(266, 0.083849999999999994, -0.63569999999999993, 0.76829999999999998)"
       ]
      },
      {
       "output_type": "stream",
       "stream": "stdout",
       "text": [
        "\n",
        "(267, 0.36269999999999997, -0.1330875, 0.87359999999999993)"
       ]
      },
      {
       "output_type": "stream",
       "stream": "stdout",
       "text": [
        "\n",
        "(268, 0.39633750000000001, 0.10968749999999999, 0.91162499999999991)"
       ]
      },
      {
       "output_type": "stream",
       "stream": "stdout",
       "text": [
        "\n",
        "(269, -0.022425, 0.114075, 0.92527499999999996)"
       ]
      },
      {
       "output_type": "stream",
       "stream": "stdout",
       "text": [
        "\n",
        "(270, -0.28859999999999997, -0.17647499999999999, 0.91162499999999991)"
       ]
      },
      {
       "output_type": "stream",
       "stream": "stdout",
       "text": [
        "\n",
        "(271, -0.29542499999999999, -0.61327500000000001, 0.65617499999999995)"
       ]
      },
      {
       "output_type": "stream",
       "stream": "stdout",
       "text": [
        "\n",
        "(272, -0.16184999999999999, -0.90382499999999999, 0.43338749999999998)"
       ]
      },
      {
       "output_type": "stream",
       "stream": "stdout",
       "text": [
        "\n",
        "(273, -0.011699999999999999, -0.93209999999999993, 0.33344999999999997)"
       ]
      },
      {
       "output_type": "stream",
       "stream": "stdout",
       "text": [
        "\n",
        "(274, 0.12918749999999998, -0.62887499999999996, 0.85019999999999996)"
       ]
      },
      {
       "output_type": "stream",
       "stream": "stdout",
       "text": [
        "\n",
        "(275, 0.2145, 0.26129999999999998, 0.88724999999999998)"
       ]
      },
      {
       "output_type": "stream",
       "stream": "stdout",
       "text": [
        "\n",
        "(276, -0.0077999999999999996, 0.73417499999999991, 0.58889999999999998)"
       ]
      },
      {
       "output_type": "stream",
       "stream": "stdout",
       "text": [
        "\n",
        "(277, -0.41827500000000001, 0.87067499999999998, 0.31979999999999997)"
       ]
      },
      {
       "output_type": "stream",
       "stream": "stdout",
       "text": [
        "\n",
        "(278, -0.7137, 0.6030375, 0.156975)"
       ]
      },
      {
       "output_type": "stream",
       "stream": "stdout",
       "text": [
        "\n",
        "(279, -0.92186249999999992, 0.077512499999999998, -0.2608125)"
       ]
      },
      {
       "output_type": "stream",
       "stream": "stdout",
       "text": [
        "\n",
        "(280, -0.89602499999999996, -0.36757499999999999, -0.67274999999999996)"
       ]
      },
      {
       "output_type": "stream",
       "stream": "stdout",
       "text": [
        "\n",
        "(281, -0.42217499999999997, -0.63667499999999999, -0.73612499999999992)"
       ]
      },
      {
       "output_type": "stream",
       "stream": "stdout",
       "text": [
        "\n",
        "(282, -0.078, -0.78292499999999998, -0.61376249999999999)"
       ]
      },
      {
       "output_type": "stream",
       "stream": "stdout",
       "text": [
        "\n",
        "(283, -0.024374999999999997, -0.84239999999999993, -0.44752500000000001)"
       ]
      },
      {
       "output_type": "stream",
       "stream": "stdout",
       "text": [
        "\n",
        "(284, 0.1486875, -0.88919999999999999, -0.21937499999999999)"
       ]
      },
      {
       "output_type": "stream",
       "stream": "stdout",
       "text": [
        "\n",
        "(285, -0.25447500000000001, -0.78292499999999998, 0.60644999999999993)"
       ]
      },
      {
       "output_type": "stream",
       "stream": "stdout",
       "text": [
        "\n",
        "(286, -0.33149999999999996, -0.0068249999999999995, 0.86872499999999997)"
       ]
      },
      {
       "output_type": "stream",
       "stream": "stdout",
       "text": [
        "\n",
        "(287, -0.70979999999999999, -0.095549999999999996, 0.49237499999999995)"
       ]
      },
      {
       "output_type": "stream",
       "stream": "stdout",
       "text": [
        "\n",
        "(288, -0.92819999999999991, -0.18914999999999998, 0.18914999999999998)"
       ]
      },
      {
       "output_type": "stream",
       "stream": "stdout",
       "text": [
        "\n",
        "(289, -0.95013749999999997, -0.26032499999999997, 0.022912499999999999)"
       ]
      },
      {
       "output_type": "stream",
       "stream": "stdout",
       "text": [
        "\n",
        "(290, -0.92332499999999995, -0.27689999999999998, -0.19012499999999999)"
       ]
      },
      {
       "output_type": "stream",
       "stream": "stdout",
       "text": [
        "\n",
        "(291, -0.88383749999999994, -0.192075, -0.71857499999999996)"
       ]
      },
      {
       "output_type": "stream",
       "stream": "stdout",
       "text": [
        "\n",
        "(292, -0.51577499999999998, -0.29249999999999998, -1.0042499999999999)"
       ]
      },
      {
       "output_type": "stream",
       "stream": "stdout",
       "text": [
        "\n",
        "(293, 0.34320000000000001, -0.13064999999999999, -0.57914999999999994)"
       ]
      },
      {
       "output_type": "stream",
       "stream": "stdout",
       "text": [
        "\n",
        "(294, 0.88432499999999992, -0.43777499999999997, -0.12869999999999998)"
       ]
      },
      {
       "output_type": "stream",
       "stream": "stdout",
       "text": [
        "\n",
        "(295, 0.87311249999999996, -0.3276, 0.18768749999999998)"
       ]
      },
      {
       "output_type": "stream",
       "stream": "stdout",
       "text": [
        "\n",
        "(296, 0.62887499999999996, -0.1794, 1.0490999999999999)"
       ]
      },
      {
       "output_type": "stream",
       "stream": "stdout",
       "text": [
        "\n",
        "(297, -0.15307499999999999, 0.20426249999999999, 0.78974999999999995)"
       ]
      },
      {
       "output_type": "stream",
       "stream": "stdout",
       "text": [
        "\n",
        "(298, -0.80437499999999995, 0.12869999999999998, 0.31784999999999997)"
       ]
      },
      {
       "output_type": "stream",
       "stream": "stdout",
       "text": [
        "\n",
        "(299, -0.907725, 0.034612499999999997, 0.16965)"
       ]
      },
      {
       "output_type": "stream",
       "stream": "stdout",
       "text": [
        "\n",
        "(300, -1.014, -0.30419999999999997, 0.098474999999999993)"
       ]
      },
      {
       "output_type": "stream",
       "stream": "stdout",
       "text": [
        "\n",
        "(301, -0.9764624999999999, -0.4017, -0.49432499999999996)"
       ]
      },
      {
       "output_type": "stream",
       "stream": "stdout",
       "text": [
        "\n",
        "(302, -0.53722499999999995, -0.52259999999999995, -0.93112499999999998)"
       ]
      },
      {
       "output_type": "stream",
       "stream": "stdout",
       "text": [
        "\n",
        "(303, 0.022912499999999999, -0.23204999999999998, -1.0237499999999999)"
       ]
      },
      {
       "output_type": "stream",
       "stream": "stdout",
       "text": [
        "\n",
        "(304, -0.252525, 0.117975, -0.82972499999999993)"
       ]
      },
      {
       "output_type": "stream",
       "stream": "stdout",
       "text": [
        "\n",
        "(305, -0.57427499999999998, 0.20865, -0.57427499999999998)"
       ]
      },
      {
       "output_type": "stream",
       "stream": "stdout",
       "text": [
        "\n",
        "(306, -0.91844999999999999, 0.00097499999999999996, -0.31979999999999997)"
       ]
      },
      {
       "output_type": "stream",
       "stream": "stdout",
       "text": [
        "\n",
        "(307, -0.94233749999999994, -0.37927499999999997, 0.28664999999999996)"
       ]
      },
      {
       "output_type": "stream",
       "stream": "stdout",
       "text": [
        "\n",
        "(308, -0.36659999999999998, -0.41924999999999996, 0.88871249999999991)"
       ]
      },
      {
       "output_type": "stream",
       "stream": "stdout",
       "text": [
        "\n",
        "(309, 0.46702499999999997, 0.084824999999999998, 0.69419999999999993)"
       ]
      },
      {
       "output_type": "stream",
       "stream": "stdout",
       "text": [
        "\n",
        "(310, 0.85312499999999991, 0.37439999999999996, 0.38024999999999998)"
       ]
      },
      {
       "output_type": "stream",
       "stream": "stdout",
       "text": [
        "\n",
        "(311, 0.80291249999999992, 0.42314999999999997, -0.48457499999999998)"
       ]
      },
      {
       "output_type": "stream",
       "stream": "stdout",
       "text": [
        "\n",
        "(312, 0.73173749999999993, 0.089700000000000002, -0.89017499999999994)"
       ]
      },
      {
       "output_type": "stream",
       "stream": "stdout",
       "text": [
        "\n",
        "(313, 0.36611250000000001, -0.79462499999999991, -0.68932499999999997)"
       ]
      },
      {
       "output_type": "stream",
       "stream": "stdout",
       "text": [
        "\n",
        "(314, -0.133575, -0.669825, -0.7137)"
       ]
      },
      {
       "output_type": "stream",
       "stream": "stdout",
       "text": [
        "\n",
        "(315, -0.4675125, -0.58499999999999996, -0.35489999999999999)"
       ]
      },
      {
       "output_type": "stream",
       "stream": "stdout",
       "text": [
        "\n",
        "(316, -0.96378749999999991, -0.33734999999999998, 0.58597500000000002)"
       ]
      },
      {
       "output_type": "stream",
       "stream": "stdout",
       "text": [
        "\n",
        "(317, -0.34612499999999996, 0.015599999999999999, 0.91893749999999996)"
       ]
      },
      {
       "output_type": "stream",
       "stream": "stdout",
       "text": [
        "\n",
        "(318, 0.30224999999999996, 0.59670000000000001, 0.46994999999999998)"
       ]
      },
      {
       "output_type": "stream",
       "stream": "stdout",
       "text": [
        "\n",
        "(319, 0.79949999999999999, 0.48262499999999997, -0.077024999999999996)"
       ]
      },
      {
       "output_type": "stream",
       "stream": "stdout",
       "text": [
        "\n",
        "(320, 0.97743749999999996, 0.30127499999999996, -0.29932500000000001)"
       ]
      },
      {
       "output_type": "stream",
       "stream": "stdout",
       "text": [
        "\n",
        "(321, 0.92673749999999999, 0.24959999999999999, -0.67469999999999997)"
       ]
      },
      {
       "output_type": "stream",
       "stream": "stdout",
       "text": [
        "\n",
        "(322, 0.74099999999999999, 0.1633125, -0.85507499999999992)"
       ]
      },
      {
       "output_type": "stream",
       "stream": "stdout",
       "text": [
        "\n",
        "(323, 0.24033749999999998, 0.30419999999999997, -1.02765)"
       ]
      },
      {
       "output_type": "stream",
       "stream": "stdout",
       "text": [
        "\n",
        "(324, -0.075075000000000003, 0.014624999999999999, -0.9993749999999999)"
       ]
      },
      {
       "output_type": "stream",
       "stream": "stdout",
       "text": [
        "\n",
        "(325, -0.51090000000000002, -0.01755, -0.88919999999999999)"
       ]
      },
      {
       "output_type": "stream",
       "stream": "stdout",
       "text": [
        "\n",
        "(326, -0.79559999999999997, -0.083849999999999994, -0.31687499999999996)"
       ]
      },
      {
       "output_type": "stream",
       "stream": "stdout",
       "text": [
        "\n",
        "(327, -0.94233749999999994, -0.49529999999999996, 0.3276)"
       ]
      },
      {
       "output_type": "stream",
       "stream": "stdout",
       "text": [
        "\n",
        "(328, -0.44655, -0.49334999999999996, 0.73417499999999991)"
       ]
      },
      {
       "output_type": "stream",
       "stream": "stdout",
       "text": [
        "\n",
        "(329, 0.40365000000000001, -0.50797499999999995, 0.42899999999999999)"
       ]
      },
      {
       "output_type": "stream",
       "stream": "stdout",
       "text": [
        "\n",
        "(330, 0.88237499999999991, -0.52357500000000001, 0.011699999999999999)"
       ]
      },
      {
       "output_type": "stream",
       "stream": "stdout",
       "text": [
        "\n",
        "(331, 0.89992499999999997, -0.30907499999999999, -0.47189999999999999)"
       ]
      },
      {
       "output_type": "stream",
       "stream": "stdout",
       "text": [
        "\n",
        "(332, 0.84337499999999999, -0.357825, -0.52552500000000002)"
       ]
      },
      {
       "output_type": "stream",
       "stream": "stdout",
       "text": [
        "\n",
        "(333, 0.44264999999999999, -0.50017499999999993, -0.53234999999999999)"
       ]
      },
      {
       "output_type": "stream",
       "stream": "stdout",
       "text": [
        "\n",
        "(334, 0.067762500000000003, -0.87847500000000001, -0.28957499999999997)"
       ]
      },
      {
       "output_type": "stream",
       "stream": "stdout",
       "text": [
        "\n",
        "(335, -0.16916249999999999, -0.9286875, -0.39292499999999997)"
       ]
      },
      {
       "output_type": "stream",
       "stream": "stdout",
       "text": [
        "\n",
        "(336, -0.15892499999999998, -0.94379999999999997, -0.355875)"
       ]
      },
      {
       "output_type": "stream",
       "stream": "stdout",
       "text": [
        "\n",
        "(337, 0.47969999999999996, -0.62790000000000001, 0.51285000000000003)"
       ]
      },
      {
       "output_type": "stream",
       "stream": "stdout",
       "text": [
        "\n",
        "(338, 0.67226249999999999, -0.12967499999999998, 0.83216249999999992)"
       ]
      },
      {
       "output_type": "stream",
       "stream": "stdout",
       "text": [
        "\n",
        "(339, 0.28859999999999997, 0.90674999999999994, 0.33149999999999996)"
       ]
      },
      {
       "output_type": "stream",
       "stream": "stdout",
       "text": [
        "\n",
        "(340, -0.40852499999999997, 0.87359999999999993, -0.047774999999999998)"
       ]
      },
      {
       "output_type": "stream",
       "stream": "stdout",
       "text": [
        "\n",
        "(341, -0.69809999999999994, 0.77171249999999991, -0.070199999999999999)"
       ]
      },
      {
       "output_type": "stream",
       "stream": "stdout",
       "text": [
        "\n",
        "(342, -0.69468750000000001, 0.68786249999999993, -0.099449999999999997)"
       ]
      },
      {
       "output_type": "stream",
       "stream": "stdout",
       "text": [
        "\n",
        "(343, -0.76439999999999997, 0.62887499999999996, -0.100425)"
       ]
      },
      {
       "output_type": "stream",
       "stream": "stdout",
       "text": [
        "\n",
        "(344, -0.83752499999999996, 0.59084999999999999, -0.093599999999999989)"
       ]
      },
      {
       "output_type": "stream",
       "stream": "stdout",
       "text": [
        "\n",
        "(345, -0.79657499999999992, 0.47872499999999996, -0.025349999999999998)"
       ]
      },
      {
       "output_type": "stream",
       "stream": "stdout",
       "text": [
        "\n",
        "(346, -0.98962499999999998, 0.3641625, 0.085800000000000001)"
       ]
      },
      {
       "output_type": "stream",
       "stream": "stdout",
       "text": [
        "\n",
        "(347, -1.0130250000000001, 0.34514999999999996, -0.047774999999999998)"
       ]
      },
      {
       "output_type": "stream",
       "stream": "stdout",
       "text": [
        "\n",
        "(348, -0.99157499999999998, -0.50212499999999993, -0.28762499999999996)"
       ]
      },
      {
       "output_type": "stream",
       "stream": "stdout",
       "text": [
        "\n",
        "(349, -0.44167499999999998, -0.70492499999999991, -0.76439999999999997)"
       ]
      },
      {
       "output_type": "stream",
       "stream": "stdout",
       "text": [
        "\n",
        "(350, 0.0024375, -0.33539999999999998, -0.94769999999999999)"
       ]
      },
      {
       "output_type": "stream",
       "stream": "stdout",
       "text": [
        "\n",
        "(351, 0.061912499999999995, -0.20231249999999998, -1.0725)"
       ]
      },
      {
       "output_type": "stream",
       "stream": "stdout",
       "text": [
        "\n",
        "(352, -0.11992499999999999, -0.056549999999999996, -0.96914999999999996)"
       ]
      },
      {
       "output_type": "stream",
       "stream": "stdout",
       "text": [
        "\n",
        "(353, -0.3349125, -0.355875, -0.81217499999999998)"
       ]
      },
      {
       "output_type": "stream",
       "stream": "stdout",
       "text": [
        "\n",
        "(354, -0.70882499999999993, -0.61619999999999997, -0.39487499999999998)"
       ]
      },
      {
       "output_type": "stream",
       "stream": "stdout",
       "text": [
        "\n",
        "(355, -0.89992499999999997, -0.40706249999999999, 0.052649999999999995)"
       ]
      },
      {
       "output_type": "stream",
       "stream": "stdout",
       "text": [
        "\n",
        "(356, -0.96037499999999998, 0.042900000000000001, 0.44069999999999998)"
       ]
      },
      {
       "output_type": "stream",
       "stream": "stdout",
       "text": [
        "\n",
        "(357, -0.75367499999999998, 0.63082499999999997, 0.48652499999999999)"
       ]
      },
      {
       "output_type": "stream",
       "stream": "stdout",
       "text": [
        "\n",
        "(358, -0.097499999999999989, 0.93599999999999994, 0.088724999999999998)"
       ]
      },
      {
       "output_type": "stream",
       "stream": "stdout",
       "text": [
        "\n",
        "(359, 0.2457, 0.89797499999999997, 0.35197499999999998)"
       ]
      },
      {
       "output_type": "stream",
       "stream": "stdout",
       "text": [
        "\n",
        "(360, 0.44752500000000001, 0.61034999999999995, 0.59182499999999993)"
       ]
      },
      {
       "output_type": "stream",
       "stream": "stdout",
       "text": [
        "\n",
        "(361, 0.57135000000000002, 0.170625, 0.81899999999999995)"
       ]
      },
      {
       "output_type": "stream",
       "stream": "stdout",
       "text": [
        "\n",
        "(362, 0.62497499999999995, -0.27884999999999999, 0.58109999999999995)"
       ]
      },
      {
       "output_type": "stream",
       "stream": "stdout",
       "text": [
        "\n",
        "(363, 0.62692499999999995, -0.62497499999999995, 0.24911249999999999)"
       ]
      },
      {
       "output_type": "stream",
       "stream": "stdout",
       "text": [
        "\n",
        "(364, 0.73514999999999997, -0.74587499999999995, -0.15209999999999999)"
       ]
      },
      {
       "output_type": "stream",
       "stream": "stdout",
       "text": [
        "\n",
        "(365, 0.56452499999999994, -0.68054999999999999, -0.58597500000000002)"
       ]
      },
      {
       "output_type": "stream",
       "stream": "stdout",
       "text": [
        "\n",
        "(366, 0.56842499999999996, -0.56891249999999993, -0.68542499999999995)"
       ]
      },
      {
       "output_type": "stream",
       "stream": "stdout",
       "text": [
        "\n",
        "(367, 0.37245, -0.37342500000000001, -1.2743249999999999)"
       ]
      },
      {
       "output_type": "stream",
       "stream": "stdout",
       "text": [
        "\n",
        "(368, 0.121875, -0.15015000000000001, -1.0105875)"
       ]
      },
      {
       "output_type": "stream",
       "stream": "stdout",
       "text": [
        "\n",
        "(369, 0.013649999999999999, 0.34514999999999996, -0.83947499999999997)"
       ]
      },
      {
       "output_type": "stream",
       "stream": "stdout",
       "text": [
        "\n",
        "(370, 0.53820000000000001, 0.59670000000000001, -0.44849999999999995)"
       ]
      },
      {
       "output_type": "stream",
       "stream": "stdout",
       "text": [
        "\n",
        "(371, 0.70589999999999997, 0.51187499999999997, 0.055574999999999999)"
       ]
      },
      {
       "output_type": "stream",
       "stream": "stdout",
       "text": [
        "\n",
        "(372, 0.6552, 0.3651375, 0.89992499999999997)"
       ]
      },
      {
       "output_type": "stream",
       "stream": "stdout",
       "text": [
        "\n",
        "(373, 0.1638, -0.125775, 1.0880999999999998)"
       ]
      },
      {
       "output_type": "stream",
       "stream": "stdout",
       "text": [
        "\n",
        "(374, -0.42509999999999998, -0.52601249999999999, 0.77902499999999997)"
       ]
      },
      {
       "output_type": "stream",
       "stream": "stdout",
       "text": [
        "\n",
        "(375, -0.68347499999999994, -0.76439999999999997, -0.091162499999999994)"
       ]
      },
      {
       "output_type": "stream",
       "stream": "stdout",
       "text": [
        "\n",
        "(376, -0.43582499999999996, -0.29347499999999999, -1.0062)"
       ]
      },
      {
       "output_type": "stream",
       "stream": "stdout",
       "text": [
        "\n",
        "(377, -0.15209999999999999, 0.21157499999999999, -0.97694999999999999)"
       ]
      },
      {
       "output_type": "stream",
       "stream": "stdout",
       "text": [
        "\n",
        "(378, -0.342225, 0.50895000000000001, -0.83460000000000001)"
       ]
      },
      {
       "output_type": "stream",
       "stream": "stdout",
       "text": [
        "\n",
        "(379, -0.52406249999999999, 0.67274999999999996, -0.56842499999999996)"
       ]
      },
      {
       "output_type": "stream",
       "stream": "stdout",
       "text": [
        "\n",
        "(380, -0.53381250000000002, 0.8555625, -0.11309999999999999)"
       ]
      },
      {
       "output_type": "stream",
       "stream": "stdout",
       "text": [
        "\n",
        "(381, -0.64008749999999992, 0.69224999999999992, 0.42509999999999998)"
       ]
      },
      {
       "output_type": "stream",
       "stream": "stdout",
       "text": [
        "\n",
        "(382, -0.476775, 0.757575, 0.40365000000000001)"
       ]
      },
      {
       "output_type": "stream",
       "stream": "stdout",
       "text": [
        "\n",
        "(383, -0.39584999999999998, 0.68493749999999998, -0.36269999999999997)"
       ]
      },
      {
       "output_type": "stream",
       "stream": "stdout",
       "text": [
        "\n",
        "(384, -0.76732499999999992, 0.22619999999999998, -0.89358749999999998)"
       ]
      },
      {
       "output_type": "stream",
       "stream": "stdout",
       "text": [
        "\n",
        "(385, -0.32857500000000001, -0.33637499999999998, -0.93989999999999996)"
       ]
      },
      {
       "output_type": "stream",
       "stream": "stdout",
       "text": [
        "\n",
        "(386, 0.21937499999999999, -0.74879999999999991, -0.36757499999999999)"
       ]
      },
      {
       "output_type": "stream",
       "stream": "stdout",
       "text": [
        "\n",
        "(387, 0.69517499999999999, -0.57914999999999994, 0.16672499999999998)"
       ]
      },
      {
       "output_type": "stream",
       "stream": "stdout",
       "text": [
        "\n",
        "(388, 0.69614999999999994, -0.71662499999999996, 0.50992499999999996)"
       ]
      },
      {
       "output_type": "stream",
       "stream": "stdout",
       "text": [
        "\n",
        "(389, 0.35148750000000001, -0.49627499999999997, 0.79267500000000002)"
       ]
      },
      {
       "output_type": "stream",
       "stream": "stdout",
       "text": [
        "\n",
        "(390, -0.33247499999999997, -0.53527499999999995, 0.64934999999999998)"
       ]
      },
      {
       "output_type": "stream",
       "stream": "stdout",
       "text": [
        "\n",
        "(391, -0.73271249999999999, -0.18525, 0.74782499999999996)"
       ]
      },
      {
       "output_type": "stream",
       "stream": "stdout",
       "text": [
        "\n",
        "(392, -0.35099999999999998, 0.18914999999999998, 0.90674999999999994)"
       ]
      },
      {
       "output_type": "stream",
       "stream": "stdout",
       "text": [
        "\n",
        "(393, -0.215475, 0.70297500000000002, 0.68152499999999994)"
       ]
      },
      {
       "output_type": "stream",
       "stream": "stdout",
       "text": [
        "\n",
        "(394, -0.252525, 0.82972499999999993, 0.27007500000000001)"
       ]
      },
      {
       "output_type": "stream",
       "stream": "stdout",
       "text": [
        "\n",
        "(395, -0.33539999999999998, 0.98621249999999994, -0.57427499999999998)"
       ]
      },
      {
       "output_type": "stream",
       "stream": "stdout",
       "text": [
        "\n",
        "(396, 0.027299999999999998, 0.68201250000000002, -0.73124999999999996)"
       ]
      },
      {
       "output_type": "stream",
       "stream": "stdout",
       "text": [
        "\n",
        "(397, 0.53039999999999998, 0.65812499999999996, -0.47384999999999999)"
       ]
      },
      {
       "output_type": "stream",
       "stream": "stdout",
       "text": [
        "\n",
        "(398, 0.91649999999999998, 0.52552500000000002, 0.1638)"
       ]
      },
      {
       "output_type": "stream",
       "stream": "stdout",
       "text": [
        "\n",
        "(399, -0.0063374999999999994, 0.66689999999999994, 0.57817499999999999)"
       ]
      },
      {
       "output_type": "stream",
       "stream": "stdout",
       "text": [
        "\n",
        "(400, -0.70833749999999995, 0.027299999999999998, 0.56257499999999994)"
       ]
      },
      {
       "output_type": "stream",
       "stream": "stdout",
       "text": [
        "\n",
        "(401, -0.63521249999999996, -0.34320000000000001, 0.83167499999999994)"
       ]
      },
      {
       "output_type": "stream",
       "stream": "stdout",
       "text": [
        "\n",
        "(402, -0.23984999999999998, -0.30127499999999996, 0.93599999999999994)"
       ]
      },
      {
       "output_type": "stream",
       "stream": "stdout",
       "text": [
        "\n",
        "(403, 0.35392499999999999, -0.035099999999999999, 0.76732499999999992)"
       ]
      },
      {
       "output_type": "stream",
       "stream": "stdout",
       "text": [
        "\n",
        "(404, 0.81899999999999995, -0.055574999999999999, 0.33344999999999997)"
       ]
      },
      {
       "output_type": "stream",
       "stream": "stdout",
       "text": [
        "\n",
        "(405, 0.85409999999999997, -0.74977499999999997, 0.31004999999999999)"
       ]
      },
      {
       "output_type": "stream",
       "stream": "stdout",
       "text": [
        "\n",
        "(406, 0.23497499999999999, -0.99059999999999993, -0.054599999999999996)"
       ]
      },
      {
       "output_type": "stream",
       "stream": "stdout",
       "text": [
        "\n",
        "(407, -0.33686250000000001, -0.83557499999999996, -0.28762499999999996)"
       ]
      },
      {
       "output_type": "stream",
       "stream": "stdout",
       "text": [
        "\n",
        "(408, -0.71808749999999999, -0.46994999999999998, -0.20474999999999999)"
       ]
      },
      {
       "output_type": "stream",
       "stream": "stdout",
       "text": [
        "\n",
        "(409, -0.40706249999999999, -0.164775, 0.93599999999999994)"
       ]
      },
      {
       "output_type": "stream",
       "stream": "stdout",
       "text": [
        "\n",
        "(410, 0.52162500000000001, 0.073124999999999996, 0.62985000000000002)"
       ]
      },
      {
       "output_type": "stream",
       "stream": "stdout",
       "text": [
        "\n",
        "(411, 0.85166249999999999, 0.26519999999999999, 0.13747499999999999)"
       ]
      },
      {
       "output_type": "stream",
       "stream": "stdout",
       "text": [
        "\n",
        "(412, 0.91113749999999993, 0.36074999999999996, -0.30907499999999999)"
       ]
      },
      {
       "output_type": "stream",
       "stream": "stdout",
       "text": [
        "\n",
        "(413, 0.69029999999999991, 0.26129999999999998, -0.77122499999999994)"
       ]
      },
      {
       "output_type": "stream",
       "stream": "stdout",
       "text": [
        "\n",
        "(414, 0.38902500000000001, 0.091649999999999995, -0.98182499999999995)"
       ]
      },
      {
       "output_type": "stream",
       "stream": "stdout",
       "text": [
        "\n",
        "(415, 0.13942499999999999, -0.10335, -1.077375)"
       ]
      },
      {
       "output_type": "stream",
       "stream": "stdout",
       "text": [
        "\n",
        "(416, 0.14429999999999998, -0.54697499999999999, -0.79998749999999996)"
       ]
      },
      {
       "output_type": "stream",
       "stream": "stdout",
       "text": [
        "\n",
        "(417, -0.37927499999999997, -0.90089999999999992, 0.053624999999999999)"
       ]
      },
      {
       "output_type": "stream",
       "stream": "stdout",
       "text": [
        "\n",
        "(418, -0.44264999999999999, -0.77366249999999992, 0.35489999999999999)"
       ]
      },
      {
       "output_type": "stream",
       "stream": "stdout",
       "text": [
        "\n",
        "(419, -0.41827500000000001, -0.64154999999999995, 0.580125)"
       ]
      },
      {
       "output_type": "stream",
       "stream": "stdout",
       "text": [
        "\n",
        "(420, -0.23497499999999999, -0.28664999999999996, 0.90479999999999994)"
       ]
      },
      {
       "output_type": "stream",
       "stream": "stdout",
       "text": [
        "\n",
        "(421, -0.26129999999999998, -0.058012499999999995, 0.9701249999999999)"
       ]
      },
      {
       "output_type": "stream",
       "stream": "stdout",
       "text": [
        "\n",
        "(422, -0.33344999999999997, 0.03705, 0.847275)"
       ]
      },
      {
       "output_type": "stream",
       "stream": "stdout",
       "text": [
        "\n",
        "(423, -0.59475, 0.090674999999999992, 0.46215000000000001)"
       ]
      },
      {
       "output_type": "stream",
       "stream": "stdout",
       "text": [
        "\n",
        "(424, -0.94038749999999993, -0.34320000000000001, -0.40949999999999998)"
       ]
      },
      {
       "output_type": "stream",
       "stream": "stdout",
       "text": [
        "\n",
        "(425, -0.580125, -0.35880000000000001, -0.93307499999999999)"
       ]
      },
      {
       "output_type": "stream",
       "stream": "stdout",
       "text": [
        "\n",
        "(426, 0.0014624999999999998, 0.012187499999999999, -0.9179624999999999)"
       ]
      },
      {
       "output_type": "stream",
       "stream": "stdout",
       "text": [
        "\n",
        "(427, 0.67079999999999995, 0.27689999999999998, -0.66202499999999997)"
       ]
      },
      {
       "output_type": "stream",
       "stream": "stdout",
       "text": [
        "\n",
        "(428, 1.0110749999999999, 0.064349999999999991, -0.18086249999999998)"
       ]
      },
      {
       "output_type": "stream",
       "stream": "stdout",
       "text": [
        "\n",
        "(429, 1.0159499999999999, -0.0297375, 0.59670000000000001)"
       ]
      },
      {
       "output_type": "stream",
       "stream": "stdout",
       "text": [
        "\n",
        "(430, 0.56452499999999994, 0.20865, 0.74879999999999991)"
       ]
      },
      {
       "output_type": "stream",
       "stream": "stdout",
       "text": [
        "\n",
        "(431, 0.21839999999999998, 0.37732499999999997, 0.80242499999999994)"
       ]
      },
      {
       "output_type": "stream",
       "stream": "stdout",
       "text": [
        "\n",
        "(432, 0.21742499999999998, 0.39194999999999997, 0.67713749999999995)"
       ]
      },
      {
       "output_type": "stream",
       "stream": "stdout",
       "text": [
        "\n",
        "(433, 0.17501249999999999, 0.519675, 0.85019999999999996)"
       ]
      },
      {
       "output_type": "stream",
       "stream": "stdout",
       "text": [
        "\n",
        "(434, 0.12967499999999998, 0.490425, 0.89163749999999997)"
       ]
      },
      {
       "output_type": "stream",
       "stream": "stdout",
       "text": [
        "\n",
        "(435, -0.51869999999999994, -0.74782499999999996, -0.050699999999999995)"
       ]
      },
      {
       "output_type": "stream",
       "stream": "stdout",
       "text": [
        "\n",
        "(436, -0.67177500000000001, -0.5572125, -0.43290000000000001)"
       ]
      },
      {
       "output_type": "stream",
       "stream": "stdout",
       "text": [
        "\n",
        "(437, -0.88334999999999997, -0.199875, -0.30907499999999999)"
       ]
      },
      {
       "output_type": "stream",
       "stream": "stdout",
       "text": [
        "\n",
        "(438, -0.847275, -0.24862499999999998, 0.63179999999999992)"
       ]
      },
      {
       "output_type": "stream",
       "stream": "stdout",
       "text": [
        "\n",
        "(439, -0.3943875, 0.054599999999999996, 0.91649999999999998)"
       ]
      },
      {
       "output_type": "stream",
       "stream": "stdout",
       "text": [
        "\n",
        "(440, 0.48067499999999996, 0.24959999999999999, 0.72637499999999999)"
       ]
      },
      {
       "output_type": "stream",
       "stream": "stdout",
       "text": [
        "\n",
        "(441, 0.82874999999999999, 0.41193749999999996, 0.28275)"
       ]
      },
      {
       "output_type": "stream",
       "stream": "stdout",
       "text": [
        "\n",
        "(442, 0.84922500000000001, -0.49237499999999995, -0.77317499999999995)"
       ]
      },
      {
       "output_type": "stream",
       "stream": "stdout",
       "text": [
        "\n",
        "(443, -0.066299999999999998, -0.70589999999999997, -0.88773749999999996)"
       ]
      },
      {
       "output_type": "stream",
       "stream": "stdout",
       "text": [
        "\n",
        "(444, -0.42119999999999996, -0.40559999999999996, -0.82631250000000001)"
       ]
      },
      {
       "output_type": "stream",
       "stream": "stdout",
       "text": [
        "\n",
        "(445, -0.33149999999999996, -0.44752500000000001, -0.62497499999999995)"
       ]
      },
      {
       "output_type": "stream",
       "stream": "stdout",
       "text": [
        "\n",
        "(446, -0.8619, -0.34709999999999996, 0.46994999999999998)"
       ]
      },
      {
       "output_type": "stream",
       "stream": "stdout",
       "text": [
        "\n",
        "(447, -0.43972499999999998, -0.046799999999999994, 0.93794999999999995)"
       ]
      },
      {
       "output_type": "stream",
       "stream": "stdout",
       "text": [
        "\n",
        "(448, 0.4173, 0.44996249999999999, 0.59377499999999994)"
       ]
      },
      {
       "output_type": "stream",
       "stream": "stdout",
       "text": [
        "\n",
        "(449, 0.51674999999999993, 0.59377499999999994, 0.416325)"
       ]
      },
      {
       "output_type": "stream",
       "stream": "stdout",
       "text": [
        "\n",
        "(450, 0.57135000000000002, 0.77902499999999997, 0.19889999999999999)"
       ]
      },
      {
       "output_type": "stream",
       "stream": "stdout",
       "text": [
        "\n",
        "(451, 0.27105000000000001, 0.83167499999999994, 0.58548749999999994)"
       ]
      },
      {
       "output_type": "stream",
       "stream": "stdout",
       "text": [
        "\n",
        "(452, -0.8536125, -0.24959999999999999, 0.18719999999999998)"
       ]
      },
      {
       "output_type": "stream",
       "stream": "stdout",
       "text": [
        "\n",
        "(453, -0.80681249999999993, -0.61132500000000001, -0.74587499999999995)"
       ]
      },
      {
       "output_type": "stream",
       "stream": "stdout",
       "text": [
        "\n",
        "(454, -0.192075, -0.39194999999999997, -0.91454999999999997)"
       ]
      },
      {
       "output_type": "stream",
       "stream": "stdout",
       "text": [
        "\n",
        "(455, -0.2379, -0.312, -1.0218)"
       ]
      },
      {
       "output_type": "stream",
       "stream": "stdout",
       "text": [
        "\n",
        "(456, -0.053624999999999999, -0.090674999999999992, -1.0919999999999999)"
       ]
      },
      {
       "output_type": "stream",
       "stream": "stdout",
       "text": [
        "\n",
        "(457, 0.59865000000000002, 0.19597499999999998, -0.44069999999999998)"
       ]
      },
      {
       "output_type": "stream",
       "stream": "stdout",
       "text": [
        "\n",
        "(458, 0.9325874999999999, 0.37732499999999997, 0.51869999999999994)"
       ]
      },
      {
       "output_type": "stream",
       "stream": "stdout",
       "text": [
        "\n",
        "(459, 0.55477500000000002, 0.023399999999999997, 0.966225)"
       ]
      },
      {
       "output_type": "stream",
       "stream": "stdout",
       "text": [
        "\n",
        "(460, -0.25447500000000001, -0.60254999999999992, 0.70736250000000001)"
       ]
      },
      {
       "output_type": "stream",
       "stream": "stdout",
       "text": [
        "\n",
        "(461, -0.42802499999999999, -1.0120499999999999, 0.1252875)"
       ]
      },
      {
       "output_type": "stream",
       "stream": "stdout",
       "text": [
        "\n",
        "(462, -0.61229999999999996, -0.85507499999999992, -0.192075)"
       ]
      },
      {
       "output_type": "stream",
       "stream": "stdout",
       "text": [
        "\n",
        "(463, -0.69761249999999997, -0.31395000000000001, -0.80827499999999997)"
       ]
      },
      {
       "output_type": "stream",
       "stream": "stdout",
       "text": [
        "\n",
        "(464, -0.60011249999999994, -0.43874999999999997, -0.42948749999999997)"
       ]
      },
      {
       "output_type": "stream",
       "stream": "stdout",
       "text": [
        "\n",
        "(465, -0.89602499999999996, 0.12041249999999999, 0.67713749999999995)"
       ]
      },
      {
       "output_type": "stream",
       "stream": "stdout",
       "text": [
        "\n",
        "(466, -0.0029249999999999996, 0.71272499999999994, 0.63179999999999992)"
       ]
      },
      {
       "output_type": "stream",
       "stream": "stdout",
       "text": [
        "\n",
        "(467, 0.66689999999999994, 0.31979999999999997, 0.58743749999999995)"
       ]
      },
      {
       "output_type": "stream",
       "stream": "stdout",
       "text": [
        "\n",
        "(468, 1.0725, -0.39194999999999997, -0.21157499999999999)"
       ]
      },
      {
       "output_type": "stream",
       "stream": "stdout",
       "text": [
        "\n",
        "(469, 0.46507499999999996, -0.71077499999999993, -0.79852499999999993)"
       ]
      },
      {
       "output_type": "stream",
       "stream": "stdout",
       "text": [
        "\n",
        "(470, 0.064349999999999991, -0.71760000000000002, -0.79462499999999991)"
       ]
      },
      {
       "output_type": "stream",
       "stream": "stdout",
       "text": [
        "\n",
        "(471, -0.022912499999999999, -0.62692499999999995, -0.757575)"
       ]
      },
      {
       "output_type": "stream",
       "stream": "stdout",
       "text": [
        "\n",
        "(472, -0.818025, -0.41924999999999996, 0.30809999999999998)"
       ]
      },
      {
       "output_type": "stream",
       "stream": "stdout",
       "text": [
        "\n",
        "(473, -0.69566249999999996, 0.11212499999999999, 0.83947499999999997)"
       ]
      },
      {
       "output_type": "stream",
       "stream": "stdout",
       "text": [
        "\n",
        "(474, -0.059475, 0.52357500000000001, 0.83947499999999997)"
       ]
      },
      {
       "output_type": "stream",
       "stream": "stdout",
       "text": [
        "\n",
        "(475, 0.83849999999999991, 0.41778749999999998, 0.26227499999999998)"
       ]
      },
      {
       "output_type": "stream",
       "stream": "stdout",
       "text": [
        "\n",
        "(476, 0.67518749999999994, 0.57086249999999994, -0.13942499999999999)"
       ]
      },
      {
       "output_type": "stream",
       "stream": "stdout",
       "text": [
        "\n",
        "(477, 0.76439999999999997, 0.53137499999999993, -0.010725)"
       ]
      },
      {
       "output_type": "stream",
       "stream": "stdout",
       "text": [
        "\n",
        "(478, 0.82094999999999996, 0.64739999999999998, -0.071175000000000002)"
       ]
      },
      {
       "output_type": "stream",
       "stream": "stdout",
       "text": [
        "\n",
        "(479, 0.73709999999999998, 0.15453749999999999, -0.77610000000000001)"
       ]
      },
      {
       "output_type": "stream",
       "stream": "stdout",
       "text": [
        "\n",
        "(480, 0.19499999999999998, -0.58792499999999992, -0.75854999999999995)"
       ]
      },
      {
       "output_type": "stream",
       "stream": "stdout",
       "text": [
        "\n",
        "(481, -0.43095, -0.59670000000000001, -0.49237499999999995)"
       ]
      },
      {
       "output_type": "stream",
       "stream": "stdout",
       "text": [
        "\n",
        "(482, -0.85994999999999999, -0.33442499999999997, -0.29347499999999999)"
       ]
      },
      {
       "output_type": "stream",
       "stream": "stdout",
       "text": [
        "\n",
        "(483, -0.89115, -0.42314999999999997, -0.091649999999999995)"
       ]
      },
      {
       "output_type": "stream",
       "stream": "stdout",
       "text": [
        "\n",
        "(484, -0.90236249999999996, -0.48847499999999999, 0.64837499999999992)"
       ]
      },
      {
       "output_type": "stream",
       "stream": "stdout",
       "text": [
        "\n",
        "(485, -0.054112500000000001, 0.074099999999999999, 0.87067499999999998)"
       ]
      },
      {
       "output_type": "stream",
       "stream": "stdout",
       "text": [
        "\n",
        "(486, 0.61327500000000001, 0.46068749999999997, 0.27007500000000001)"
       ]
      },
      {
       "output_type": "stream",
       "stream": "stdout",
       "text": [
        "\n",
        "(487, 0.43095, 0.97499999999999998, -0.078)"
       ]
      },
      {
       "output_type": "stream",
       "stream": "stdout",
       "text": [
        "\n",
        "(488, -0.46215000000000001, 0.72929999999999995, 0.018525)"
       ]
      },
      {
       "output_type": "stream",
       "stream": "stdout",
       "text": [
        "\n",
        "(489, -1.0334999999999999, -0.41339999999999999, -0.19305)"
       ]
      },
      {
       "output_type": "stream",
       "stream": "stdout",
       "text": [
        "\n",
        "(490, -0.63374999999999992, -0.76829999999999998, -0.64252500000000001)"
       ]
      },
      {
       "output_type": "stream",
       "stream": "stdout",
       "text": [
        "\n",
        "(491, -0.066299999999999998, -0.61181249999999998, -0.85848749999999996)"
       ]
      },
      {
       "output_type": "stream",
       "stream": "stdout",
       "text": [
        "\n",
        "(492, 0.371475, -0.281775, -0.86969999999999992)"
       ]
      },
      {
       "output_type": "stream",
       "stream": "stdout",
       "text": [
        "\n",
        "(493, 0.42217499999999997, -0.66251249999999995, -0.59182499999999993)"
       ]
      },
      {
       "output_type": "stream",
       "stream": "stdout",
       "text": [
        "\n",
        "(494, 0.62790000000000001, -0.6907875, 0.17257499999999998)"
       ]
      },
      {
       "output_type": "stream",
       "stream": "stdout",
       "text": [
        "\n",
        "(495, 0.78487499999999999, -0.56891249999999993, 0.41339999999999999)"
       ]
      },
      {
       "output_type": "stream",
       "stream": "stdout",
       "text": [
        "\n",
        "(496, 0.39877499999999999, -0.61717499999999992, 0.70297500000000002)"
       ]
      },
      {
       "output_type": "stream",
       "stream": "stdout",
       "text": [
        "\n",
        "(497, -0.18329999999999999, -0.164775, 1.005225)"
       ]
      },
      {
       "output_type": "stream",
       "stream": "stdout",
       "text": [
        "\n",
        "(498, 0.29542499999999999, 0.81022499999999997, 0.17354999999999998)"
       ]
      },
      {
       "output_type": "stream",
       "stream": "stdout",
       "text": [
        "\n",
        "(499, 0.54989999999999994, 0.757575, -0.64349999999999996)"
       ]
      },
      {
       "output_type": "stream",
       "stream": "stdout",
       "text": [
        "\n",
        "(500, 0.46312499999999995, 0.70979999999999999, -0.62497499999999995)"
       ]
      },
      {
       "output_type": "stream",
       "stream": "stdout",
       "text": [
        "\n",
        "(501, 0.76391249999999999, 0.18525, -0.39292499999999997)"
       ]
      },
      {
       "output_type": "stream",
       "stream": "stdout",
       "text": [
        "\n",
        "(502, 0.87554999999999994, -0.490425, -0.61327500000000001)"
       ]
      },
      {
       "output_type": "stream",
       "stream": "stdout",
       "text": [
        "\n",
        "(503, 0.039487499999999995, -0.84434999999999993, -0.39487499999999998)"
       ]
      },
      {
       "output_type": "stream",
       "stream": "stdout",
       "text": [
        "\n",
        "(504, -0.54063749999999999, -0.76634999999999998, -0.058499999999999996)"
       ]
      },
      {
       "output_type": "stream",
       "stream": "stdout",
       "text": [
        "\n",
        "(505, -0.89212499999999995, -0.33734999999999998, 0.121875)"
       ]
      },
      {
       "output_type": "stream",
       "stream": "stdout",
       "text": [
        "\n",
        "(506, -1.03545, -0.13162499999999999, 0.14722499999999999)"
       ]
      },
      {
       "output_type": "stream",
       "stream": "stdout",
       "text": [
        "\n",
        "(507, -0.96524999999999994, -0.23594999999999999, 0.155025)"
       ]
      },
      {
       "output_type": "stream",
       "stream": "stdout",
       "text": [
        "\n",
        "(508, -0.87847500000000001, -0.371475, 0.17452499999999999)"
       ]
      },
      {
       "output_type": "stream",
       "stream": "stdout",
       "text": [
        "\n",
        "(509, -0.91747499999999993, -0.385125, 0.18232499999999999)"
       ]
      },
      {
       "output_type": "stream",
       "stream": "stdout",
       "text": [
        "\n",
        "(510, -0.75074999999999992, -0.81217499999999998, -0.31395000000000001)"
       ]
      },
      {
       "output_type": "stream",
       "stream": "stdout",
       "text": [
        "\n",
        "(511, 0.058499999999999996, -0.85117500000000001, -0.41827500000000001)"
       ]
      },
      {
       "output_type": "stream",
       "stream": "stdout",
       "text": [
        "\n",
        "(512, 0.728325, -0.61229999999999996, -0.28275)"
       ]
      },
      {
       "output_type": "stream",
       "stream": "stdout",
       "text": [
        "\n",
        "(513, 0.96963749999999993, -0.0029249999999999996, -0.063375000000000001)"
       ]
      },
      {
       "output_type": "stream",
       "stream": "stdout",
       "text": [
        "\n",
        "(514, 0.905775, -0.0706875, 0.68542499999999995)"
       ]
      },
      {
       "output_type": "stream",
       "stream": "stdout",
       "text": [
        "\n",
        "(515, 0.474825, -0.39389999999999997, 0.84629999999999994)"
       ]
      },
      {
       "output_type": "stream",
       "stream": "stdout",
       "text": [
        "\n",
        "(516, -0.10237499999999999, -0.66592499999999999, 0.58987499999999993)"
       ]
      },
      {
       "output_type": "stream",
       "stream": "stdout",
       "text": [
        "\n",
        "(517, -0.46897499999999998, -0.66397499999999998, 0.29152499999999998)"
       ]
      },
      {
       "output_type": "stream",
       "stream": "stdout",
       "text": [
        "\n",
        "(518, -0.73368749999999994, -0.63569999999999993, 0.19597499999999998)"
       ]
      },
      {
       "output_type": "stream",
       "stream": "stdout",
       "text": [
        "\n",
        "(519, -0.71418749999999998, -0.64349999999999996, -0.013649999999999999)"
       ]
      },
      {
       "output_type": "stream",
       "stream": "stdout",
       "text": [
        "\n",
        "(520, -0.69419999999999993, -0.60742499999999999, -0.53625)"
       ]
      },
      {
       "output_type": "stream",
       "stream": "stdout",
       "text": [
        "\n",
        "(521, -0.026324999999999998, -0.85409999999999997, -0.56159999999999999)"
       ]
      },
      {
       "output_type": "stream",
       "stream": "stdout",
       "text": [
        "\n",
        "(522, 0.23204999999999998, -0.78584999999999994, -0.40657499999999996)"
       ]
      },
      {
       "output_type": "stream",
       "stream": "stdout",
       "text": [
        "\n",
        "(523, 0.53966249999999993, -0.61522500000000002, -0.476775)"
       ]
      },
      {
       "output_type": "stream",
       "stream": "stdout",
       "text": [
        "\n",
        "(524, 0.669825, -0.31979999999999997, -0.62009999999999998)"
       ]
      },
      {
       "output_type": "stream",
       "stream": "stdout",
       "text": [
        "\n",
        "(525, 0.85604999999999998, -0.13455, -0.32077499999999998)"
       ]
      },
      {
       "output_type": "stream",
       "stream": "stdout",
       "text": [
        "\n",
        "(526, 0.94282499999999991, -0.024374999999999997, 0.18427499999999999)"
       ]
      },
      {
       "output_type": "stream",
       "stream": "stdout",
       "text": [
        "\n",
        "(527, 0.83849999999999991, -0.11602499999999999, 0.72149999999999992)"
       ]
      },
      {
       "output_type": "stream",
       "stream": "stdout",
       "text": [
        "\n",
        "(528, -0.017062499999999998, -0.52747500000000003, 0.81119999999999992)"
       ]
      },
      {
       "output_type": "stream",
       "stream": "stdout",
       "text": [
        "\n",
        "(529, -0.35392499999999999, -0.70297500000000002, 0.36074999999999996)"
       ]
      },
      {
       "output_type": "stream",
       "stream": "stdout",
       "text": [
        "\n",
        "(530, -0.61961250000000001, -0.77024999999999999, -0.1794)"
       ]
      },
      {
       "output_type": "stream",
       "stream": "stdout",
       "text": [
        "\n",
        "(531, -0.4914, -0.58304999999999996, -0.786825)"
       ]
      },
      {
       "output_type": "stream",
       "stream": "stdout",
       "text": [
        "\n",
        "(532, -0.24667499999999998, -0.077024999999999996, -1.1339249999999998)"
       ]
      },
      {
       "output_type": "stream",
       "stream": "stdout",
       "text": [
        "\n",
        "(533, -0.51187499999999997, 0.17354999999999998, -0.66494999999999993)"
       ]
      },
      {
       "output_type": "stream",
       "stream": "stdout",
       "text": [
        "\n",
        "(534, -0.907725, 0.0068249999999999995, -0.25155)"
       ]
      },
      {
       "output_type": "stream",
       "stream": "stdout",
       "text": [
        "\n",
        "(535, -0.88822499999999993, -0.42412499999999997, 0.51479999999999992)"
       ]
      },
      {
       "output_type": "stream",
       "stream": "stdout",
       "text": [
        "\n",
        "(536, -0.38317499999999999, -0.215475, 0.95062499999999994)"
       ]
      },
      {
       "output_type": "stream",
       "stream": "stdout",
       "text": [
        "\n",
        "(537, 0.31882499999999997, -0.083849999999999994, 0.75854999999999995)"
       ]
      },
      {
       "output_type": "stream",
       "stream": "stdout",
       "text": [
        "\n",
        "(538, 0.81948749999999992, -0.22034999999999999, 0.27641250000000001)"
       ]
      },
      {
       "output_type": "stream",
       "stream": "stdout",
       "text": [
        "\n",
        "(539, 0.79657499999999992, -0.62107499999999993, -0.37927499999999997)"
       ]
      },
      {
       "output_type": "stream",
       "stream": "stdout",
       "text": [
        "\n",
        "(540, 0.53039999999999998, -0.53332499999999994, -0.72929999999999995)"
       ]
      },
      {
       "output_type": "stream",
       "stream": "stdout",
       "text": [
        "\n",
        "(541, 0.31882499999999997, -0.48262499999999997, -0.92917499999999997)"
       ]
      },
      {
       "output_type": "stream",
       "stream": "stdout",
       "text": [
        "\n",
        "(542, 0.21742499999999998, -0.51382499999999998, -0.98669999999999991)"
       ]
      },
      {
       "output_type": "stream",
       "stream": "stdout",
       "text": [
        "\n",
        "(543, -0.15112499999999998, -0.56940000000000002, -0.81217499999999998)"
       ]
      },
      {
       "output_type": "stream",
       "stream": "stdout",
       "text": [
        "\n",
        "(544, -0.68737499999999996, -0.2964, -0.1867125)"
       ]
      },
      {
       "output_type": "stream",
       "stream": "stdout",
       "text": [
        "\n",
        "(545, -1.0866374999999999, -0.30127499999999996, 0.355875)"
       ]
      },
      {
       "output_type": "stream",
       "stream": "stdout",
       "text": [
        "\n",
        "(546, -0.76781250000000001, -0.35977499999999996, 0.53039999999999998)"
       ]
      },
      {
       "output_type": "stream",
       "stream": "stdout",
       "text": [
        "\n",
        "(547, -0.58889999999999998, -0.41437499999999999, 0.78974999999999995)"
       ]
      },
      {
       "output_type": "stream",
       "stream": "stdout",
       "text": [
        "\n",
        "(548, -0.12918749999999998, -0.55379999999999996, 0.8555625)"
       ]
      },
      {
       "output_type": "stream",
       "stream": "stdout",
       "text": [
        "\n",
        "(549, -0.1482, -0.25447500000000001, 0.8034)"
       ]
      },
      {
       "output_type": "stream",
       "stream": "stdout",
       "text": [
        "\n",
        "(550, -0.476775, 0.110175, 0.93014999999999992)"
       ]
      },
      {
       "output_type": "stream",
       "stream": "stdout",
       "text": [
        "\n",
        "(551, -0.080924999999999997, 0.62692499999999995, 0.72734999999999994)"
       ]
      },
      {
       "output_type": "stream",
       "stream": "stdout",
       "text": [
        "\n",
        "(552, 0.31979999999999997, 0.81899999999999995, -0.077024999999999996)"
       ]
      },
      {
       "output_type": "stream",
       "stream": "stdout",
       "text": [
        "\n",
        "(553, 0.75659999999999994, 0.431925, 0.54746249999999996)"
       ]
      },
      {
       "output_type": "stream",
       "stream": "stdout",
       "text": [
        "\n",
        "(554, 0.59377499999999994, -0.10139999999999999, 0.66007499999999997)"
       ]
      },
      {
       "output_type": "stream",
       "stream": "stdout",
       "text": [
        "\n",
        "(555, 0.61473749999999994, -0.4602, 0.24667499999999998)"
       ]
      },
      {
       "output_type": "stream",
       "stream": "stdout",
       "text": [
        "\n",
        "(556, 0.58207500000000001, -0.81997500000000001, -0.62302499999999994)"
       ]
      },
      {
       "output_type": "stream",
       "stream": "stdout",
       "text": [
        "\n",
        "(557, 0.28567500000000001, -0.65958749999999999, -0.84434999999999993)"
       ]
      },
      {
       "output_type": "stream",
       "stream": "stdout",
       "text": [
        "\n",
        "(558, 0.2227875, 0.0092624999999999999, -0.94574999999999998)"
       ]
      },
      {
       "output_type": "stream",
       "stream": "stdout",
       "text": [
        "\n",
        "(559, 0.51382499999999998, 0.15794999999999998, -0.71467499999999995)"
       ]
      },
      {
       "output_type": "stream",
       "stream": "stdout",
       "text": [
        "\n",
        "(560, 0.89115, -0.40852499999999997, 0.20669999999999999)"
       ]
      },
      {
       "output_type": "stream",
       "stream": "stdout",
       "text": [
        "\n",
        "(561, 0.056549999999999996, -0.87944999999999995, 0.52064999999999995)"
       ]
      },
      {
       "output_type": "stream",
       "stream": "stdout",
       "text": [
        "\n",
        "(562, -0.4446, -0.71272499999999994, 0.34709999999999996)"
       ]
      },
      {
       "output_type": "stream",
       "stream": "stdout",
       "text": [
        "\n",
        "(563, -0.72734999999999994, -0.74490000000000001, -0.40559999999999996)"
       ]
      },
      {
       "output_type": "stream",
       "stream": "stdout",
       "text": [
        "\n",
        "(564, -0.54502499999999998, -0.28762499999999996, -0.93892500000000001)"
       ]
      },
      {
       "output_type": "stream",
       "stream": "stdout",
       "text": [
        "\n",
        "(565, -0.25155, -0.07897499999999999, -0.87847500000000001)"
       ]
      },
      {
       "output_type": "stream",
       "stream": "stdout",
       "text": [
        "\n",
        "(566, -0.34076249999999997, 0.26032499999999997, -0.98377499999999996)"
       ]
      },
      {
       "output_type": "stream",
       "stream": "stdout",
       "text": [
        "\n",
        "(567, -0.76927499999999993, 0.29249999999999998, -0.53527499999999995)"
       ]
      },
      {
       "output_type": "stream",
       "stream": "stdout",
       "text": [
        "\n",
        "(568, -0.84532499999999999, -0.50017499999999993, 0.14429999999999998)"
       ]
      },
      {
       "output_type": "stream",
       "stream": "stdout",
       "text": [
        "\n",
        "(569, -0.62351250000000003, -0.35538749999999997, 0.87944999999999995)"
       ]
      },
      {
       "output_type": "stream",
       "stream": "stdout",
       "text": [
        "\n",
        "(570, 0.24082499999999998, 0.2145, 0.66884999999999994)"
       ]
      },
      {
       "output_type": "stream",
       "stream": "stdout",
       "text": [
        "\n",
        "(571, 0.69419999999999993, 0.164775, 0.59475)"
       ]
      },
      {
       "output_type": "stream",
       "stream": "stdout",
       "text": [
        "\n",
        "(572, 0.91357499999999991, -0.42412499999999997, -0.45629999999999998)"
       ]
      },
      {
       "output_type": "stream",
       "stream": "stdout",
       "text": [
        "\n",
        "(573, 0.371475, -0.39877499999999999, -0.86677499999999996)"
       ]
      },
      {
       "output_type": "stream",
       "stream": "stdout",
       "text": [
        "\n",
        "(574, 0.22424999999999998, -0.20474999999999999, -0.97207499999999991)"
       ]
      },
      {
       "output_type": "stream",
       "stream": "stdout",
       "text": [
        "\n",
        "(575, 0.27933749999999996, 0.040462499999999998, -0.9516)"
       ]
      },
      {
       "output_type": "stream",
       "stream": "stdout",
       "text": [
        "\n",
        "(576, 0.44069999999999998, 0.2457, -1.0071749999999999)"
       ]
      },
      {
       "output_type": "stream",
       "stream": "stdout",
       "text": [
        "\n",
        "(577, -0.055574999999999999, 0.34466249999999998, -0.91991249999999991)"
       ]
      },
      {
       "output_type": "stream",
       "stream": "stdout",
       "text": [
        "\n",
        "(578, -0.63667499999999999, 0.038024999999999996, -0.65325)"
       ]
      },
      {
       "output_type": "stream",
       "stream": "stdout",
       "text": [
        "\n",
        "(579, -0.8701875, -0.21742499999999998, -0.37001249999999997)"
       ]
      },
      {
       "output_type": "stream",
       "stream": "stdout",
       "text": [
        "\n",
        "(580, -0.95842499999999997, -0.44362499999999999, 0.21254999999999999)"
       ]
      },
      {
       "output_type": "stream",
       "stream": "stdout",
       "text": [
        "\n",
        "(581, -0.54112499999999997, -0.548925, 0.71662499999999996)"
       ]
      },
      {
       "output_type": "stream",
       "stream": "stdout",
       "text": [
        "\n",
        "(582, -0.12772500000000001, -0.23399999999999999, 1.0062)"
       ]
      },
      {
       "output_type": "stream",
       "stream": "stdout",
       "text": [
        "\n",
        "(583, 0.0024375, -0.0307125, 0.99352499999999999)"
       ]
      },
      {
       "output_type": "stream",
       "stream": "stdout",
       "text": [
        "\n",
        "(584, -0.20865, 0.031199999999999999, 0.95842499999999997)"
       ]
      },
      {
       "output_type": "stream",
       "stream": "stdout",
       "text": [
        "\n",
        "(585, -0.27592499999999998, 0.26129999999999998, 0.83460000000000001)"
       ]
      },
      {
       "output_type": "stream",
       "stream": "stdout",
       "text": [
        "\n",
        "(586, -0.17647499999999999, 0.25155, 0.93307499999999999)"
       ]
      },
      {
       "output_type": "stream",
       "stream": "stdout",
       "text": [
        "\n",
        "(587, -0.15794999999999998, 0.192075, 0.96037499999999998)"
       ]
      },
      {
       "output_type": "stream",
       "stream": "stdout",
       "text": [
        "\n",
        "(588, -0.1555125, 0.19597499999999998, 0.94087499999999991)"
       ]
      },
      {
       "output_type": "stream",
       "stream": "stdout",
       "text": [
        "\n",
        "(589, -0.17257499999999998, 0.114075, 0.95842499999999997)"
       ]
      },
      {
       "output_type": "stream",
       "stream": "stdout",
       "text": [
        "\n",
        "(590, -0.2223, -0.23351249999999998, 0.79364999999999997)"
       ]
      },
      {
       "output_type": "stream",
       "stream": "stdout",
       "text": [
        "\n",
        "(591, -0.54697499999999999, -0.36952499999999999, 0.49822499999999997)"
       ]
      },
      {
       "output_type": "stream",
       "stream": "stdout",
       "text": [
        "\n",
        "(592, -0.62595000000000001, -0.788775, -0.125775)"
       ]
      },
      {
       "output_type": "stream",
       "stream": "stdout",
       "text": [
        "\n",
        "(593, -0.39389999999999997, -0.64642499999999992, -0.85702499999999993)"
       ]
      },
      {
       "output_type": "stream",
       "stream": "stdout",
       "text": [
        "\n",
        "(594, -0.24082499999999998, -0.28664999999999996, -0.91064999999999996)"
       ]
      },
      {
       "output_type": "stream",
       "stream": "stdout",
       "text": [
        "\n",
        "(595, -0.41583749999999997, -0.0195, -0.81509999999999994)"
       ]
      },
      {
       "output_type": "stream",
       "stream": "stdout",
       "text": [
        "\n",
        "(596, -0.79657499999999992, -0.48359999999999997, -0.25739999999999996)"
       ]
      },
      {
       "output_type": "stream",
       "stream": "stdout",
       "text": [
        "\n",
        "(597, -0.56159999999999999, -0.76927499999999993, 0.6907875)"
       ]
      },
      {
       "output_type": "stream",
       "stream": "stdout",
       "text": [
        "\n",
        "(598, -0.164775, -0.25593749999999998, 0.73612499999999992)"
       ]
      },
      {
       "output_type": "stream",
       "stream": "stdout",
       "text": [
        "\n",
        "(599, 0.4602, -0.23204999999999998, 0.73027500000000001)"
       ]
      },
      {
       "output_type": "stream",
       "stream": "stdout",
       "text": [
        "\n",
        "(600, 0.79949999999999999, -0.54648750000000001, 0.2535)"
       ]
      },
      {
       "output_type": "stream",
       "stream": "stdout",
       "text": [
        "\n",
        "(601, 0.81022499999999997, -0.35294999999999999, -0.72637499999999999)"
       ]
      },
      {
       "output_type": "stream",
       "stream": "stdout",
       "text": [
        "\n",
        "(602, 0.59084999999999999, 0.17354999999999998, -0.51674999999999993)"
       ]
      },
      {
       "output_type": "stream",
       "stream": "stdout",
       "text": [
        "\n",
        "(603, 0.95452499999999996, -0.178425, 0.30907499999999999)"
       ]
      },
      {
       "output_type": "stream",
       "stream": "stdout",
       "text": [
        "\n",
        "(604, 0.28518749999999998, -0.728325, 0.461175)"
       ]
      },
      {
       "output_type": "stream",
       "stream": "stdout",
       "text": [
        "\n",
        "(605, -0.61619999999999997, -0.79949999999999999, 0.049724999999999998)"
       ]
      },
      {
       "output_type": "stream",
       "stream": "stdout",
       "text": [
        "\n",
        "(606, -0.82289999999999996, -0.55477500000000002, -0.070199999999999999)"
       ]
      },
      {
       "output_type": "stream",
       "stream": "stdout",
       "text": [
        "\n",
        "(607, -0.50895000000000001, -0.91454999999999997, -0.100425)"
       ]
      },
      {
       "output_type": "stream",
       "stream": "stdout",
       "text": [
        "\n",
        "(608, -0.30517499999999997, -0.9701249999999999, -0.26715)"
       ]
      },
      {
       "output_type": "stream",
       "stream": "stdout",
       "text": [
        "\n",
        "(609, -0.58109999999999995, -0.68445, -0.207675)"
       ]
      },
      {
       "output_type": "stream",
       "stream": "stdout",
       "text": [
        "\n",
        "(610, -0.55769999999999997, -0.82972499999999993, 0.30809999999999998)"
       ]
      },
      {
       "output_type": "stream",
       "stream": "stdout",
       "text": [
        "\n",
        "(611, 0.26861249999999998, -0.20865, 0.27494999999999997)"
       ]
      },
      {
       "output_type": "stream",
       "stream": "stdout",
       "text": [
        "\n",
        "(612, 0.75269999999999992, -0.77024999999999999, -0.00097499999999999996)"
       ]
      },
      {
       "output_type": "stream",
       "stream": "stdout",
       "text": [
        "\n",
        "(613, 0.070199999999999999, -0.79364999999999997, -0.71174999999999999)"
       ]
      },
      {
       "output_type": "stream",
       "stream": "stdout",
       "text": [
        "\n",
        "(614, -0.42509999999999998, -0.16818749999999999, -0.91064999999999996)"
       ]
      },
      {
       "output_type": "stream",
       "stream": "stdout",
       "text": [
        "\n",
        "(615, -0.82582499999999992, -0.12967499999999998, -0.073124999999999996)"
       ]
      },
      {
       "output_type": "stream",
       "stream": "stdout",
       "text": [
        "\n",
        "(616, -0.51821249999999996, 0.50017499999999993, 0.51090000000000002)"
       ]
      },
      {
       "output_type": "stream",
       "stream": "stdout",
       "text": [
        "\n",
        "(617, 0.62351250000000003, 0.34027499999999999, 0.31589999999999996)"
       ]
      },
      {
       "output_type": "stream",
       "stream": "stdout",
       "text": [
        "\n",
        "(618, 0.88529999999999998, -0.757575, 0.075075000000000003)"
       ]
      },
      {
       "output_type": "stream",
       "stream": "stdout",
       "text": [
        "\n",
        "(619, -0.091649999999999995, -0.936975, -0.47872499999999996)"
       ]
      },
      {
       "output_type": "stream",
       "stream": "stdout",
       "text": [
        "\n",
        "(620, -0.48945, -0.19305, -0.84239999999999993)"
       ]
      },
      {
       "output_type": "stream",
       "stream": "stdout",
       "text": [
        "\n",
        "(621, -0.876525, 0.18914999999999998, 0.38122499999999998)"
       ]
      },
      {
       "output_type": "stream",
       "stream": "stdout",
       "text": [
        "\n",
        "(622, 0.37488749999999998, 0.63374999999999992, 0.11992499999999999)"
       ]
      },
      {
       "output_type": "stream",
       "stream": "stdout",
       "text": [
        "\n",
        "(623, 1.0237499999999999, -0.38024999999999998, 0.18037499999999998)"
       ]
      },
      {
       "output_type": "stream",
       "stream": "stdout",
       "text": [
        "\n",
        "(624, 0.2383875, -0.99449999999999994, -0.15356249999999999)"
       ]
      },
      {
       "output_type": "stream",
       "stream": "stdout",
       "text": [
        "\n",
        "(625, -0.83655000000000002, -0.61229999999999996, -0.14235)"
       ]
      },
      {
       "output_type": "stream",
       "stream": "stdout",
       "text": [
        "\n",
        "(626, -0.79559999999999997, 0.19305, 0.72539999999999993)"
       ]
      },
      {
       "output_type": "stream",
       "stream": "stdout",
       "text": [
        "\n",
        "(627, 0.13016249999999999, 0.80827499999999997, 0.012674999999999999)"
       ]
      },
      {
       "output_type": "stream",
       "stream": "stdout",
       "text": [
        "\n",
        "(628, 0.847275, 0.036562499999999998, 0.24082499999999998)"
       ]
      },
      {
       "output_type": "stream",
       "stream": "stdout",
       "text": [
        "\n",
        "(629, 0.52259999999999995, -0.94477499999999992, -0.0307125)"
       ]
      },
      {
       "output_type": "stream",
       "stream": "stdout",
       "text": [
        "\n",
        "(630, -0.70589999999999997, -0.39389999999999997, -0.85263749999999994)"
       ]
      },
      {
       "output_type": "stream",
       "stream": "stdout",
       "text": [
        "\n",
        "(631, -0.70004999999999995, -0.4528875, 0.26422499999999999)"
       ]
      },
      {
       "output_type": "stream",
       "stream": "stdout",
       "text": [
        "\n",
        "(632, -0.63472499999999998, 0.51285000000000003, 0.58987499999999993)"
       ]
      },
      {
       "output_type": "stream",
       "stream": "stdout",
       "text": [
        "\n",
        "(633, 0.50895000000000001, 0.81217499999999998, -0.10725)"
       ]
      },
      {
       "output_type": "stream",
       "stream": "stdout",
       "text": [
        "\n",
        "(634, 0.95647499999999996, -0.474825, 0.59279999999999999)"
       ]
      },
      {
       "output_type": "stream",
       "stream": "stdout",
       "text": [
        "\n",
        "(635, -0.23887499999999998, -1.0208249999999999, 0.141375)"
       ]
      },
      {
       "output_type": "stream",
       "stream": "stdout",
       "text": [
        "\n",
        "(636, -0.78097499999999997, -0.40559999999999996, -0.60449999999999993)"
       ]
      },
      {
       "output_type": "stream",
       "stream": "stdout",
       "text": [
        "\n",
        "(637, -1.022775, -0.12869999999999998, 0.46556249999999999)"
       ]
      },
      {
       "output_type": "stream",
       "stream": "stdout",
       "text": [
        "\n",
        "(638, -0.56842499999999996, 0.58889999999999998, 0.32077499999999998)"
       ]
      },
      {
       "output_type": "stream",
       "stream": "stdout",
       "text": [
        "\n",
        "(639, 0.52259999999999995, 0.71954999999999991, -0.07897499999999999)"
       ]
      },
      {
       "output_type": "stream",
       "stream": "stdout",
       "text": [
        "\n",
        "(640, 0.89115, -0.2145, 0.201825)"
       ]
      },
      {
       "output_type": "stream",
       "stream": "stdout",
       "text": [
        "\n",
        "(641, 0.6010875, -0.98572499999999996, 0.096525)"
       ]
      },
      {
       "output_type": "stream",
       "stream": "stdout",
       "text": [
        "\n",
        "(642, -0.215475, -0.99742500000000001, -0.229125)"
       ]
      },
      {
       "output_type": "stream",
       "stream": "stdout",
       "text": [
        "\n",
        "(643, -0.57914999999999994, -0.40949999999999998, -0.78487499999999999)"
       ]
      },
      {
       "output_type": "stream",
       "stream": "stdout",
       "text": [
        "\n",
        "(644, -0.68445, -0.25642500000000001, -0.039)"
       ]
      },
      {
       "output_type": "stream",
       "stream": "stdout",
       "text": [
        "\n",
        "(645, -0.8097375, 0.43777499999999997, 0.56745000000000001)"
       ]
      },
      {
       "output_type": "stream",
       "stream": "stdout",
       "text": [
        "\n",
        "(646, 0.75952500000000001, 0.37342500000000001, 0.40365000000000001)"
       ]
      },
      {
       "output_type": "stream",
       "stream": "stdout",
       "text": [
        "\n",
        "(647, 0.77463749999999998, -0.90187499999999998, 0.27202499999999996)"
       ]
      },
      {
       "output_type": "stream",
       "stream": "stdout",
       "text": [
        "\n",
        "(648, -0.079949999999999993, -0.91357499999999991, -0.54210000000000003)"
       ]
      },
      {
       "output_type": "stream",
       "stream": "stdout",
       "text": [
        "\n",
        "(649, -0.63959999999999995, -0.50651250000000003, -0.78584999999999994)"
       ]
      },
      {
       "output_type": "stream",
       "stream": "stdout",
       "text": [
        "\n",
        "(650, -0.667875, -0.24764999999999998, 0.33539999999999998)"
       ]
      },
      {
       "output_type": "stream",
       "stream": "stdout",
       "text": [
        "\n",
        "(651, -0.69517499999999999, 0.33344999999999997, 0.52113750000000003)"
       ]
      },
      {
       "output_type": "stream",
       "stream": "stdout",
       "text": [
        "\n",
        "(652, 0.40657499999999996, 0.33929999999999999, 0.44069999999999998)"
       ]
      },
      {
       "output_type": "stream",
       "stream": "stdout",
       "text": [
        "\n",
        "(653, 0.92478749999999998, -0.8536125, 0.052649999999999995)"
       ]
      },
      {
       "output_type": "stream",
       "stream": "stdout",
       "text": [
        "\n",
        "(654, 0.15015000000000001, -0.96134999999999993, -0.57037499999999997)"
       ]
      },
      {
       "output_type": "stream",
       "stream": "stdout",
       "text": [
        "\n",
        "(655, -0.77073749999999996, -0.24959999999999999, -1.0032749999999999)"
       ]
      },
      {
       "output_type": "stream",
       "stream": "stdout",
       "text": [
        "\n",
        "(656, -0.52893749999999995, -0.46604999999999996, -0.047774999999999998)"
       ]
      },
      {
       "output_type": "stream",
       "stream": "stdout",
       "text": [
        "\n",
        "(657, -0.66884999999999994, -0.3046875, 0.905775)"
       ]
      },
      {
       "output_type": "stream",
       "stream": "stdout",
       "text": [
        "\n",
        "(658, 0.47433749999999997, 0.54794999999999994, 0.25642500000000001)"
       ]
      },
      {
       "output_type": "stream",
       "stream": "stdout",
       "text": [
        "\n",
        "(659, 0.85117500000000001, -0.28567500000000001, 0.231075)"
       ]
      },
      {
       "output_type": "stream",
       "stream": "stdout",
       "text": [
        "\n",
        "(660, 0.45873749999999996, -0.96329999999999993, -0.54502499999999998)"
       ]
      },
      {
       "output_type": "stream",
       "stream": "stdout",
       "text": [
        "\n",
        "(661, -0.45922499999999999, -0.638625, -0.79706250000000001)"
       ]
      },
      {
       "output_type": "stream",
       "stream": "stdout",
       "text": [
        "\n",
        "(662, -0.27299999999999996, -0.37196249999999997, -0.9764624999999999)"
       ]
      },
      {
       "output_type": "stream",
       "stream": "stdout",
       "text": [
        "\n",
        "(663, -0.86677499999999996, 0.32955000000000001, 0.041924999999999997)"
       ]
      },
      {
       "output_type": "stream",
       "stream": "stdout",
       "text": [
        "\n",
        "(664, -0.36757499999999999, 0.84142499999999998, 0.24277499999999999)"
       ]
      },
      {
       "output_type": "stream",
       "stream": "stdout",
       "text": [
        "\n",
        "(665, 0.476775, 0.43582499999999996, 0.67079999999999995)"
       ]
      },
      {
       "output_type": "stream",
       "stream": "stdout",
       "text": [
        "\n",
        "(666, 0.5425875, -0.65032499999999993, 0.31979999999999997)"
       ]
      },
      {
       "output_type": "stream",
       "stream": "stdout",
       "text": [
        "\n",
        "(667, 0.2442375, -1.0997999999999999, -0.32467499999999999)"
       ]
      },
      {
       "output_type": "stream",
       "stream": "stdout",
       "text": [
        "\n",
        "(668, -0.68981249999999994, -0.32174999999999998, -0.29542499999999999)"
       ]
      },
      {
       "output_type": "stream",
       "stream": "stdout",
       "text": [
        "\n",
        "(669, -0.77902499999999997, -0.083849999999999994, -0.26617499999999999)"
       ]
      },
      {
       "output_type": "stream",
       "stream": "stdout",
       "text": [
        "\n",
        "(670, -0.91942499999999994, 0.342225, 0.72539999999999993)"
       ]
      },
      {
       "output_type": "stream",
       "stream": "stdout",
       "text": [
        "\n",
        "(671, 0.13649999999999998, 0.86969999999999992, 0.29347499999999999)"
       ]
      },
      {
       "output_type": "stream",
       "stream": "stdout",
       "text": [
        "\n",
        "(672, 0.41437499999999999, 0.92527499999999996, -0.51869999999999994)"
       ]
      },
      {
       "output_type": "stream",
       "stream": "stdout",
       "text": [
        "\n",
        "(673, 0.28567500000000001, 0.98377499999999996, -0.42509999999999998)"
       ]
      },
      {
       "output_type": "stream",
       "stream": "stdout",
       "text": [
        "\n",
        "(674, -0.26763749999999997, 0.30858749999999996, -0.83118749999999997)"
       ]
      },
      {
       "output_type": "stream",
       "stream": "stdout",
       "text": [
        "\n",
        "(675, -0.69176249999999995, -0.53137499999999993, -0.63569999999999993)"
       ]
      },
      {
       "output_type": "stream",
       "stream": "stdout",
       "text": [
        "\n",
        "(676, 0.1642875, -0.91064999999999996, -0.077024999999999996)"
       ]
      },
      {
       "output_type": "stream",
       "stream": "stdout",
       "text": [
        "\n",
        "(677, 0.49432499999999996, -0.88724999999999998, 0.062399999999999997)"
       ]
      },
      {
       "output_type": "stream",
       "stream": "stdout",
       "text": [
        "\n",
        "(678, 0.55818749999999995, -0.76537499999999992, 0.43874999999999997)"
       ]
      },
      {
       "output_type": "stream",
       "stream": "stdout",
       "text": [
        "\n",
        "(679, 0.58987499999999993, -0.79267500000000002, 0.18037499999999998)"
       ]
      },
      {
       "output_type": "stream",
       "stream": "stdout",
       "text": [
        "\n",
        "(680, 0.62497499999999995, -0.68883749999999999, -0.37732499999999997)"
       ]
      },
      {
       "output_type": "stream",
       "stream": "stdout",
       "text": [
        "\n",
        "(681, 0.68835000000000002, -0.68152499999999994, -0.31492500000000001)"
       ]
      },
      {
       "output_type": "stream",
       "stream": "stdout",
       "text": [
        "\n",
        "(682, 0.80924999999999991, -0.41144999999999998, -0.25447500000000001)"
       ]
      },
      {
       "output_type": "stream",
       "stream": "stdout",
       "text": [
        "\n",
        "(683, 0.88529999999999998, -0.35977499999999996, -0.11895)"
       ]
      },
      {
       "output_type": "stream",
       "stream": "stdout",
       "text": [
        "\n",
        "(684, 0.92576249999999993, -0.13747499999999999, 0.48798749999999996)"
       ]
      },
      {
       "output_type": "stream",
       "stream": "stdout",
       "text": [
        "\n",
        "(685, 0.56793749999999998, 0.10529999999999999, 0.95647499999999996)"
       ]
      },
      {
       "output_type": "stream",
       "stream": "stdout",
       "text": [
        "\n",
        "(686, 0.28226249999999997, 0.16038749999999999, 0.91357499999999991)"
       ]
      },
      {
       "output_type": "stream",
       "stream": "stdout",
       "text": [
        "\n",
        "(687, 0.19889999999999999, 0.192075, 0.936975)"
       ]
      },
      {
       "output_type": "stream",
       "stream": "stdout",
       "text": [
        "\n",
        "(688, 0.057525, 0.20328749999999998, 0.876525)"
       ]
      },
      {
       "output_type": "stream",
       "stream": "stdout",
       "text": [
        "\n",
        "(689, -0.51772499999999999, 0.074099999999999999, 0.74490000000000001)"
       ]
      },
      {
       "output_type": "stream",
       "stream": "stdout",
       "text": [
        "\n",
        "(690, -0.70589999999999997, -0.058499999999999996, 0.64593749999999994)"
       ]
      },
      {
       "output_type": "stream",
       "stream": "stdout",
       "text": [
        "\n",
        "(691, -0.82241249999999999, -0.22717499999999999, 0.20669999999999999)"
       ]
      },
      {
       "output_type": "stream",
       "stream": "stdout",
       "text": [
        "\n",
        "(692, -0.77268749999999997, -0.60644999999999993, -0.59182499999999993)"
       ]
      },
      {
       "output_type": "stream",
       "stream": "stdout",
       "text": [
        "\n",
        "(693, -0.37245, -0.41242499999999999, -0.94964999999999999)"
       ]
      },
      {
       "output_type": "stream",
       "stream": "stdout",
       "text": [
        "\n",
        "(694, -0.48262499999999997, -0.050699999999999995, -0.88237499999999991)"
       ]
      },
      {
       "output_type": "stream",
       "stream": "stdout",
       "text": [
        "\n",
        "(695, -0.50017499999999993, -0.13552500000000001, -0.72052499999999997)"
       ]
      },
      {
       "output_type": "stream",
       "stream": "stdout",
       "text": [
        "\n",
        "(696, -0.83655000000000002, -0.4914, 0.061912499999999995)"
       ]
      },
      {
       "output_type": "stream",
       "stream": "stdout",
       "text": [
        "\n",
        "(697, -0.86774999999999991, -0.3705, 0.66884999999999994)"
       ]
      },
      {
       "output_type": "stream",
       "stream": "stdout",
       "text": [
        "\n",
        "(698, -0.36757499999999999, 0.41144999999999998, 0.84873749999999992)"
       ]
      },
      {
       "output_type": "stream",
       "stream": "stdout",
       "text": [
        "\n",
        "(699, 0.36562499999999998, 0.59767499999999996, 0.57914999999999994)"
       ]
      },
      {
       "output_type": "stream",
       "stream": "stdout",
       "text": [
        "\n",
        "(700, 0.67567499999999991, 0.281775, 0.4528875)"
       ]
      },
      {
       "output_type": "stream",
       "stream": "stdout",
       "text": [
        "\n",
        "(701, 0.88432499999999992, -0.20085, 0.18037499999999998)"
       ]
      },
      {
       "output_type": "stream",
       "stream": "stdout",
       "text": [
        "\n",
        "(702, 0.85799999999999998, -0.56696249999999992, -0.43777499999999997)"
       ]
      },
      {
       "output_type": "stream",
       "stream": "stdout",
       "text": [
        "\n",
        "(703, 0.51869999999999994, -0.48603749999999996, -0.89115)"
       ]
      },
      {
       "output_type": "stream",
       "stream": "stdout",
       "text": [
        "\n",
        "(704, 0.23399999999999999, -0.094574999999999992, -1.0237499999999999)"
       ]
      },
      {
       "output_type": "stream",
       "stream": "stdout",
       "text": [
        "\n",
        "(705, 0.29054999999999997, 0.0038999999999999998, -1.0042499999999999)"
       ]
      },
      {
       "output_type": "stream",
       "stream": "stdout",
       "text": [
        "\n",
        "(706, 0.44655, 0.07897499999999999, -0.85312499999999991)"
       ]
      },
      {
       "output_type": "stream",
       "stream": "stdout",
       "text": [
        "\n",
        "(707, 0.76829999999999998, -0.032174999999999995, -0.42217499999999997)"
       ]
      },
      {
       "output_type": "stream",
       "stream": "stdout",
       "text": [
        "\n",
        "(708, 0.90674999999999994, -0.283725, -0.054599999999999996)"
       ]
      },
      {
       "output_type": "stream",
       "stream": "stdout",
       "text": [
        "\n",
        "(709, 0.91649999999999998, -0.35977499999999996, -0.024374999999999997)"
       ]
      },
      {
       "output_type": "stream",
       "stream": "stdout",
       "text": [
        "\n",
        "(710, 0.84191249999999995, -0.57914999999999994, -0.18719999999999998)"
       ]
      },
      {
       "output_type": "stream",
       "stream": "stdout",
       "text": [
        "\n",
        "(711, 0.30907499999999999, -1.0247249999999999, 0.072149999999999992)"
       ]
      },
      {
       "output_type": "stream",
       "stream": "stdout",
       "text": [
        "\n",
        "(712, -0.33247499999999997, -1.0101, -0.15209999999999999)"
       ]
      },
      {
       "output_type": "stream",
       "stream": "stdout",
       "text": [
        "\n",
        "(713, -0.46361249999999998, -1.1075999999999999, -0.23302499999999998)"
       ]
      },
      {
       "output_type": "stream",
       "stream": "stdout",
       "text": [
        "\n",
        "(714, -0.45483750000000001, -0.60449999999999993, -0.92771249999999994)"
       ]
      },
      {
       "output_type": "stream",
       "stream": "stdout",
       "text": [
        "\n",
        "(715, -0.03705, -0.43095, -0.83655000000000002)"
       ]
      },
      {
       "output_type": "stream",
       "stream": "stdout",
       "text": [
        "\n",
        "(716, -0.40559999999999996, -0.37586249999999999, -0.67957499999999993)"
       ]
      },
      {
       "output_type": "stream",
       "stream": "stdout",
       "text": [
        "\n",
        "(717, -0.91649999999999998, -0.28762499999999996, 0.044850000000000001)"
       ]
      },
      {
       "output_type": "stream",
       "stream": "stdout",
       "text": [
        "\n",
        "(718, -0.83655000000000002, 0.11895, 0.76634999999999998)"
       ]
      },
      {
       "output_type": "stream",
       "stream": "stdout",
       "text": [
        "\n",
        "(719, -0.014137499999999999, 0.70297500000000002, 0.5655)"
       ]
      },
      {
       "output_type": "stream",
       "stream": "stdout",
       "text": [
        "\n",
        "(720, 0.58402500000000002, 0.59133749999999996, 0.58694999999999997)"
       ]
      },
      {
       "output_type": "stream",
       "stream": "stdout",
       "text": [
        "\n",
        "(721, 0.87847500000000001, 0.056549999999999996, 0.162825)"
       ]
      },
      {
       "output_type": "stream",
       "stream": "stdout",
       "text": [
        "\n",
        "(722, 0.85604999999999998, -0.56842499999999996, -0.57427499999999998)"
       ]
      },
      {
       "output_type": "stream",
       "stream": "stdout",
       "text": [
        "\n",
        "(723, 0.23497499999999999, -0.67469999999999997, -0.78389999999999993)"
       ]
      },
      {
       "output_type": "stream",
       "stream": "stdout",
       "text": [
        "\n",
        "(724, 0.17647499999999999, -0.48945, -0.85848749999999996)"
       ]
      },
      {
       "output_type": "stream",
       "stream": "stdout",
       "text": [
        "\n",
        "(725, -0.19109999999999999, -0.43582499999999996, -0.89017499999999994)"
       ]
      },
      {
       "output_type": "stream",
       "stream": "stdout",
       "text": [
        "\n",
        "(726, -0.58597500000000002, -0.36854999999999999, -0.46994999999999998)"
       ]
      },
      {
       "output_type": "stream",
       "stream": "stdout",
       "text": [
        "\n",
        "(727, -0.96817500000000001, -0.33052499999999996, 0.077024999999999996)"
       ]
      },
      {
       "output_type": "stream",
       "stream": "stdout",
       "text": [
        "\n",
        "(728, -0.83849999999999991, -0.56062499999999993, 0.252525)"
       ]
      },
      {
       "output_type": "stream",
       "stream": "stdout",
       "text": [
        "\n",
        "(729, -0.71565000000000001, -0.60791249999999997, 0.58499999999999996)"
       ]
      },
      {
       "output_type": "stream",
       "stream": "stdout",
       "text": [
        "\n",
        "(730, -0.21937499999999999, -0.62692499999999995, 0.80924999999999991)"
       ]
      },
      {
       "output_type": "stream",
       "stream": "stdout",
       "text": [
        "\n",
        "(731, -0.49529999999999996, -0.26519999999999999, 0.95939999999999992)"
       ]
      },
      {
       "output_type": "stream",
       "stream": "stdout",
       "text": [
        "\n",
        "(732, -0.10725, 0.20279999999999998, 0.87164999999999992)"
       ]
      },
      {
       "output_type": "stream",
       "stream": "stdout",
       "text": [
        "\n",
        "(733, 0.44898749999999998, 0.56745000000000001, 0.44167499999999998)"
       ]
      },
      {
       "output_type": "stream",
       "stream": "stdout",
       "text": [
        "\n",
        "(734, 0.62546249999999992, 0.44849999999999995, 0.29152499999999998)"
       ]
      },
      {
       "output_type": "stream",
       "stream": "stdout",
       "text": [
        "\n",
        "(735, 0.89602499999999996, -0.54015000000000002, -0.37634999999999996)"
       ]
      },
      {
       "output_type": "stream",
       "stream": "stdout",
       "text": [
        "\n",
        "(736, 0.30956249999999996, -0.53917499999999996, -0.936975)"
       ]
      },
      {
       "output_type": "stream",
       "stream": "stdout",
       "text": [
        "\n",
        "(737, 0.10335, -0.064349999999999991, -0.89699999999999991)"
       ]
      },
      {
       "output_type": "stream",
       "stream": "stdout",
       "text": [
        "\n",
        "(738, 0.69224999999999992, -0.25934999999999997, -0.33247499999999997)"
       ]
      },
      {
       "output_type": "stream",
       "stream": "stdout",
       "text": [
        "\n",
        "(739, 0.75513750000000002, -0.65081250000000002, 0.27787499999999998)"
       ]
      },
      {
       "output_type": "stream",
       "stream": "stdout",
       "text": [
        "\n",
        "(740, 0.20962499999999998, -1.0437375, 0.0038999999999999998)"
       ]
      },
      {
       "output_type": "stream",
       "stream": "stdout",
       "text": [
        "\n",
        "(741, -0.223275, -0.87847500000000001, -0.14332499999999998)"
       ]
      },
      {
       "output_type": "stream",
       "stream": "stdout",
       "text": [
        "\n",
        "(742, -0.55623749999999994, -0.84044999999999992, -0.16574999999999998)"
       ]
      },
      {
       "output_type": "stream",
       "stream": "stdout",
       "text": [
        "\n",
        "(743, -0.70784999999999998, -0.70394999999999996, -0.23399999999999999)"
       ]
      },
      {
       "output_type": "stream",
       "stream": "stdout",
       "text": [
        "\n",
        "(744, -0.77999999999999992, -0.69127499999999997, -0.64057500000000001)"
       ]
      },
      {
       "output_type": "stream",
       "stream": "stdout",
       "text": [
        "\n",
        "(745, -0.55769999999999997, -0.49724999999999997, -0.63472499999999998)"
       ]
      },
      {
       "output_type": "stream",
       "stream": "stdout",
       "text": [
        "\n",
        "(746, -0.53137499999999993, -0.46604999999999996, -0.86092499999999994)"
       ]
      },
      {
       "output_type": "stream",
       "stream": "stdout",
       "text": [
        "\n",
        "(747, -0.47872499999999996, -0.49578749999999999, -0.78779999999999994)"
       ]
      },
      {
       "output_type": "stream",
       "stream": "stdout",
       "text": [
        "\n",
        "(748, -0.49237499999999995, -0.39389999999999997, -0.82289999999999996)"
       ]
      },
      {
       "output_type": "stream",
       "stream": "stdout",
       "text": [
        "\n",
        "(749, -0.48701249999999996, -0.36123749999999999, -0.99742500000000001)"
       ]
      },
      {
       "output_type": "stream",
       "stream": "stdout",
       "text": [
        "\n",
        "(750, -0.064349999999999991, -0.16136249999999999, -1.0295999999999998)"
       ]
      },
      {
       "output_type": "stream",
       "stream": "stdout",
       "text": [
        "\n",
        "(751, 0.40462499999999996, -0.27592499999999998, -0.77561249999999993)"
       ]
      },
      {
       "output_type": "stream",
       "stream": "stdout",
       "text": [
        "\n",
        "(752, 0.86336249999999992, -0.35880000000000001, 0.025349999999999998)"
       ]
      },
      {
       "output_type": "stream",
       "stream": "stdout",
       "text": [
        "\n",
        "(753, 0.68542499999999995, -0.49822499999999997, 0.53332499999999994)"
       ]
      },
      {
       "output_type": "stream",
       "stream": "stdout",
       "text": [
        "\n",
        "(754, 0.28762499999999996, -0.40949999999999998, 1.0071749999999999)"
       ]
      },
      {
       "output_type": "stream",
       "stream": "stdout",
       "text": [
        "\n",
        "(755, -0.15404999999999999, -0.45922499999999999, 0.83460000000000001)"
       ]
      },
      {
       "output_type": "stream",
       "stream": "stdout",
       "text": [
        "\n",
        "(756, -0.22863749999999999, -0.65032499999999993, 0.78487499999999999)"
       ]
      },
      {
       "output_type": "stream",
       "stream": "stdout",
       "text": [
        "\n",
        "(757, 0.046799999999999994, -0.82777499999999993, 0.20669999999999999)"
       ]
      },
      {
       "output_type": "stream",
       "stream": "stdout",
       "text": [
        "\n",
        "(758, 0.036074999999999996, -1.0588499999999998, 0.061425)"
       ]
      },
      {
       "output_type": "stream",
       "stream": "stdout",
       "text": [
        "\n",
        "(759, -0.070199999999999999, -0.97158749999999994, -0.075075000000000003)"
       ]
      },
      {
       "output_type": "stream",
       "stream": "stdout",
       "text": [
        "\n",
        "(760, -0.19597499999999998, -0.667875, -0.68542499999999995)"
       ]
      },
      {
       "output_type": "stream",
       "stream": "stdout",
       "text": [
        "\n",
        "(761, -0.33101249999999999, -0.64252500000000001, -0.54210000000000003)"
       ]
      },
      {
       "output_type": "stream",
       "stream": "stdout",
       "text": [
        "\n",
        "(762, -0.48749999999999999, -0.83557499999999996, -0.20085)"
       ]
      },
      {
       "output_type": "stream",
       "stream": "stdout",
       "text": [
        "\n",
        "(763, -0.52747500000000003, -0.81168750000000001, -0.063375000000000001)"
       ]
      },
      {
       "output_type": "stream",
       "stream": "stdout",
       "text": [
        "\n",
        "(764, -0.74879999999999991, -0.50407499999999994, -0.624)"
       ]
      },
      {
       "output_type": "stream",
       "stream": "stdout",
       "text": [
        "\n",
        "(765, -0.60254999999999992, 0.054599999999999996, -0.98767499999999997)"
       ]
      },
      {
       "output_type": "stream",
       "stream": "stdout",
       "text": [
        "\n",
        "(766, 0.068737499999999993, 0.29493749999999996, -1.0295999999999998)"
       ]
      },
      {
       "output_type": "stream",
       "stream": "stdout",
       "text": [
        "\n",
        "(767, 0.1701375, 0.2452125, -1.0807875)"
       ]
      },
      {
       "output_type": "stream",
       "stream": "stdout",
       "text": [
        "\n",
        "(768, 0.66592499999999999, -0.42119999999999996, -0.19305)"
       ]
      },
      {
       "output_type": "stream",
       "stream": "stdout",
       "text": [
        "\n",
        "(769, 0.57329999999999992, -0.75074999999999992, 0.40754999999999997)"
       ]
      },
      {
       "output_type": "stream",
       "stream": "stdout",
       "text": [
        "\n",
        "(770, 0.8931, -0.100425, -0.67567499999999991)"
       ]
      },
      {
       "output_type": "stream",
       "stream": "stdout",
       "text": [
        "\n",
        "(771, 0.18914999999999998, 0.45434999999999998, -0.99449999999999994)"
       ]
      },
      {
       "output_type": "stream",
       "stream": "stdout",
       "text": [
        "\n",
        "(772, -0.62643749999999998, -0.11992499999999999, -0.56940000000000002)"
       ]
      },
      {
       "output_type": "stream",
       "stream": "stdout",
       "text": [
        "\n",
        "(773, -0.76781250000000001, -0.52357500000000001, -0.21157499999999999)"
       ]
      },
      {
       "output_type": "stream",
       "stream": "stdout",
       "text": [
        "\n",
        "(774, -0.74002499999999993, -0.60693750000000002, 0.1408875)"
       ]
      },
      {
       "output_type": "stream",
       "stream": "stdout",
       "text": [
        "\n",
        "(775, -0.41339999999999999, -0.56745000000000001, 0.57329999999999992)"
       ]
      },
      {
       "output_type": "stream",
       "stream": "stdout",
       "text": [
        "\n",
        "(776, -0.16672499999999998, -0.66056249999999994, 0.69809999999999994)"
       ]
      },
      {
       "output_type": "stream",
       "stream": "stdout",
       "text": [
        "\n",
        "(777, 0.037537500000000001, -0.61619999999999997, 0.78779999999999994)"
       ]
      },
      {
       "output_type": "stream",
       "stream": "stdout",
       "text": [
        "\n",
        "(778, 0.099937499999999999, -0.53234999999999999, 0.8034)"
       ]
      },
      {
       "output_type": "stream",
       "stream": "stdout",
       "text": [
        "\n",
        "(779, 0.034124999999999996, -0.50017499999999993, 0.81119999999999992)"
       ]
      },
      {
       "output_type": "stream",
       "stream": "stdout",
       "text": [
        "\n",
        "(780, 0.12479999999999999, -0.37342500000000001, 0.75952500000000001)"
       ]
      },
      {
       "output_type": "stream",
       "stream": "stdout",
       "text": [
        "\n",
        "(781, 0.1326, -0.50505, 0.82192500000000002)"
       ]
      },
      {
       "output_type": "stream",
       "stream": "stdout",
       "text": [
        "\n",
        "(782, 0.16965, -0.41437499999999999, 0.94769999999999999)"
       ]
      },
      {
       "output_type": "stream",
       "stream": "stdout",
       "text": [
        "\n",
        "(783, 0.50553749999999997, 0.03705, 0.42802499999999999)"
       ]
      },
      {
       "output_type": "stream",
       "stream": "stdout",
       "text": [
        "\n",
        "(784, 0.95647499999999996, 0.46507499999999996, -0.092624999999999999)"
       ]
      },
      {
       "output_type": "stream",
       "stream": "stdout",
       "text": [
        "\n",
        "(785, 0.90674999999999994, 0.24959999999999999, -0.252525)"
       ]
      },
      {
       "output_type": "stream",
       "stream": "stdout",
       "text": [
        "\n",
        "(786, 0.80047499999999994, -0.14722499999999999, -0.82582499999999992)"
       ]
      },
      {
       "output_type": "stream",
       "stream": "stdout",
       "text": [
        "\n",
        "(787, 0.30127499999999996, -0.56159999999999999, -0.85799999999999998)"
       ]
      },
      {
       "output_type": "stream",
       "stream": "stdout",
       "text": [
        "\n",
        "(788, -0.110175, -0.66104999999999992, -0.77415)"
       ]
      },
      {
       "output_type": "stream",
       "stream": "stdout",
       "text": [
        "\n",
        "(789, -0.49919999999999998, -0.54404999999999992, -0.72052499999999997)"
       ]
      },
      {
       "output_type": "stream",
       "stream": "stdout",
       "text": [
        "\n",
        "(790, -0.67859999999999998, -0.2145, -0.86580000000000001)"
       ]
      },
      {
       "output_type": "stream",
       "stream": "stdout",
       "text": [
        "\n",
        "(791, -0.67859999999999998, -0.18525, -0.83655000000000002)"
       ]
      },
      {
       "output_type": "stream",
       "stream": "stdout",
       "text": [
        "\n",
        "(792, -0.63326249999999995, -0.20279999999999998, -0.7722)"
       ]
      },
      {
       "output_type": "stream",
       "stream": "stdout",
       "text": [
        "\n",
        "(793, -0.50212499999999993, -0.33344999999999997, -0.87457499999999999)"
       ]
      },
      {
       "output_type": "stream",
       "stream": "stdout",
       "text": [
        "\n",
        "(794, -0.72393750000000001, -0.10725, -0.66104999999999992)"
       ]
      },
      {
       "output_type": "stream",
       "stream": "stdout",
       "text": [
        "\n",
        "(795, -1.09005, -0.0307125, 0.53917499999999996)"
       ]
      },
      {
       "output_type": "stream",
       "stream": "stdout",
       "text": [
        "\n",
        "(796, -0.30419999999999997, 0.342225, 0.90382499999999999)"
       ]
      },
      {
       "output_type": "stream",
       "stream": "stdout",
       "text": [
        "\n",
        "(797, 0.57476249999999995, 0.31784999999999997, 0.357825)"
       ]
      },
      {
       "output_type": "stream",
       "stream": "stdout",
       "text": [
        "\n",
        "(798, 0.73709999999999998, -0.031199999999999999, 0.64837499999999992)"
       ]
      },
      {
       "output_type": "stream",
       "stream": "stdout",
       "text": [
        "\n",
        "(799, 0.46263749999999998, -0.60352499999999998, 0.45142499999999997)"
       ]
      },
      {
       "output_type": "stream",
       "stream": "stdout",
       "text": [
        "\n",
        "(800, 0.1482, -0.99449999999999994, 0.18427499999999999)"
       ]
      },
      {
       "output_type": "stream",
       "stream": "stdout",
       "text": [
        "\n",
        "(801, -0.26958749999999998, -0.67859999999999998, -0.86385000000000001)"
       ]
      },
      {
       "output_type": "stream",
       "stream": "stdout",
       "text": [
        "\n",
        "(802, -0.14673749999999999, -0.50212499999999993, -0.87359999999999993)"
       ]
      },
      {
       "output_type": "stream",
       "stream": "stdout",
       "text": [
        "\n",
        "(803, -0.53137499999999993, -0.2145, -0.82387499999999991)"
       ]
      },
      {
       "output_type": "stream",
       "stream": "stdout",
       "text": [
        "\n",
        "(804, -0.86580000000000001, 0.093599999999999989, -0.72052499999999997)"
       ]
      },
      {
       "output_type": "stream",
       "stream": "stdout",
       "text": [
        "\n",
        "(805, -0.33929999999999999, 0.38999999999999996, -1.022775)"
       ]
      },
      {
       "output_type": "stream",
       "stream": "stdout",
       "text": [
        "\n",
        "(806, 0.15892499999999998, 0.42314999999999997, -0.7722)"
       ]
      },
      {
       "output_type": "stream",
       "stream": "stdout",
       "text": [
        "\n",
        "(807, 0.72442499999999999, 0.33832499999999999, -0.312)"
       ]
      },
      {
       "output_type": "stream",
       "stream": "stdout",
       "text": [
        "\n",
        "(808, 0.97304999999999997, -0.33929999999999999, -0.37634999999999996)"
       ]
      },
      {
       "output_type": "stream",
       "stream": "stdout",
       "text": [
        "\n",
        "(809, 0.19109999999999999, -0.78584999999999994, -0.59670000000000001)"
       ]
      },
      {
       "output_type": "stream",
       "stream": "stdout",
       "text": [
        "\n",
        "(810, -0.040462499999999998, -0.86774999999999991, -0.41144999999999998)"
       ]
      },
      {
       "output_type": "stream",
       "stream": "stdout",
       "text": [
        "\n",
        "(811, -0.268125, -0.936975, -0.4173)"
       ]
      },
      {
       "output_type": "stream",
       "stream": "stdout",
       "text": [
        "\n",
        "(812, -0.38999999999999996, -0.82094999999999996, 0.018525)"
       ]
      },
      {
       "output_type": "stream",
       "stream": "stdout",
       "text": [
        "\n",
        "(813, -0.57622499999999999, -0.44947499999999996, 0.96134999999999993)"
       ]
      },
      {
       "output_type": "stream",
       "stream": "stdout",
       "text": [
        "\n",
        "(814, 0.079949999999999993, 0.268125, 0.79657499999999992)"
       ]
      },
      {
       "output_type": "stream",
       "stream": "stdout",
       "text": [
        "\n",
        "(815, 0.550875, 0.66007499999999997, 0.52601249999999999)"
       ]
      },
      {
       "output_type": "stream",
       "stream": "stdout",
       "text": [
        "\n",
        "(816, 0.35489999999999999, 0.81412499999999999, 0.41437499999999999)"
       ]
      },
      {
       "output_type": "stream",
       "stream": "stdout",
       "text": [
        "\n",
        "(817, 0.0038999999999999998, 0.84824999999999995, 0.66592499999999999)"
       ]
      },
      {
       "output_type": "stream",
       "stream": "stdout",
       "text": [
        "\n",
        "(818, 0.047774999999999998, 0.45922499999999999, 0.69273750000000001)"
       ]
      },
      {
       "output_type": "stream",
       "stream": "stdout",
       "text": [
        "\n",
        "(819, -0.34904999999999997, -0.46604999999999996, 0.38122499999999998)"
       ]
      },
      {
       "output_type": "stream",
       "stream": "stdout",
       "text": [
        "\n",
        "(820, -0.66007499999999997, -0.57135000000000002, -0.73953749999999996)"
       ]
      },
      {
       "output_type": "stream",
       "stream": "stdout",
       "text": [
        "\n",
        "(821, -0.29347499999999999, -0.46507499999999996, -0.98377499999999996)"
       ]
      },
      {
       "output_type": "stream",
       "stream": "stdout",
       "text": [
        "\n",
        "(822, -0.45922499999999999, -0.42704999999999999, -0.78389999999999993)"
       ]
      },
      {
       "output_type": "stream",
       "stream": "stdout",
       "text": [
        "\n",
        "(823, -0.33929999999999999, -0.54307499999999997, -0.65812499999999996)"
       ]
      },
      {
       "output_type": "stream",
       "stream": "stdout",
       "text": [
        "\n",
        "(824, -0.0316875, -0.35392499999999999, -0.89797499999999997)"
       ]
      },
      {
       "output_type": "stream",
       "stream": "stdout",
       "text": [
        "\n",
        "(825, 0.36123749999999999, -0.13747499999999999, -0.83069999999999999)"
       ]
      },
      {
       "output_type": "stream",
       "stream": "stdout",
       "text": [
        "\n",
        "(826, 0.86774999999999991, 0.12675, -0.045824999999999998)"
       ]
      },
      {
       "output_type": "stream",
       "stream": "stdout",
       "text": [
        "\n",
        "(827, 0.82728749999999995, 0.14332499999999998, 0.59572499999999995)"
       ]
      },
      {
       "output_type": "stream",
       "stream": "stdout",
       "text": [
        "\n",
        "(828, 0.67957499999999993, 0.033149999999999999, 0.72149999999999992)"
       ]
      },
      {
       "output_type": "stream",
       "stream": "stdout",
       "text": [
        "\n",
        "(829, 0.60352499999999998, -0.081412499999999999, 0.68640000000000001)"
       ]
      },
      {
       "output_type": "stream",
       "stream": "stdout",
       "text": [
        "\n",
        "(830, 0.60839999999999994, 0.16769999999999999, 0.86872499999999997)"
       ]
      },
      {
       "output_type": "stream",
       "stream": "stdout",
       "text": [
        "\n",
        "(831, 0.45629999999999998, 0.28421249999999998, 0.81119999999999992)"
       ]
      },
      {
       "output_type": "stream",
       "stream": "stdout",
       "text": [
        "\n",
        "(832, 0.461175, 0.20231249999999998, 0.8034)"
       ]
      },
      {
       "output_type": "stream",
       "stream": "stdout",
       "text": [
        "\n",
        "(833, 0.40754999999999997, 0.39974999999999999, 0.83069999999999999)"
       ]
      },
      {
       "output_type": "stream",
       "stream": "stdout",
       "text": [
        "\n",
        "(834, 0.41778749999999998, 0.096525, 0.81314999999999993)"
       ]
      },
      {
       "output_type": "stream",
       "stream": "stdout",
       "text": [
        "\n",
        "(835, 0.62009999999999998, -0.229125, 0.86872499999999997)"
       ]
      },
      {
       "output_type": "stream",
       "stream": "stdout",
       "text": [
        "\n",
        "(836, 0.19012499999999999, -0.638625, 0.37927499999999997)"
       ]
      },
      {
       "output_type": "stream",
       "stream": "stdout",
       "text": [
        "\n",
        "(837, -0.387075, -0.85702499999999993, -0.70053749999999992)"
       ]
      },
      {
       "output_type": "stream",
       "stream": "stdout",
       "text": [
        "\n",
        "(838, -0.26422499999999999, -0.74490000000000001, -0.85312499999999991)"
       ]
      },
      {
       "output_type": "stream",
       "stream": "stdout",
       "text": [
        "\n",
        "(839, 0.11115, -0.43679999999999997, -1.0003499999999999)"
       ]
      },
      {
       "output_type": "stream",
       "stream": "stdout",
       "text": [
        "\n",
        "(840, -0.4977375, -0.065324999999999994, -0.65422499999999995)"
       ]
      },
      {
       "output_type": "stream",
       "stream": "stdout",
       "text": [
        "\n",
        "(841, -0.96817500000000001, -0.054599999999999996, 0.74490000000000001)"
       ]
      },
      {
       "output_type": "stream",
       "stream": "stdout",
       "text": [
        "\n",
        "(842, -0.35685, 0.19109999999999999, 0.96524999999999994)"
       ]
      },
      {
       "output_type": "stream",
       "stream": "stdout",
       "text": [
        "\n",
        "(843, 0.33442499999999997, 0.27299999999999996, 0.68737499999999996)"
       ]
      },
      {
       "output_type": "stream",
       "stream": "stdout",
       "text": [
        "\n",
        "(844, 0.7366125, 0.114075, 0.39389999999999997)"
       ]
      },
      {
       "output_type": "stream",
       "stream": "stdout",
       "text": [
        "\n",
        "(845, 0.86238749999999997, -0.1482, 0.0068249999999999995)"
       ]
      },
      {
       "output_type": "stream",
       "stream": "stdout",
       "text": [
        "\n",
        "(846, 0.79657499999999992, -0.64739999999999998, -0.49724999999999997)"
       ]
      },
      {
       "output_type": "stream",
       "stream": "stdout",
       "text": [
        "\n",
        "(847, 0.244725, -0.81168750000000001, -0.5655)"
       ]
      },
      {
       "output_type": "stream",
       "stream": "stdout",
       "text": [
        "\n",
        "(848, 0.186225, -0.84873749999999992, -0.44947499999999996)"
       ]
      },
      {
       "output_type": "stream",
       "stream": "stdout",
       "text": [
        "\n",
        "(849, 0.15404999999999999, -0.92624999999999991, -0.53722499999999995)"
       ]
      },
      {
       "output_type": "stream",
       "stream": "stdout",
       "text": [
        "\n",
        "(850, 0.00975, -0.82777499999999993, -0.42509999999999998)"
       ]
      },
      {
       "output_type": "stream",
       "stream": "stdout",
       "text": [
        "\n",
        "(851, -0.33052499999999996, -0.79072500000000001, -0.076049999999999993)"
       ]
      },
      {
       "output_type": "stream",
       "stream": "stdout",
       "text": [
        "\n",
        "(852, -0.64301249999999999, -0.56159999999999999, 0.56257499999999994)"
       ]
      },
      {
       "output_type": "stream",
       "stream": "stdout",
       "text": [
        "\n",
        "(853, -0.61619999999999997, -0.48945, 0.39487499999999998)"
       ]
      },
      {
       "output_type": "stream",
       "stream": "stdout",
       "text": [
        "\n",
        "(854, -0.55379999999999996, -0.77902499999999997, -0.58304999999999996)"
       ]
      },
      {
       "output_type": "stream",
       "stream": "stdout",
       "text": [
        "\n",
        "(855, -0.17549999999999999, -0.76439999999999997, -0.73319999999999996)"
       ]
      },
      {
       "output_type": "stream",
       "stream": "stdout",
       "text": [
        "\n",
        "(856, 0.15258749999999999, -0.76049999999999995, -0.49822499999999997)"
       ]
      },
      {
       "output_type": "stream",
       "stream": "stdout",
       "text": [
        "\n",
        "(857, 0.59962499999999996, -0.61132500000000001, -0.055574999999999999)"
       ]
      },
      {
       "output_type": "stream",
       "stream": "stdout",
       "text": [
        "\n",
        "(858, 0.81412499999999999, -0.36172499999999996, 0.51869999999999994)"
       ]
      },
      {
       "output_type": "stream",
       "stream": "stdout",
       "text": [
        "\n",
        "(859, 0.57037499999999997, 0.066299999999999998, 0.88237499999999991)"
       ]
      },
      {
       "output_type": "stream",
       "stream": "stdout",
       "text": [
        "\n",
        "(860, 0.044362499999999999, 0.025837499999999999, 1.0198499999999999)"
       ]
      },
      {
       "output_type": "stream",
       "stream": "stdout",
       "text": [
        "\n",
        "(861, -0.2013375, 0.29249999999999998, 1.0476375)"
       ]
      },
      {
       "output_type": "stream",
       "stream": "stdout",
       "text": [
        "\n",
        "(862, -0.48798749999999996, -0.29152499999999998, 0.47092499999999998)"
       ]
      },
      {
       "output_type": "stream",
       "stream": "stdout",
       "text": [
        "\n",
        "(863, -0.75367499999999998, -0.56745000000000001, 0.059475)"
       ]
      },
      {
       "output_type": "stream",
       "stream": "stdout",
       "text": [
        "\n",
        "(864, -0.788775, -0.66884999999999994, 0.13552500000000001)"
       ]
      },
      {
       "output_type": "stream",
       "stream": "stdout",
       "text": [
        "\n",
        "(865, -0.89456249999999993, -0.50407499999999994, 0.050699999999999995)"
       ]
      },
      {
       "output_type": "stream",
       "stream": "stdout",
       "text": [
        "\n",
        "(866, -1.026675, -0.24862499999999998, 0.33637499999999998)"
       ]
      },
      {
       "output_type": "stream",
       "stream": "stdout",
       "text": [
        "\n",
        "(867, -0.65715000000000001, -0.24277499999999999, 0.79169999999999996)"
       ]
      },
      {
       "output_type": "stream",
       "stream": "stdout",
       "text": [
        "\n",
        "(868, -0.77512499999999995, -0.00975, 0.55964999999999998)"
       ]
      },
      {
       "output_type": "stream",
       "stream": "stdout",
       "text": [
        "\n",
        "(869, -0.8619, -0.11699999999999999, 0.5655)"
       ]
      },
      {
       "output_type": "stream",
       "stream": "stdout",
       "text": [
        "\n",
        "(870, -0.69566249999999996, -0.033149999999999999, 0.71662499999999996)"
       ]
      },
      {
       "output_type": "stream",
       "stream": "stdout",
       "text": [
        "\n",
        "(871, -0.63521249999999996, -0.081412499999999999, 0.72539999999999993)"
       ]
      },
      {
       "output_type": "stream",
       "stream": "stdout",
       "text": [
        "\n",
        "(872, -0.54210000000000003, -0.14235, 0.79169999999999996)"
       ]
      },
      {
       "output_type": "stream",
       "stream": "stdout",
       "text": [
        "\n",
        "(873, -0.55184999999999995, -0.28567500000000001, 0.81997500000000001)"
       ]
      },
      {
       "output_type": "stream",
       "stream": "stdout",
       "text": [
        "\n",
        "(874, -0.55672500000000003, -0.57329999999999992, 0.54404999999999992)"
       ]
      },
      {
       "output_type": "stream",
       "stream": "stdout",
       "text": [
        "\n",
        "(875, -0.72734999999999994, -0.41242499999999999, 0.31979999999999997)"
       ]
      },
      {
       "output_type": "stream",
       "stream": "stdout",
       "text": [
        "\n",
        "(876, -0.83362499999999995, -0.72734999999999994, 0.42509999999999998)"
       ]
      },
      {
       "output_type": "stream",
       "stream": "stdout",
       "text": [
        "\n",
        "(877, -0.67859999999999998, -0.22424999999999998, 0.79852499999999993)"
       ]
      },
      {
       "output_type": "stream",
       "stream": "stdout",
       "text": [
        "\n",
        "(878, -0.43679999999999997, 0.52649999999999997, 0.53039999999999998)"
       ]
      },
      {
       "output_type": "stream",
       "stream": "stdout",
       "text": [
        "\n",
        "(879, -0.16916249999999999, 1.0023, -0.015599999999999999)"
       ]
      },
      {
       "output_type": "stream",
       "stream": "stdout",
       "text": [
        "\n",
        "(880, -0.86433749999999998, 0.59182499999999993, 0.054599999999999996)"
       ]
      },
      {
       "output_type": "stream",
       "stream": "stdout",
       "text": [
        "\n",
        "(881, -0.94867499999999993, -0.20962499999999998, -0.27689999999999998)"
       ]
      },
      {
       "output_type": "stream",
       "stream": "stdout",
       "text": [
        "\n",
        "(882, -0.53478749999999997, -0.76049999999999995, -0.54015000000000002)"
       ]
      },
      {
       "output_type": "stream",
       "stream": "stdout",
       "text": [
        "\n",
        "(883, -0.22034999999999999, -0.54015000000000002, -0.82777499999999993)"
       ]
      },
      {
       "output_type": "stream",
       "stream": "stdout",
       "text": [
        "\n",
        "(884, -0.30322499999999997, -0.50017499999999993, -0.786825)"
       ]
      },
      {
       "output_type": "stream",
       "stream": "stdout",
       "text": [
        "\n",
        "(885, -0.58548749999999994, -0.70492499999999991, -0.0068249999999999995)"
       ]
      },
      {
       "output_type": "stream",
       "stream": "stdout",
       "text": [
        "\n",
        "(886, -0.22619999999999998, -0.66494999999999993, 0.86872499999999997)"
       ]
      },
      {
       "output_type": "stream",
       "stream": "stdout",
       "text": [
        "\n",
        "(887, 0.24764999999999998, 0.13016249999999999, 0.8555625)"
       ]
      },
      {
       "output_type": "stream",
       "stream": "stdout",
       "text": [
        "\n",
        "(888, 0.47628749999999997, 0.48701249999999996, 0.60254999999999992)"
       ]
      },
      {
       "output_type": "stream",
       "stream": "stdout",
       "text": [
        "\n",
        "(889, 0.46215000000000001, 0.80632499999999996, 0.33734999999999998)"
       ]
      },
      {
       "output_type": "stream",
       "stream": "stdout",
       "text": [
        "\n",
        "(890, 0.080437499999999995, 1.0115624999999999, 0.26715)"
       ]
      },
      {
       "output_type": "stream",
       "stream": "stdout",
       "text": [
        "\n",
        "(891, -0.21742499999999998, 0.935025, 0.10139999999999999)"
       ]
      },
      {
       "output_type": "stream",
       "stream": "stdout",
       "text": [
        "\n",
        "(892, -0.45337499999999997, 0.82484999999999997, 0.297375)"
       ]
      },
      {
       "output_type": "stream",
       "stream": "stdout",
       "text": [
        "\n",
        "(893, -0.92332499999999995, 0.058499999999999996, 0.16574999999999998)"
       ]
      },
      {
       "output_type": "stream",
       "stream": "stdout",
       "text": [
        "\n",
        "(894, -0.75854999999999995, -0.74879999999999991, -0.33637499999999998)"
       ]
      },
      {
       "output_type": "stream",
       "stream": "stdout",
       "text": [
        "\n",
        "(895, -0.36903749999999996, -0.85507499999999992, -0.43679999999999997)"
       ]
      },
      {
       "output_type": "stream",
       "stream": "stdout",
       "text": [
        "\n",
        "(896, -0.30809999999999998, -0.90382499999999999, -0.34612499999999996)"
       ]
      },
      {
       "output_type": "stream",
       "stream": "stdout",
       "text": [
        "\n",
        "(897, -0.43338749999999998, -0.93014999999999992, -0.15892499999999998)"
       ]
      },
      {
       "output_type": "stream",
       "stream": "stdout",
       "text": [
        "\n",
        "(898, -0.41535, -0.82582499999999992, -0.069224999999999995)"
       ]
      },
      {
       "output_type": "stream",
       "stream": "stdout",
       "text": [
        "\n",
        "(899, -0.43338749999999998, -0.91649999999999998, 0.039974999999999997)"
       ]
      },
      {
       "output_type": "stream",
       "stream": "stdout",
       "text": [
        "\n",
        "(900, -0.461175, -0.77512499999999995, 0.34320000000000001)"
       ]
      },
      {
       "output_type": "stream",
       "stream": "stdout",
       "text": [
        "\n",
        "(901, -0.48945, -0.75952500000000001, 0.39389999999999997)"
       ]
      },
      {
       "output_type": "stream",
       "stream": "stdout",
       "text": [
        "\n",
        "(902, -0.3797625, -0.77122499999999994, 0.55379999999999996)"
       ]
      },
      {
       "output_type": "stream",
       "stream": "stdout",
       "text": [
        "\n",
        "(903, 0.080437499999999995, -0.50309999999999999, 0.77268749999999997)"
       ]
      },
      {
       "output_type": "stream",
       "stream": "stdout",
       "text": [
        "\n",
        "(904, 0.56745000000000001, 0.62790000000000001, 0.164775)"
       ]
      },
      {
       "output_type": "stream",
       "stream": "stdout",
       "text": [
        "\n",
        "(905, 0.45922499999999999, 0.53820000000000001, -1.0208249999999999)"
       ]
      },
      {
       "output_type": "stream",
       "stream": "stdout",
       "text": [
        "\n",
        "(906, 0.41144999999999998, 0.43095, -0.70979999999999999)"
       ]
      },
      {
       "output_type": "stream",
       "stream": "stdout",
       "text": [
        "\n",
        "(907, 0.79559999999999997, 0.46604999999999996, 0.21157499999999999)"
       ]
      },
      {
       "output_type": "stream",
       "stream": "stdout",
       "text": [
        "\n",
        "(908, 0.50895000000000001, 0.014624999999999999, 0.99839999999999995)"
       ]
      },
      {
       "output_type": "stream",
       "stream": "stdout",
       "text": [
        "\n",
        "(909, -0.1993875, -0.56062499999999993, 0.71565000000000001)"
       ]
      },
      {
       "output_type": "stream",
       "stream": "stdout",
       "text": [
        "\n",
        "(910, -0.5572125, -0.67177500000000001, 0.45337499999999997)"
       ]
      },
      {
       "output_type": "stream",
       "stream": "stdout",
       "text": [
        "\n",
        "(911, -0.45727499999999999, -0.92819999999999991, 0.16769999999999999)"
       ]
      },
      {
       "output_type": "stream",
       "stream": "stdout",
       "text": [
        "\n",
        "(912, -0.095549999999999996, -0.87262499999999998, -0.2145)"
       ]
      },
      {
       "output_type": "stream",
       "stream": "stdout",
       "text": [
        "\n",
        "(913, 0.13064999999999999, -0.84337499999999999, -0.37098749999999997)"
       ]
      },
      {
       "output_type": "stream",
       "stream": "stdout",
       "text": [
        "\n",
        "(914, 0.35636249999999997, -0.85117500000000001, -0.30712499999999998)"
       ]
      },
      {
       "output_type": "stream",
       "stream": "stdout",
       "text": [
        "\n",
        "(915, 0.41827500000000001, -0.83849999999999991, -0.28567500000000001)"
       ]
      },
      {
       "output_type": "stream",
       "stream": "stdout",
       "text": [
        "\n",
        "(916, 0.60547499999999999, -0.58402500000000002, -0.461175)"
       ]
      },
      {
       "output_type": "stream",
       "stream": "stdout",
       "text": [
        "\n",
        "(917, 0.78731249999999997, -0.36708749999999996, -0.52649999999999997)"
       ]
      },
      {
       "output_type": "stream",
       "stream": "stdout",
       "text": [
        "\n",
        "(918, 0.69127499999999997, -0.098474999999999993, -0.86969999999999992)"
       ]
      },
      {
       "output_type": "stream",
       "stream": "stdout",
       "text": [
        "\n",
        "(919, 0.25155, -0.19792499999999999, -1.0373999999999999)"
       ]
      },
      {
       "output_type": "stream",
       "stream": "stdout",
       "text": [
        "\n",
        "(920, -0.053624999999999999, -0.52552500000000002, -0.83216249999999992)"
       ]
      },
      {
       "output_type": "stream",
       "stream": "stdout",
       "text": [
        "\n",
        "(921, -0.34904999999999997, -0.76829999999999998, -0.46994999999999998)"
       ]
      },
      {
       "output_type": "stream",
       "stream": "stdout",
       "text": [
        "\n",
        "(922, -0.2227875, -0.73856250000000001, -0.580125)"
       ]
      },
      {
       "output_type": "stream",
       "stream": "stdout",
       "text": [
        "\n",
        "(923, -0.35685, -0.78584999999999994, -0.281775)"
       ]
      },
      {
       "output_type": "stream",
       "stream": "stdout",
       "text": [
        "\n",
        "(924, -0.609375, -0.77024999999999999, 0.12675)"
       ]
      },
      {
       "output_type": "stream",
       "stream": "stdout",
       "text": [
        "\n",
        "(925, -0.61522500000000002, -0.297375, 0.96524999999999994)"
       ]
      },
      {
       "output_type": "stream",
       "stream": "stdout",
       "text": [
        "\n",
        "(926, -0.058012499999999995, 0.33442499999999997, 0.77463749999999998)"
       ]
      },
      {
       "output_type": "stream",
       "stream": "stdout",
       "text": [
        "\n",
        "(927, 0.31151249999999997, 0.77805000000000002, 0.46897499999999998)"
       ]
      },
      {
       "output_type": "stream",
       "stream": "stdout",
       "text": [
        "\n",
        "(928, 0.19012499999999999, 0.94087499999999991, 0.32955000000000001)"
       ]
      },
      {
       "output_type": "stream",
       "stream": "stdout",
       "text": [
        "\n",
        "(929, -0.11212499999999999, 0.76927499999999993, 0.31882499999999997)"
       ]
      },
      {
       "output_type": "stream",
       "stream": "stdout",
       "text": [
        "\n",
        "(930, -0.79657499999999992, -0.67664999999999997, -0.0316875)"
       ]
      },
      {
       "output_type": "stream",
       "stream": "stdout",
       "text": [
        "\n",
        "(931, -0.30907499999999999, -0.72101249999999995, -0.81899999999999995)"
       ]
      },
      {
       "output_type": "stream",
       "stream": "stdout",
       "text": [
        "\n",
        "(932, 0.281775, -0.024374999999999997, -0.98036249999999991)"
       ]
      },
      {
       "output_type": "stream",
       "stream": "stdout",
       "text": [
        "\n",
        "(933, -0.40511249999999999, 0.28762499999999996, -0.85799999999999998)"
       ]
      },
      {
       "output_type": "stream",
       "stream": "stdout",
       "text": [
        "\n",
        "(934, -0.67811250000000001, -0.64788749999999995, 0.33686250000000001)"
       ]
      },
      {
       "output_type": "stream",
       "stream": "stdout",
       "text": [
        "\n",
        "(935, -0.0068249999999999995, -0.1716, 0.98231249999999992)"
       ]
      },
      {
       "output_type": "stream",
       "stream": "stdout",
       "text": [
        "\n",
        "(936, 0.58889999999999998, 0.43777499999999997, 0.47287499999999999)"
       ]
      },
      {
       "output_type": "stream",
       "stream": "stdout",
       "text": [
        "\n",
        "(937, 0.49627499999999997, 0.81704999999999994, 0.21352499999999999)"
       ]
      },
      {
       "output_type": "stream",
       "stream": "stdout",
       "text": [
        "\n",
        "(938, 0.11895, 1.0656749999999999, 0.069224999999999995)"
       ]
      },
      {
       "output_type": "stream",
       "stream": "stdout",
       "text": [
        "\n",
        "(939, 0.12479999999999999, 0.9204, 0.548925)"
       ]
      },
      {
       "output_type": "stream",
       "stream": "stdout",
       "text": [
        "\n",
        "(940, 0.22522499999999998, 0.61717499999999992, 0.55136249999999998)"
       ]
      },
      {
       "output_type": "stream",
       "stream": "stdout",
       "text": [
        "\n",
        "(941, -0.19305, 0.64106249999999998, 0.50066250000000001)"
       ]
      },
      {
       "output_type": "stream",
       "stream": "stdout",
       "text": [
        "\n",
        "(942, -0.68835000000000002, 0.53527499999999995, -0.081900000000000001)"
       ]
      },
      {
       "output_type": "stream",
       "stream": "stdout",
       "text": [
        "\n",
        "(943, -0.85312499999999991, 0.010725, -1.2470250000000001)"
       ]
      },
      {
       "output_type": "stream",
       "stream": "stdout",
       "text": [
        "\n",
        "(944, 0.1993875, 0.40608749999999999, -0.818025)"
       ]
      },
      {
       "output_type": "stream",
       "stream": "stdout",
       "text": [
        "\n",
        "(945, 0.1794, 0.73027500000000001, -1.055925)"
       ]
      },
      {
       "output_type": "stream",
       "stream": "stdout",
       "text": [
        "\n",
        "(946, -0.69371249999999995, 0.31004999999999999, 0.114075)"
       ]
      },
      {
       "output_type": "stream",
       "stream": "stdout",
       "text": [
        "\n",
        "(947, -0.97792499999999993, -0.0068249999999999995, 0.83655000000000002)"
       ]
      },
      {
       "output_type": "stream",
       "stream": "stdout",
       "text": [
        "\n",
        "(948, -0.22424999999999998, -0.357825, 0.87262499999999998)"
       ]
      },
      {
       "output_type": "stream",
       "stream": "stdout",
       "text": [
        "\n",
        "(949, 0.62643749999999998, -0.4446, 0.24277499999999999)"
       ]
      },
      {
       "output_type": "stream",
       "stream": "stdout",
       "text": [
        "\n",
        "(950, 0.85897499999999993, -0.44752500000000001, 0.092624999999999999)"
       ]
      },
      {
       "output_type": "stream",
       "stream": "stdout",
       "text": [
        "\n",
        "(951, 0.91649999999999998, -0.30712499999999998, -0.4602)"
       ]
      },
      {
       "output_type": "stream",
       "stream": "stdout",
       "text": [
        "\n",
        "(952, 0.88286249999999999, -0.29152499999999998, -0.33149999999999996)"
       ]
      },
      {
       "output_type": "stream",
       "stream": "stdout",
       "text": [
        "\n",
        "(953, 0.96524999999999994, -0.34612499999999996, -0.62009999999999998)"
       ]
      },
      {
       "output_type": "stream",
       "stream": "stdout",
       "text": [
        "\n",
        "(954, 0.61912499999999993, -0.40413749999999998, -0.788775)"
       ]
      },
      {
       "output_type": "stream",
       "stream": "stdout",
       "text": [
        "\n",
        "(955, 0.50700000000000001, -0.199875, -0.91259999999999997)"
       ]
      },
      {
       "output_type": "stream",
       "stream": "stdout",
       "text": [
        "\n",
        "(956, 0.56988749999999999, -0.31492500000000001, -0.94672499999999993)"
       ]
      },
      {
       "output_type": "stream",
       "stream": "stdout",
       "text": [
        "\n",
        "(957, 0.04095, -0.77707499999999996, -0.490425)"
       ]
      },
      {
       "output_type": "stream",
       "stream": "stdout",
       "text": [
        "\n",
        "(958, -0.51285000000000003, -0.76732499999999992, 0.49383749999999998)"
       ]
      },
      {
       "output_type": "stream",
       "stream": "stdout",
       "text": [
        "\n",
        "(959, -0.34076249999999997, -0.53186250000000002, 0.81168750000000001)"
       ]
      },
      {
       "output_type": "stream",
       "stream": "stdout",
       "text": [
        "\n",
        "(960, -0.015599999999999999, -0.40413749999999998, 0.85507499999999992)"
       ]
      },
      {
       "output_type": "stream",
       "stream": "stdout",
       "text": [
        "\n",
        "(961, 0.063375000000000001, -0.54015000000000002, 0.76342500000000002)"
       ]
      },
      {
       "output_type": "stream",
       "stream": "stdout",
       "text": [
        "\n",
        "(962, 0.6552, -0.48457499999999998, 0.42802499999999999)"
       ]
      },
      {
       "output_type": "stream",
       "stream": "stdout",
       "text": [
        "\n",
        "(963, 1.0105875, -0.033149999999999999, 0.66689999999999994)"
       ]
      },
      {
       "output_type": "stream",
       "stream": "stdout",
       "text": [
        "\n",
        "(964, 0.41291249999999996, -0.48749999999999999, 0.64642499999999992)"
       ]
      },
      {
       "output_type": "stream",
       "stream": "stdout",
       "text": [
        "\n",
        "(965, -0.72052499999999997, -0.61424999999999996, 0.11115)"
       ]
      },
      {
       "output_type": "stream",
       "stream": "stdout",
       "text": [
        "\n",
        "(966, -0.53527499999999995, -0.48652499999999999, -0.93599999999999994)"
       ]
      },
      {
       "output_type": "stream",
       "stream": "stdout",
       "text": [
        "\n",
        "(967, -0.12089999999999999, 0.30712499999999998, -0.93892500000000001)"
       ]
      },
      {
       "output_type": "stream",
       "stream": "stdout",
       "text": [
        "\n",
        "(968, -0.82874999999999999, -0.26227499999999998, -0.43290000000000001)"
       ]
      },
      {
       "output_type": "stream",
       "stream": "stdout",
       "text": [
        "\n",
        "(969, -0.66592499999999999, -0.45142499999999997, 0.87067499999999998)"
       ]
      },
      {
       "output_type": "stream",
       "stream": "stdout",
       "text": [
        "\n",
        "(970, 0.223275, 0.23497499999999999, 0.52844999999999998)"
       ]
      },
      {
       "output_type": "stream",
       "stream": "stdout",
       "text": [
        "\n",
        "(971, 0.51285000000000003, 0.60060000000000002, 0.45044999999999996)"
       ]
      },
      {
       "output_type": "stream",
       "stream": "stdout",
       "text": [
        "\n",
        "(972, 0.57817499999999999, 0.82972499999999993, -0.156975)"
       ]
      },
      {
       "output_type": "stream",
       "stream": "stdout",
       "text": [
        "\n",
        "(973, 0.72344999999999993, 0.19548749999999998, -0.65227499999999994)"
       ]
      },
      {
       "output_type": "stream",
       "stream": "stdout",
       "text": [
        "\n",
        "(974, 0.55964999999999998, -0.8931, -0.48993749999999997)"
       ]
      },
      {
       "output_type": "stream",
       "stream": "stdout",
       "text": [
        "\n",
        "(975, -0.1716, -0.89894999999999992, -0.34514999999999996)"
       ]
      },
      {
       "output_type": "stream",
       "stream": "stdout",
       "text": [
        "\n",
        "(976, -0.2374125, -0.82484999999999997, -0.58109999999999995)"
       ]
      },
      {
       "output_type": "stream",
       "stream": "stdout",
       "text": [
        "\n",
        "(977, 0.1106625, -0.8097375, -0.62692499999999995)"
       ]
      },
      {
       "output_type": "stream",
       "stream": "stdout",
       "text": [
        "\n",
        "(978, 0.55184999999999995, -0.68932499999999997, 0.080924999999999997)"
       ]
      },
      {
       "output_type": "stream",
       "stream": "stdout",
       "text": [
        "\n",
        "(979, 0.57524999999999993, -0.13552500000000001, 1.005225)"
       ]
      },
      {
       "output_type": "stream",
       "stream": "stdout",
       "text": [
        "\n",
        "(980, -0.229125, 0.19792499999999999, 0.91942499999999994)"
       ]
      },
      {
       "output_type": "stream",
       "stream": "stdout",
       "text": [
        "\n",
        "(981, -0.59962499999999996, -0.17745, 0.17745)"
       ]
      },
      {
       "output_type": "stream",
       "stream": "stdout",
       "text": [
        "\n",
        "(982, -0.64837499999999992, -0.57719999999999994, -0.82289999999999996)"
       ]
      },
      {
       "output_type": "stream",
       "stream": "stdout",
       "text": [
        "\n",
        "(983, -0.014624999999999999, 0.034124999999999996, -1.1124749999999999)"
       ]
      },
      {
       "output_type": "stream",
       "stream": "stdout",
       "text": [
        "\n",
        "(984, -0.52844999999999998, 0.07897499999999999, -0.57427499999999998)"
       ]
      },
      {
       "output_type": "stream",
       "stream": "stdout",
       "text": [
        "\n",
        "(985, -0.61473749999999994, -0.72052499999999997, 0.37927499999999997)"
       ]
      },
      {
       "output_type": "stream",
       "stream": "stdout",
       "text": [
        "\n",
        "(986, -0.38317499999999999, -0.096525, 0.99352499999999999)"
       ]
      },
      {
       "output_type": "stream",
       "stream": "stdout",
       "text": [
        "\n",
        "(987, 0.2457, 0.55672500000000003, 0.59670000000000001)"
       ]
      },
      {
       "output_type": "stream",
       "stream": "stdout",
       "text": [
        "\n",
        "(988, 0.3495375, 0.90041249999999995, 0.26422499999999999)"
       ]
      },
      {
       "output_type": "stream",
       "stream": "stdout",
       "text": [
        "\n",
        "(989, 0.069224999999999995, 1.0203374999999999, 0.22132499999999999)"
       ]
      },
      {
       "output_type": "stream",
       "stream": "stdout",
       "text": [
        "\n",
        "(990, -0.4080375, 0.86628749999999999, 0.114075)"
       ]
      },
      {
       "output_type": "stream",
       "stream": "stdout",
       "text": [
        "\n",
        "(991, -0.85117500000000001, 0.43338749999999998, 0.024374999999999997)"
       ]
      },
      {
       "output_type": "stream",
       "stream": "stdout",
       "text": [
        "\n",
        "(992, -0.85507499999999992, -0.64544999999999997, -0.50017499999999993)"
       ]
      },
      {
       "output_type": "stream",
       "stream": "stdout",
       "text": [
        "\n",
        "(993, -0.29152499999999998, -0.45922499999999999, -0.99449999999999994)"
       ]
      },
      {
       "output_type": "stream",
       "stream": "stdout",
       "text": [
        "\n",
        "(994, -0.18427499999999999, 0.48359999999999997, -0.89212499999999995)"
       ]
      },
      {
       "output_type": "stream",
       "stream": "stdout",
       "text": [
        "\n",
        "(995, -0.19597499999999998, 0.47921249999999999, -0.93599999999999994)"
       ]
      },
      {
       "output_type": "stream",
       "stream": "stdout",
       "text": [
        "\n",
        "(996, -0.36367499999999997, 0.67079999999999995, -0.66251249999999995)"
       ]
      },
      {
       "output_type": "stream",
       "stream": "stdout",
       "text": [
        "\n",
        "(997, -0.28079999999999999, 0.86872499999999997, 0.03705)"
       ]
      },
      {
       "output_type": "stream",
       "stream": "stdout",
       "text": [
        "\n",
        "(998, -0.40365000000000001, 0.81119999999999992, 0.33296249999999999)"
       ]
      },
      {
       "output_type": "stream",
       "stream": "stdout",
       "text": [
        "\n",
        "(999, -0.51528750000000001, 0.53039999999999998, 0.71662499999999996)"
       ]
      },
      {
       "output_type": "stream",
       "stream": "stdout",
       "text": [
        "\n"
       ]
      }
     ],
     "prompt_number": 72
    },
    {
     "cell_type": "code",
     "collapsed": false,
     "input": [
      "np.savez(\"calibration_data_set\", x=x, y=y, z=z)"
     ],
     "language": "python",
     "metadata": {},
     "outputs": [],
     "prompt_number": 73
    },
    {
     "cell_type": "markdown",
     "metadata": {},
     "source": [
      "Nam\u011b\u0159en\u00e1 data m\u016f\u017eeme tak\u00e9 z\u00edskat z p\u0159edem ulo\u017een\u00e9ho souboru. V n\u00e1sleduj\u00edc\u00edm bloku je otev\u0159en soubor s referen\u010dn\u00edmi daty. "
     ]
    },
    {
     "cell_type": "code",
     "collapsed": false,
     "input": [
      "data = np.load('./calibration_data_set.npz')\n",
      "x=data['x']\n",
      "y=data['y']\n",
      "z=data['z']"
     ],
     "language": "python",
     "metadata": {},
     "outputs": [],
     "prompt_number": 1
    },
    {
     "cell_type": "code",
     "collapsed": false,
     "input": [
      "from mpl_toolkits.mplot3d.axes3d import Axes3D\n",
      "%pylab qt\n",
      "#%pylab inline\n",
      "fig = plt.figure()\n",
      "ax = Axes3D(fig)\n",
      "p = ax.scatter(x, y, z)\n",
      "#pyplot.show()\n"
     ],
     "language": "python",
     "metadata": {},
     "outputs": [
      {
       "output_type": "stream",
       "stream": "stdout",
       "text": [
        "Populating the interactive namespace from numpy and matplotlib\n"
       ]
      }
     ],
     "prompt_number": 3
    },
    {
     "cell_type": "code",
     "collapsed": false,
     "input": [
      "amin(p)"
     ],
     "language": "python",
     "metadata": {},
     "outputs": [
      {
       "metadata": {},
       "output_type": "pyout",
       "prompt_number": 7,
       "text": [
        "96972.25"
       ]
      }
     ],
     "prompt_number": 7
    },
    {
     "cell_type": "code",
     "collapsed": false,
     "input": [
      "amax(p)"
     ],
     "language": "python",
     "metadata": {},
     "outputs": [
      {
       "metadata": {},
       "output_type": "pyout",
       "prompt_number": 8,
       "text": [
        "96838.75"
       ]
      }
     ],
     "prompt_number": 8
    },
    {
     "cell_type": "code",
     "collapsed": false,
     "input": [
      "std(p)"
     ],
     "language": "python",
     "metadata": {},
     "outputs": [
      {
       "metadata": {},
       "output_type": "pyout",
       "prompt_number": 9,
       "text": [
        "2.3585270827361722"
       ]
      }
     ],
     "prompt_number": 9
    },
    {
     "cell_type": "code",
     "collapsed": false,
     "input": [
      "plt.plot(p)"
     ],
     "language": "python",
     "metadata": {},
     "outputs": [
      {
       "metadata": {},
       "output_type": "pyout",
       "prompt_number": 9,
       "text": [
        "[<matplotlib.lines.Line2D at 0xa00bb2c>]"
       ]
      },
      {
       "metadata": {},
       "output_type": "display_data",
       "png": "[encoded data removed]",
       "text": [
        "<matplotlib.figure.Figure at 0x9eb46cc>"
       ]
      }
     ],
     "prompt_number": 9
    },
    {
     "cell_type": "code",
     "collapsed": false,
     "input": [
      "plt.plot(t)"
     ],
     "language": "python",
     "metadata": {},
     "outputs": [
      {
       "metadata": {},
       "output_type": "pyout",
       "prompt_number": 11,
       "text": [
        "[<matplotlib.lines.Line2D at 0x9ee51ec>]"
       ]
      },
      {
       "metadata": {},
       "output_type": "display_data",
       "png": "[encoded data removed]",
       "text": [
        "<matplotlib.figure.Figure at 0x9d764cc>"
       ]
      }
     ],
     "prompt_number": 11
    },
    {
     "cell_type": "code",
     "collapsed": false,
     "input": [],
     "language": "python",
     "metadata": {},
     "outputs": []
    }
   ],
   "metadata": {}
  }
 ]
}